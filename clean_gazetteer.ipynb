{
 "cells": [
  {
   "cell_type": "code",
   "execution_count": 4,
   "metadata": {},
   "outputs": [],
   "source": [
    "import pandas as pd"
   ]
  },
  {
   "cell_type": "code",
   "execution_count": 5,
   "metadata": {},
   "outputs": [],
   "source": [
    "def clean_gazetteer(columns: list, featureclass: list, numLines: int=None, **kwargs):\n",
    "\n",
    "    if numLines != None:\n",
    "        chunksize = numLines // 1000\n",
    "    else:\n",
    "        chunksize = 1000\n",
    "\n",
    "    iter_csv = pd.read_csv(\n",
    "        **kwargs,\n",
    "        iterator=True,\n",
    "        chunksize=chunksize,\n",
    "        low_memory=False\n",
    "    )\n",
    "\n",
    "    # df = pd.concat([chunk[chunk['featureclass'] in featureclass] for chunk in iter_csv])\n",
    "\n",
    "    lyst = []\n",
    "\n",
    "    for i, chunk in enumerate(iter_csv):\n",
    "\n",
    "        # ATTENTION: Two conditions\n",
    "        lyst.append(chunk[(chunk[\"FC\"].isin(featureclass))][columns]) # & (chunk[\"NT\"] == \"C\")])\n",
    "\n",
    "        if i % 10 == 0:\n",
    "            print(f\"{i} of {int(numLines/chunksize)} chunks ({round((i/int(numLines/chunksize)), 3) * 100} %)\", end=\"\\r\", flush=True)\n",
    "\n",
    "    print()\n",
    "    print(\"Now concatenating chunks...\")\n",
    "    df = pd.concat(lyst)\n",
    "\n",
    "\n",
    "    return df"
   ]
  },
  {
   "cell_type": "code",
   "execution_count": 6,
   "metadata": {},
   "outputs": [
    {
     "name": "stdout",
     "output_type": "stream",
     "text": [
      "1000 of 1000 chunks (100.0 %)99999999 %))\n",
      "Now concatenating chunks...\n"
     ]
    }
   ],
   "source": [
    "    # world = clean_gazetteer(\n",
    "    #     path=\"data/geonames/allCountries.txt\",\n",
    "    #     featureclass=[\"A\", \"T\", \"P\"],\n",
    "    #     names=[\"geonameid\", \"name\", \"asciiname\", \"alternatenames\", \"latitude\", \"longitude\",\n",
    "    #             \"featureclass\", \"featurecode\", \"countrycode\", \"cc2\", \"admin1code\", \"admin2code\",\n",
    "    #             \"admin3code\", \"admin4code\", \"population\", \"elevation\",\n",
    "    #             \"dem\", \"timezone\", \"modificationdate\"]\n",
    "    # )\n",
    "\n",
    "\n",
    "world = clean_gazetteer(\n",
    "    columns=['LAT', 'LONG', 'FC', 'CC1', 'NT', 'SORT_NAME_RO', 'FULL_NAME_RO',\n",
    "    'FULL_NAME_ND_RO', 'SORT_NAME_RG', 'FULL_NAME_RG', 'FULL_NAME_ND_RG'],\n",
    "    featureclass=[\"A\", \"P\"],# , \"P\"],\n",
    "    numLines=13516708,\n",
    "    filepath_or_buffer=\"data/nga/countries.txt\",\n",
    "    delimiter=\"\\t\",\n",
    "    header=0\n",
    ")\n",
    "\n",
    "    "
   ]
  },
  {
   "cell_type": "code",
   "execution_count": 7,
   "metadata": {},
   "outputs": [],
   "source": [
    "world.to_csv(\"data/nga/countries_administrative_populated.csv\")"
   ]
  },
  {
   "cell_type": "code",
   "execution_count": null,
   "metadata": {},
   "outputs": [],
   "source": []
  }
 ],
 "metadata": {
  "interpreter": {
   "hash": "1e314c97b12aec134f3028f2e77dd49d8c390952253bab9d98e991bb369ae235"
  },
  "kernelspec": {
   "display_name": "Python 3.8.12 64-bit ('geo871': conda)",
   "language": "python",
   "name": "python3"
  },
  "language_info": {
   "codemirror_mode": {
    "name": "ipython",
    "version": 3
   },
   "file_extension": ".py",
   "mimetype": "text/x-python",
   "name": "python",
   "nbconvert_exporter": "python",
   "pygments_lexer": "ipython3",
   "version": "3.8.12"
  },
  "orig_nbformat": 4
 },
 "nbformat": 4,
 "nbformat_minor": 2
}
