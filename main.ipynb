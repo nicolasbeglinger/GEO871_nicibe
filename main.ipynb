{
 "cells": [
  {
   "cell_type": "markdown",
   "id": "12f7ad69",
   "metadata": {},
   "source": [
    "## Import modules"
   ]
  },
  {
   "cell_type": "code",
   "execution_count": 1,
   "id": "98e238b5",
   "metadata": {},
   "outputs": [],
   "source": [
    "import random\n",
    "import inspect\n",
    "import re\n",
    "import os\n",
    "import math\n",
    "\n",
    "\n",
    "import pandas as pd\n",
    "import geopandas as gpd\n",
    "import folium\n",
    "from folium import plugins\n",
    "import nltk\n",
    "\n",
    "\n",
    "import html2text"
   ]
  },
  {
   "cell_type": "markdown",
   "id": "590e272a",
   "metadata": {},
   "source": [
    "## Minor Functions"
   ]
  },
  {
   "cell_type": "markdown",
   "id": "a0705d3b",
   "metadata": {},
   "source": [
    "Define function to debug"
   ]
  },
  {
   "cell_type": "code",
   "execution_count": 2,
   "id": "d4c1d27c",
   "metadata": {},
   "outputs": [],
   "source": [
    "def prinfo(*args, **kwargs) -> None:\n",
    "    \"\"\"Prints arguments in with the name beforehand:\n",
    "    example:\n",
    "    x = 5\n",
    "    print(x)\n",
    "\n",
    "    #prints \"x = 5\"\n",
    "    \"\"\"\n",
    "\n",
    "    frame = inspect.currentframe().f_back\n",
    "    all_input = inspect.getframeinfo(frame).code_context[0]\n",
    "    filtered_input = re.search(r\"\\((.*)\\)\", all_input).group(1)\n",
    "    split_input = filtered_input.split(\", \")\n",
    "\n",
    "    if 'newline' in kwargs:\n",
    "        newlinestring = \"\\n\" if kwargs['newline'] else \"\"\n",
    "    else:\n",
    "        newlinestring = \"\"\n",
    "\n",
    "    for var, val in zip(split_input, args):\n",
    "        print(f\"{var} = {newlinestring}{val}\")"
   ]
  },
  {
   "cell_type": "markdown",
   "id": "e2b422d0",
   "metadata": {},
   "source": [
    "Define function to give information about the progress of reading the csv"
   ]
  },
  {
   "cell_type": "code",
   "execution_count": 3,
   "id": "97242751",
   "metadata": {},
   "outputs": [],
   "source": [
    "\n",
    "\n",
    "def read_csv_in_chunks(path: str, n_lines: int, name_col: str, **read_params) -> pd.DataFrame:\n",
    "    \"\"\"Simmilar to pd.read_csv, but in chunks that enable to see the progress\n",
    "\n",
    "    Returns:\n",
    "        [pandas.DataFrame]: [description]\n",
    "    \"\"\"\n",
    "\n",
    "    if 'chunksize' not in read_params or read_params['chunksize'] < 1:\n",
    "        read_params['chunksize'] = 80000\n",
    "\n",
    "    chunks = [0] * math.ceil(n_lines / read_params['chunksize'])\n",
    "\n",
    "    for chunk_idx, chunk in enumerate(pd.read_csv(path, **read_params)):\n",
    "        percent = min(\n",
    "            ((chunk_idx + 1) * read_params['chunksize'] / n_lines) * 100, 100.0)\n",
    "        print(\"#\" * int(percent), f\"{percent:.2f}%\", end='\\r', flush=True)\n",
    "        chunks[chunk_idx] = chunk[chunk[name_col].notnull()]\n",
    "\n",
    "    print()\n",
    "    print(\"Now concatenating chunks...\")\n",
    "    data_frame = pd.concat(chunks, axis=0)\n",
    "    del chunks\n",
    "    print(\"Finished!\")\n",
    "    return data_frame"
   ]
  },
  {
   "cell_type": "markdown",
   "id": "93243fc5",
   "metadata": {},
   "source": [
    "## Import Stuff"
   ]
  },
  {
   "cell_type": "markdown",
   "id": "2b3bf0b4",
   "metadata": {},
   "source": [
    "### Gazetteer"
   ]
  },
  {
   "cell_type": "code",
   "execution_count": 4,
   "id": "208c45c4",
   "metadata": {},
   "outputs": [],
   "source": [
    "\n",
    "\n",
    "def read_gazetteer(gaz: str = 'nga') -> dict:\n",
    "    \"\"\"Reads in a gazetteer and returns it as dataframe in a property dictionary\n",
    "    Args:\n",
    "        gaz (str): [\"nga\", \"geonames\", \"countries\"]\n",
    "\n",
    "    Returns:\n",
    "        dict: {'df_gazetteer', 'idx_of_lat', 'idx_of_lon', 'nameCol'}\n",
    "    \"\"\"\n",
    "\n",
    "    if gaz == \"nga\":\n",
    "        gazetteerpath = \"data/gazetteers/nga/countries_administrative.csv\"\n",
    "        # indexOfLat = 4\n",
    "        # indexOfLon = 5\n",
    "        idx_of_lat = 1\n",
    "        idx_of_lon = 2\n",
    "        n_lines = 484618  # for nga administrative\n",
    "        # n_lines =  284485 #for nga administrative approved\n",
    "        # n_lines = 7866485 #for nga administrative populated\n",
    "        name_col = \"SORT_NAME_RO\"  # for nga\n",
    "\n",
    "        # read in the gazetter csv\n",
    "        gazetteer = read_csv_in_chunks(\n",
    "            path=gazetteerpath,\n",
    "            n_lines=n_lines,\n",
    "            low_memory=False,\n",
    "            name_col=name_col)\n",
    "\n",
    "        gazetteer = pd.concat(\n",
    "            [gazetteer,\n",
    "             pd.read_csv(\"data/gazetteers/own_places.csv\")]\n",
    "        )\n",
    "\n",
    "    elif gaz == \"geonames\":\n",
    "        gazetteerpath = \"data/geonames/allCountries_cleaned.csv\"\n",
    "        idx_of_lat = 2\n",
    "        idx_of_lon = 3\n",
    "        n_lines = 6974472  # for allCountries_cleaned.csv\n",
    "        # n_lines = 2079830 # for allCountries_AT.csv\n",
    "        name_col = \"name\"\n",
    "\n",
    "        # read in the gazetter csv\n",
    "        gazetteer = read_csv_in_chunks(\n",
    "            path=gazetteerpath,\n",
    "            n_lines=n_lines,\n",
    "            low_memory=False,\n",
    "            name_col=name_col)\n",
    "\n",
    "    # Read gazetter data (csv) and save placenames in a list\n",
    "    elif gaz == \"countries\":\n",
    "        countrynames = pd.read_csv(\n",
    "            \"data/geodict_github/countrynames.csv\", names=[\"short\", \"long\"])\n",
    "        countrypositions = pd.read_csv(\n",
    "            \"data/geodict_github/countrypositions.csv\", names=[\"short\", \"lat\", \"lon\"])\n",
    "\n",
    "        gazetteer = countrynames.merge(countrypositions, on=\"short\")\n",
    "        gazetteer.long = gazetteer.long.str.strip()\n",
    "        idx_of_lat = 2\n",
    "        idx_of_lon = 3\n",
    "        n_lines = 240\n",
    "        name_col = \"long\"\n",
    "\n",
    "    prop_dic = {\n",
    "        'df_gazetteer': gazetteer,\n",
    "        'idx_of_lat': idx_of_lat,\n",
    "        'idx_of_lon': idx_of_lon,\n",
    "        'nameCol': name_col\n",
    "    }\n",
    "\n",
    "    return prop_dic"
   ]
  },
  {
   "cell_type": "markdown",
   "id": "21bc06c2",
   "metadata": {},
   "source": [
    "### Textfile"
   ]
  },
  {
   "cell_type": "markdown",
   "id": "7d042d3a",
   "metadata": {},
   "source": [
    "Import textfile or call the html2text function to extract the text from a given url \\\n",
    "and save it for next use"
   ]
  },
  {
   "cell_type": "code",
   "execution_count": 5,
   "id": "ae40c9e6",
   "metadata": {},
   "outputs": [],
   "source": [
    "\n",
    "\n",
    "def read_textfile(textfile: str = None, url: str = None) -> str:\n",
    "    \"\"\"Reads a textfile or extracts text from a website using html2text\n",
    "    Args:\n",
    "        textfile (str): path to textfile\n",
    "        url (str): url of website\n",
    "\n",
    "    Raises:\n",
    "        Warning: If no path is specified\n",
    "\n",
    "    Returns:\n",
    "        str: loaded text or extracted text from website\n",
    "    \"\"\"\n",
    "\n",
    "    if textfile:\n",
    "        with open(textfile, \"r\", encoding=\"utf8\") as raw_text:\n",
    "            text_str = raw_text.read()\n",
    "\n",
    "    elif url:\n",
    "        text_save_path = f\"data/texts/autosave/lastText_{url[-20:]}\"\n",
    "\n",
    "        if not os.path.exists(text_save_path):\n",
    "            text_str = html2text.html2text(url=url)\n",
    "\n",
    "            with open(text_save_path, \"w\", encoding=\"utf8\") as raw_text:\n",
    "                raw_text.write(text_str)\n",
    "\n",
    "        else:\n",
    "            with open(text_save_path, \"r\", encoding=\"utf8\") as raw_text:\n",
    "                text_str = raw_text.read()\n",
    "\n",
    "    else:\n",
    "        raise Warning(\"No path specified\")\n",
    "\n",
    "    return text_str\n",
    "\n",
    "\n",
    "# url = 'https://www.theguardian.com/global-development/2021/dec/21/uk-accused-of-abandoning-\\\n",
    "# worlds-poor-as-aid-turned-into-colonial-investment'\n",
    "# url = \"https://www.theguardian.com/world/2021/oct/21/cuts-to-overseas-aid-thwart-uk-efforts-\\\n",
    "# to-fight-covid-pandemic\""
   ]
  },
  {
   "cell_type": "markdown",
   "id": "90fa3cb4",
   "metadata": {},
   "source": [
    "## Matching"
   ]
  },
  {
   "cell_type": "markdown",
   "id": "768de74f",
   "metadata": {},
   "source": [
    "Extract places from text using nltk"
   ]
  },
  {
   "cell_type": "code",
   "execution_count": 6,
   "id": "1493b84a",
   "metadata": {},
   "outputs": [],
   "source": [
    "def create_placenames(text_str: str, gazetteer: pd.DataFrame, prop_dic: dict) -> tuple:\n",
    "    \"\"\"Extract placenames out of a text and return georeferenced results in a geodataframe and dict\n",
    "    Args:\n",
    "        text_str (str): text that placenames should get extracted from\n",
    "        gazetteer (pandas.Dataframe) gazetteer\n",
    "        prop_dic (dict): Dictionary with keys /\n",
    "            {'df_gazetteer', 'idx_of_lat', 'idx_of_lon', 'nameCol'}\n",
    "\n",
    "    Returns:\n",
    "        [type]: [description]\n",
    "    \"\"\"\n",
    "\n",
    "    tokenized = nltk.word_tokenize(text_str)\n",
    "    tree = nltk.ne_chunk(nltk.pos_tag(tokenized))\n",
    "\n",
    "    i = 0\n",
    "    for word in tokenized:\n",
    "        if word == \"Asia\":\n",
    "            i += 1\n",
    "\n",
    "    place_words = [\n",
    "        \" \".join(i[0] for i in t)\n",
    "        for t in tree\n",
    "        if hasattr(t, \"label\") and t.label() == \"GPE\"\n",
    "    ]\n",
    "\n",
    "    stemmer = nltk.stem.PorterStemmer()\n",
    "    lemmatizer = nltk.stem.WordNetLemmatizer()\n",
    "    place_words = [lemmatizer.lemmatize(word).upper().replace(\n",
    "        \" \", \"\") for word in place_words]\n",
    "    # prinfo(sorted(places)[:10])\n",
    "    print()\n",
    "\n",
    "    # Create Dictionary with placenames as keys and dictionaries with the counts as values.\n",
    "    place_dic = {}\n",
    "\n",
    "    for place_word in place_words:\n",
    "        if place_word in place_dic:\n",
    "            place_dic[place_word][\"count\"] += 1\n",
    "        else:\n",
    "            place_dic[place_word] = {\"count\": 1}\n",
    "\n",
    "    # Fill the dictionary with the coordinates of the placenames.\n",
    "\n",
    "    # add column with lemmatized placenames two compare them to lematized placenames of the text\n",
    "    gazetteer[\"lemma_placenames\"] = gazetteer[prop_dic['nameCol']].apply(\n",
    "        lemmatizer.lemmatize)\n",
    "    gazetteer[\"stem_placenames\"] = gazetteer[prop_dic['nameCol']].apply(\n",
    "        stemmer.stem)\n",
    "\n",
    "    len_keys = len(place_dic)\n",
    "    log_interval = 1  # int(round(lenKeys/20, 0))\n",
    "\n",
    "    failed_places = []\n",
    "\n",
    "    for i, (placename, place_attributes) in enumerate(place_dic.items()):\n",
    "        try:\n",
    "            tmp_df_values = gazetteer.query(\n",
    "                \"lemma_placenames == @placename\").values[0]\n",
    "            # tmp_df_values = df_gazetteer[df_gazetteer[\"SORT_NAME_RO\"] == \"MAFIKENG\"].values[0]\n",
    "            place_attributes[\"name\"] = tmp_df_values[7]\n",
    "            place_attributes[\"lat\"] = tmp_df_values[prop_dic['idx_of_lat']]\n",
    "            place_attributes[\"lon\"] = tmp_df_values[prop_dic['idx_of_lon']]\n",
    "\n",
    "        except IndexError:\n",
    "            failed_places.append(placename)\n",
    "\n",
    "        # give feedback to progress\n",
    "        if (i % log_interval == 0 and i > 0) or i+1 == len_keys:\n",
    "            print(f\"{i+1} of {len_keys} ({round((i/len_keys)*100, 1)}%)\", end='\\r')\n",
    "\n",
    "    for i, (place_word, place_attributes) in enumerate(place_dic.items()):\n",
    "        if i < 10:\n",
    "            print((place_word, place_attributes))\n",
    "\n",
    "    # Catch information about nonfound placenames and delete them from the dictionary\n",
    "    num_fails = len(failed_places)\n",
    "    for fail in failed_places:\n",
    "        del place_dic[fail]\n",
    "\n",
    "    print(f'{num_fails} words/places haven\\'t been found in the gazetteer')\n",
    "\n",
    "    data_frame = pd.DataFrame(\n",
    "        [list(attributes.values()) + [place]\n",
    "         for place, attributes in place_dic.items()],\n",
    "        columns=[\"count\", \"name\", \"lat\", \"lon\", \"stemname\"])\n",
    "\n",
    "    geo = gpd.GeoDataFrame(\n",
    "        data_frame,\n",
    "        geometry=gpd.points_from_xy(data_frame.lon, data_frame.lat),\n",
    "        crs=4326\n",
    "    )\n",
    "\n",
    "    return (geo, place_dic)\n",
    "\n",
    "    # geojsonname = textfile[textfile.find(\"/\")+1:textfile.find(\".\")][6:]\n",
    "    # geo.to_file(f\"data/geodataframes/{geojsonname}.geojson\", driver='GeoJSON')"
   ]
  },
  {
   "cell_type": "markdown",
   "id": "9024ccd8",
   "metadata": {
    "lines_to_next_cell": 2
   },
   "source": [
    "## Initialization"
   ]
  },
  {
   "cell_type": "code",
   "execution_count": 7,
   "id": "32851e5b",
   "metadata": {},
   "outputs": [
    {
     "name": "stdout",
     "output_type": "stream",
     "text": [
      "#################################################################################################### 100.00%\n",
      "Now concatenating chunks...\n",
      "Finished!\n",
      "\n",
      "('GUARDIAN', {'count': 1})\n",
      "('SAN', {'count': 2, 'name': 'San', 'lat': 13.178953, 'lon': -5.016175})\n",
      "('KNOWNHUMANITARIAN', {'count': 1})\n",
      "('ZAMBIA', {'count': 1, 'name': 'Zambia', 'lat': -14.33333, 'lon': 28.5})\n",
      "('RUSSIA', {'count': 1, 'name': 'Russia', 'lat': 60.0, 'lon': 100.0})\n",
      "('UKRAINE', {'count': 2, 'name': 'Ukraine', 'lat': 49.0, 'lon': 32.0})\n",
      "('UKRAINIAN', {'count': 1})\n",
      "('MALAWI', {'count': 1, 'name': 'Malawi', 'lat': -13.5, 'lon': 34.0})\n",
      "('BANGASSOU', {'count': 1})\n",
      "('GUATEMALA', {'count': 1, 'name': 'Guatemala', 'lat': 14.666667, 'lon': -90.5})\n",
      "5 words/places haven't been found in the gazetteer\n"
     ]
    }
   ],
   "source": [
    "dic = read_gazetteer()\n",
    "df_gazetteer = dic['df_gazetteer']\n",
    "text = read_textfile(\n",
    "    url=\"https://www.theguardian.com/global-development/2022/jan/14/worlds-poorest-bear-brunt-of-\\\n",
    "        climate-crisis-10-underreported-emergencies\")\n",
    "# text = read_textfile(\"data/texts/tagesanzeiger_spendensammler.txt\")\n",
    "# text = read_textfile(\"data/texts/aid_wiki.txt\")\n",
    "places, d = create_placenames(\n",
    "    text_str=text, gazetteer=df_gazetteer, prop_dic=dic)"
   ]
  },
  {
   "cell_type": "markdown",
   "id": "02f758af",
   "metadata": {},
   "source": [
    "## Visualization"
   ]
  },
  {
   "cell_type": "code",
   "execution_count": 8,
   "id": "191d302a",
   "metadata": {},
   "outputs": [
    {
     "name": "stdout",
     "output_type": "stream",
     "text": [
      "{1: '#440154', 2: '#3b528b', 3: '#21918c', 4: '#5ec962', 5: '#fde725'}\n"
     ]
    }
   ],
   "source": [
    "random.seed(1)\n",
    "\n",
    "color_dic = {}\n",
    "for i in range(places[\"count\"].max()):\n",
    "    color_dic[i+1] = f\"#{random.randint(0, 0xFFFFFF)}\"\n",
    "color_dic = {\n",
    "    1: '#440154',\n",
    "    2: '#3b528b',\n",
    "    3: '#21918c',\n",
    "    4: '#5ec962',\n",
    "    5: '#fde725'\n",
    "}\n",
    "print(color_dic)\n",
    "\n",
    "color_list = [color_dic[count] for count in places[\"count\"]]"
   ]
  },
  {
   "cell_type": "code",
   "execution_count": 9,
   "id": "1fe92ca2",
   "metadata": {},
   "outputs": [
    {
     "data": {
      "text/html": [
       "<div style=\"width:75%;\"><div style=\"position:relative;width:100%;height:0;padding-bottom:60%;\"><span style=\"color:#565656\">Make this Notebook Trusted to load map: File -> Trust Notebook</span><iframe src=\"about:blank\" style=\"position:absolute;width:100%;height:100%;left:0;top:0;border:none !important;\" data-html=%3C%21DOCTYPE%20html%3E%0A%3Chead%3E%20%20%20%20%0A%20%20%20%20%3Cmeta%20http-equiv%3D%22content-type%22%20content%3D%22text/html%3B%20charset%3DUTF-8%22%20/%3E%0A%20%20%20%20%0A%20%20%20%20%20%20%20%20%3Cscript%3E%0A%20%20%20%20%20%20%20%20%20%20%20%20L_NO_TOUCH%20%3D%20false%3B%0A%20%20%20%20%20%20%20%20%20%20%20%20L_DISABLE_3D%20%3D%20false%3B%0A%20%20%20%20%20%20%20%20%3C/script%3E%0A%20%20%20%20%0A%20%20%20%20%3Cstyle%3Ehtml%2C%20body%20%7Bwidth%3A%20100%25%3Bheight%3A%20100%25%3Bmargin%3A%200%3Bpadding%3A%200%3B%7D%3C/style%3E%0A%20%20%20%20%3Cstyle%3E%23map%20%7Bposition%3Aabsolute%3Btop%3A0%3Bbottom%3A0%3Bright%3A0%3Bleft%3A0%3B%7D%3C/style%3E%0A%20%20%20%20%3Cscript%20src%3D%22https%3A//cdn.jsdelivr.net/npm/leaflet%401.6.0/dist/leaflet.js%22%3E%3C/script%3E%0A%20%20%20%20%3Cscript%20src%3D%22https%3A//code.jquery.com/jquery-1.12.4.min.js%22%3E%3C/script%3E%0A%20%20%20%20%3Cscript%20src%3D%22https%3A//maxcdn.bootstrapcdn.com/bootstrap/3.2.0/js/bootstrap.min.js%22%3E%3C/script%3E%0A%20%20%20%20%3Cscript%20src%3D%22https%3A//cdnjs.cloudflare.com/ajax/libs/Leaflet.awesome-markers/2.0.2/leaflet.awesome-markers.js%22%3E%3C/script%3E%0A%20%20%20%20%3Clink%20rel%3D%22stylesheet%22%20href%3D%22https%3A//cdn.jsdelivr.net/npm/leaflet%401.6.0/dist/leaflet.css%22/%3E%0A%20%20%20%20%3Clink%20rel%3D%22stylesheet%22%20href%3D%22https%3A//maxcdn.bootstrapcdn.com/bootstrap/3.2.0/css/bootstrap.min.css%22/%3E%0A%20%20%20%20%3Clink%20rel%3D%22stylesheet%22%20href%3D%22https%3A//maxcdn.bootstrapcdn.com/bootstrap/3.2.0/css/bootstrap-theme.min.css%22/%3E%0A%20%20%20%20%3Clink%20rel%3D%22stylesheet%22%20href%3D%22https%3A//maxcdn.bootstrapcdn.com/font-awesome/4.6.3/css/font-awesome.min.css%22/%3E%0A%20%20%20%20%3Clink%20rel%3D%22stylesheet%22%20href%3D%22https%3A//cdnjs.cloudflare.com/ajax/libs/Leaflet.awesome-markers/2.0.2/leaflet.awesome-markers.css%22/%3E%0A%20%20%20%20%3Clink%20rel%3D%22stylesheet%22%20href%3D%22https%3A//cdn.jsdelivr.net/gh/python-visualization/folium/folium/templates/leaflet.awesome.rotate.min.css%22/%3E%0A%20%20%20%20%0A%20%20%20%20%20%20%20%20%20%20%20%20%3Cmeta%20name%3D%22viewport%22%20content%3D%22width%3Ddevice-width%2C%0A%20%20%20%20%20%20%20%20%20%20%20%20%20%20%20%20initial-scale%3D1.0%2C%20maximum-scale%3D1.0%2C%20user-scalable%3Dno%22%20/%3E%0A%20%20%20%20%20%20%20%20%20%20%20%20%3Cstyle%3E%0A%20%20%20%20%20%20%20%20%20%20%20%20%20%20%20%20%23map_95023ae080384ee8aae514cade4d6611%20%7B%0A%20%20%20%20%20%20%20%20%20%20%20%20%20%20%20%20%20%20%20%20position%3A%20relative%3B%0A%20%20%20%20%20%20%20%20%20%20%20%20%20%20%20%20%20%20%20%20width%3A%20100.0%25%3B%0A%20%20%20%20%20%20%20%20%20%20%20%20%20%20%20%20%20%20%20%20height%3A%20100.0%25%3B%0A%20%20%20%20%20%20%20%20%20%20%20%20%20%20%20%20%20%20%20%20left%3A%200.0%25%3B%0A%20%20%20%20%20%20%20%20%20%20%20%20%20%20%20%20%20%20%20%20top%3A%200.0%25%3B%0A%20%20%20%20%20%20%20%20%20%20%20%20%20%20%20%20%7D%0A%20%20%20%20%20%20%20%20%20%20%20%20%3C/style%3E%0A%20%20%20%20%20%20%20%20%0A%20%20%20%20%3Cscript%20src%3D%22https%3A//cdnjs.cloudflare.com/ajax/libs/leaflet.markercluster/1.1.0/leaflet.markercluster.js%22%3E%3C/script%3E%0A%20%20%20%20%3Clink%20rel%3D%22stylesheet%22%20href%3D%22https%3A//cdnjs.cloudflare.com/ajax/libs/leaflet.markercluster/1.1.0/MarkerCluster.css%22/%3E%0A%20%20%20%20%3Clink%20rel%3D%22stylesheet%22%20href%3D%22https%3A//cdnjs.cloudflare.com/ajax/libs/leaflet.markercluster/1.1.0/MarkerCluster.Default.css%22/%3E%0A%20%20%20%20%3Cscript%20src%3D%22https%3A//cdn.jsdelivr.net/gh/python-visualization/folium%40master/folium/templates/leaflet_heat.min.js%22%3E%3C/script%3E%0A%3C/head%3E%0A%3Cbody%3E%20%20%20%20%0A%20%20%20%20%0A%20%20%20%20%20%20%20%20%20%20%20%20%3Cdiv%20class%3D%22folium-map%22%20id%3D%22map_95023ae080384ee8aae514cade4d6611%22%20%3E%3C/div%3E%0A%20%20%20%20%20%20%20%20%0A%3C/body%3E%0A%3Cscript%3E%20%20%20%20%0A%20%20%20%20%0A%20%20%20%20%20%20%20%20%20%20%20%20var%20map_95023ae080384ee8aae514cade4d6611%20%3D%20L.map%28%0A%20%20%20%20%20%20%20%20%20%20%20%20%20%20%20%20%22map_95023ae080384ee8aae514cade4d6611%22%2C%0A%20%20%20%20%20%20%20%20%20%20%20%20%20%20%20%20%7B%0A%20%20%20%20%20%20%20%20%20%20%20%20%20%20%20%20%20%20%20%20center%3A%20%5B15.0%2C%2030.0%5D%2C%0A%20%20%20%20%20%20%20%20%20%20%20%20%20%20%20%20%20%20%20%20crs%3A%20L.CRS.EPSG3857%2C%0A%20%20%20%20%20%20%20%20%20%20%20%20%20%20%20%20%20%20%20%20maxBounds%3A%20%5B%5B-90%2C%20-180%5D%2C%20%5B90%2C%20180%5D%5D%2C%0A%20%20%20%20%20%20%20%20%20%20%20%20%20%20%20%20%20%20%20%20zoom%3A%202%2C%0A%20%20%20%20%20%20%20%20%20%20%20%20%20%20%20%20%20%20%20%20zoomControl%3A%20true%2C%0A%20%20%20%20%20%20%20%20%20%20%20%20%20%20%20%20%20%20%20%20preferCanvas%3A%20false%2C%0A%20%20%20%20%20%20%20%20%20%20%20%20%20%20%20%20%7D%0A%20%20%20%20%20%20%20%20%20%20%20%20%29%3B%0A%0A%20%20%20%20%20%20%20%20%20%20%20%20%0A%0A%20%20%20%20%20%20%20%20%0A%20%20%20%20%0A%20%20%20%20%20%20%20%20%20%20%20%20var%20tile_layer_05993a913523448096ed0953bbf9b2a7%20%3D%20L.tileLayer%28%0A%20%20%20%20%20%20%20%20%20%20%20%20%20%20%20%20%22https%3A//cartodb-basemaps-%7Bs%7D.global.ssl.fastly.net/dark_all/%7Bz%7D/%7Bx%7D/%7By%7D.png%22%2C%0A%20%20%20%20%20%20%20%20%20%20%20%20%20%20%20%20%7B%22attribution%22%3A%20%22%5Cu0026copy%3B%20%5Cu003ca%20href%3D%5C%22http%3A//www.openstreetmap.org/copyright%5C%22%5Cu003eOpenStreetMap%5Cu003c/a%5Cu003e%20contributors%20%5Cu0026copy%3B%20%5Cu003ca%20href%3D%5C%22http%3A//cartodb.com/attributions%5C%22%5Cu003eCartoDB%5Cu003c/a%5Cu003e%2C%20CartoDB%20%5Cu003ca%20href%20%3D%5C%22http%3A//cartodb.com/attributions%5C%22%5Cu003eattributions%5Cu003c/a%5Cu003e%22%2C%20%22detectRetina%22%3A%20false%2C%20%22maxNativeZoom%22%3A%2018%2C%20%22maxZoom%22%3A%2018%2C%20%22minZoom%22%3A%200%2C%20%22noWrap%22%3A%20false%2C%20%22opacity%22%3A%201%2C%20%22subdomains%22%3A%20%22abc%22%2C%20%22tms%22%3A%20false%7D%0A%20%20%20%20%20%20%20%20%20%20%20%20%29.addTo%28map_95023ae080384ee8aae514cade4d6611%29%3B%0A%20%20%20%20%20%20%20%20%0A%20%20%20%20%0A%20%20%20%20%20%20%20%20%20%20%20%20var%20tile_layer_305527f95b21402cb70127f24de73f21%20%3D%20L.tileLayer%28%0A%20%20%20%20%20%20%20%20%20%20%20%20%20%20%20%20%22https%3A//stamen-tiles-%7Bs%7D.a.ssl.fastly.net/watercolor/%7Bz%7D/%7Bx%7D/%7By%7D.jpg%22%2C%0A%20%20%20%20%20%20%20%20%20%20%20%20%20%20%20%20%7B%22attribution%22%3A%20%22Map%20tiles%20by%20%5Cu003ca%20href%3D%5C%22http%3A//stamen.com%5C%22%5Cu003eStamen%20Design%5Cu003c/a%5Cu003e%2C%20under%20%5Cu003ca%20href%3D%5C%22http%3A//creativecommons.org/licenses/by/3.0%5C%22%5Cu003eCC%20BY%203.0%5Cu003c/a%5Cu003e.%20Data%20by%20%5Cu0026copy%3B%20%5Cu003ca%20href%3D%5C%22http%3A//openstreetmap.org%5C%22%5Cu003eOpenStreetMap%5Cu003c/a%5Cu003e%2C%20under%20%5Cu003ca%20href%3D%5C%22http%3A//creativecommons.org/licenses/by-sa/3.0%5C%22%5Cu003eCC%20BY%20SA%5Cu003c/a%5Cu003e.%22%2C%20%22detectRetina%22%3A%20false%2C%20%22maxNativeZoom%22%3A%2018%2C%20%22maxZoom%22%3A%2018%2C%20%22minZoom%22%3A%200%2C%20%22noWrap%22%3A%20false%2C%20%22opacity%22%3A%201%2C%20%22subdomains%22%3A%20%22abc%22%2C%20%22tms%22%3A%20false%7D%0A%20%20%20%20%20%20%20%20%20%20%20%20%29.addTo%28map_95023ae080384ee8aae514cade4d6611%29%3B%0A%20%20%20%20%20%20%20%20%0A%20%20%20%20%0A%20%20%20%20%20%20%20%20%20%20%20%20var%20feature_group_f92b5eb1ba23421da0d05e21098d371b%20%3D%20L.featureGroup%28%0A%20%20%20%20%20%20%20%20%20%20%20%20%20%20%20%20%7B%7D%0A%20%20%20%20%20%20%20%20%20%20%20%20%29.addTo%28map_95023ae080384ee8aae514cade4d6611%29%3B%0A%20%20%20%20%20%20%20%20%0A%20%20%20%20%0A%20%20%20%20%20%20%20%20%20%20%20%20var%20circle_a102d8278c2f4146bd657fdaf230c471%20%3D%20L.circle%28%0A%20%20%20%20%20%20%20%20%20%20%20%20%20%20%20%20%5B13.178953%2C%20-5.016175%5D%2C%0A%20%20%20%20%20%20%20%20%20%20%20%20%20%20%20%20%7B%22bubblingMouseEvents%22%3A%20true%2C%20%22color%22%3A%20%22%233b528b%22%2C%20%22dashArray%22%3A%20null%2C%20%22dashOffset%22%3A%20null%2C%20%22fill%22%3A%20true%2C%20%22fillColor%22%3A%20%22%233b528b%22%2C%20%22fillOpacity%22%3A%200.2%2C%20%22fillRule%22%3A%20%22evenodd%22%2C%20%22lineCap%22%3A%20%22round%22%2C%20%22lineJoin%22%3A%20%22round%22%2C%20%22opacity%22%3A%201.0%2C%20%22radius%22%3A%20100000%2C%20%22stroke%22%3A%20true%2C%20%22weight%22%3A%203%7D%0A%20%20%20%20%20%20%20%20%20%20%20%20%29.addTo%28feature_group_f92b5eb1ba23421da0d05e21098d371b%29%3B%0A%20%20%20%20%20%20%20%20%0A%20%20%20%20%0A%20%20%20%20%20%20%20%20var%20popup_1229b7e93b9d40fb805a4bf88db04a4e%20%3D%20L.popup%28%7B%22maxWidth%22%3A%20%22100%25%22%7D%29%3B%0A%0A%20%20%20%20%20%20%20%20%0A%20%20%20%20%20%20%20%20%20%20%20%20var%20i_frame_4919b606571b4fb1afb8e04825747b91%20%3D%20%24%28%60%3Ciframe%20src%3D%22data%3Atext/html%3Bcharset%3Dutf-8%3Bbase64%2CCiAgICAKCiAgICA8c3Ryb25nPk5hbWU6PC9zdHJvbmc%2BICZlbXNwOyZlbXNwOyZlbXNwOyZlbXNwOyZlbXNwO1Nhbjxici8%2BCiAgICA8c3Ryb25nPlN0ZW1tZWQgTmFtZTo8L3N0cm9uZz4mZW1zcDtTQU48YnIvPgogICAgPHN0cm9uZz5Db3VudDo8L3N0cm9uZz4mZW1zcDsmZW1zcDsmZW1zcDsmZW1zcDsmZW1zcDsyCiAgICAKICAgIA%3D%3D%22%20width%3D%22300%22%20style%3D%22border%3Anone%20%21important%3B%22%20height%3D%2270%22%3E%3C/iframe%3E%60%29%5B0%5D%3B%0A%20%20%20%20%20%20%20%20%20%20%20%20popup_1229b7e93b9d40fb805a4bf88db04a4e.setContent%28i_frame_4919b606571b4fb1afb8e04825747b91%29%3B%0A%20%20%20%20%20%20%20%20%0A%0A%20%20%20%20%20%20%20%20circle_a102d8278c2f4146bd657fdaf230c471.bindPopup%28popup_1229b7e93b9d40fb805a4bf88db04a4e%29%0A%20%20%20%20%20%20%20%20%3B%0A%0A%20%20%20%20%20%20%20%20%0A%20%20%20%20%0A%20%20%20%20%0A%20%20%20%20%20%20%20%20%20%20%20%20circle_a102d8278c2f4146bd657fdaf230c471.bindTooltip%28%0A%20%20%20%20%20%20%20%20%20%20%20%20%20%20%20%20%60%3Cdiv%3E%0A%20%20%20%20%20%20%20%20%20%20%20%20%20%20%20%20%20%20%20%20%20San%0A%20%20%20%20%20%20%20%20%20%20%20%20%20%20%20%20%20%3C/div%3E%60%2C%0A%20%20%20%20%20%20%20%20%20%20%20%20%20%20%20%20%7B%22sticky%22%3A%20true%7D%0A%20%20%20%20%20%20%20%20%20%20%20%20%29%3B%0A%20%20%20%20%20%20%20%20%0A%20%20%20%20%0A%20%20%20%20%20%20%20%20%20%20%20%20var%20circle_ca30221579704c13a859c30c186bd269%20%3D%20L.circle%28%0A%20%20%20%20%20%20%20%20%20%20%20%20%20%20%20%20%5B-14.33333%2C%2028.5%5D%2C%0A%20%20%20%20%20%20%20%20%20%20%20%20%20%20%20%20%7B%22bubblingMouseEvents%22%3A%20true%2C%20%22color%22%3A%20%22%23440154%22%2C%20%22dashArray%22%3A%20null%2C%20%22dashOffset%22%3A%20null%2C%20%22fill%22%3A%20true%2C%20%22fillColor%22%3A%20%22%23440154%22%2C%20%22fillOpacity%22%3A%200.2%2C%20%22fillRule%22%3A%20%22evenodd%22%2C%20%22lineCap%22%3A%20%22round%22%2C%20%22lineJoin%22%3A%20%22round%22%2C%20%22opacity%22%3A%201.0%2C%20%22radius%22%3A%2050000%2C%20%22stroke%22%3A%20true%2C%20%22weight%22%3A%203%7D%0A%20%20%20%20%20%20%20%20%20%20%20%20%29.addTo%28feature_group_f92b5eb1ba23421da0d05e21098d371b%29%3B%0A%20%20%20%20%20%20%20%20%0A%20%20%20%20%0A%20%20%20%20%20%20%20%20var%20popup_1a77779c3a354e049dff8bc2b098e651%20%3D%20L.popup%28%7B%22maxWidth%22%3A%20%22100%25%22%7D%29%3B%0A%0A%20%20%20%20%20%20%20%20%0A%20%20%20%20%20%20%20%20%20%20%20%20var%20i_frame_90475ce0b8e84902b949ff235ac22135%20%3D%20%24%28%60%3Ciframe%20src%3D%22data%3Atext/html%3Bcharset%3Dutf-8%3Bbase64%2CCiAgICAKCiAgICA8c3Ryb25nPk5hbWU6PC9zdHJvbmc%2BICZlbXNwOyZlbXNwOyZlbXNwOyZlbXNwOyZlbXNwO1phbWJpYTxici8%2BCiAgICA8c3Ryb25nPlN0ZW1tZWQgTmFtZTo8L3N0cm9uZz4mZW1zcDtaQU1CSUE8YnIvPgogICAgPHN0cm9uZz5Db3VudDo8L3N0cm9uZz4mZW1zcDsmZW1zcDsmZW1zcDsmZW1zcDsmZW1zcDsxCiAgICAKICAgIA%3D%3D%22%20width%3D%22300%22%20style%3D%22border%3Anone%20%21important%3B%22%20height%3D%2270%22%3E%3C/iframe%3E%60%29%5B0%5D%3B%0A%20%20%20%20%20%20%20%20%20%20%20%20popup_1a77779c3a354e049dff8bc2b098e651.setContent%28i_frame_90475ce0b8e84902b949ff235ac22135%29%3B%0A%20%20%20%20%20%20%20%20%0A%0A%20%20%20%20%20%20%20%20circle_ca30221579704c13a859c30c186bd269.bindPopup%28popup_1a77779c3a354e049dff8bc2b098e651%29%0A%20%20%20%20%20%20%20%20%3B%0A%0A%20%20%20%20%20%20%20%20%0A%20%20%20%20%0A%20%20%20%20%0A%20%20%20%20%20%20%20%20%20%20%20%20circle_ca30221579704c13a859c30c186bd269.bindTooltip%28%0A%20%20%20%20%20%20%20%20%20%20%20%20%20%20%20%20%60%3Cdiv%3E%0A%20%20%20%20%20%20%20%20%20%20%20%20%20%20%20%20%20%20%20%20%20Zambia%0A%20%20%20%20%20%20%20%20%20%20%20%20%20%20%20%20%20%3C/div%3E%60%2C%0A%20%20%20%20%20%20%20%20%20%20%20%20%20%20%20%20%7B%22sticky%22%3A%20true%7D%0A%20%20%20%20%20%20%20%20%20%20%20%20%29%3B%0A%20%20%20%20%20%20%20%20%0A%20%20%20%20%0A%20%20%20%20%20%20%20%20%20%20%20%20var%20circle_f291c36b72d645b99897ae3c7865f9b7%20%3D%20L.circle%28%0A%20%20%20%20%20%20%20%20%20%20%20%20%20%20%20%20%5B60.0%2C%20100.0%5D%2C%0A%20%20%20%20%20%20%20%20%20%20%20%20%20%20%20%20%7B%22bubblingMouseEvents%22%3A%20true%2C%20%22color%22%3A%20%22%23440154%22%2C%20%22dashArray%22%3A%20null%2C%20%22dashOffset%22%3A%20null%2C%20%22fill%22%3A%20true%2C%20%22fillColor%22%3A%20%22%23440154%22%2C%20%22fillOpacity%22%3A%200.2%2C%20%22fillRule%22%3A%20%22evenodd%22%2C%20%22lineCap%22%3A%20%22round%22%2C%20%22lineJoin%22%3A%20%22round%22%2C%20%22opacity%22%3A%201.0%2C%20%22radius%22%3A%2050000%2C%20%22stroke%22%3A%20true%2C%20%22weight%22%3A%203%7D%0A%20%20%20%20%20%20%20%20%20%20%20%20%29.addTo%28feature_group_f92b5eb1ba23421da0d05e21098d371b%29%3B%0A%20%20%20%20%20%20%20%20%0A%20%20%20%20%0A%20%20%20%20%20%20%20%20var%20popup_116338182193424dbd7633e5aad5938f%20%3D%20L.popup%28%7B%22maxWidth%22%3A%20%22100%25%22%7D%29%3B%0A%0A%20%20%20%20%20%20%20%20%0A%20%20%20%20%20%20%20%20%20%20%20%20var%20i_frame_969d8f14bfb4456589570a6061a903a5%20%3D%20%24%28%60%3Ciframe%20src%3D%22data%3Atext/html%3Bcharset%3Dutf-8%3Bbase64%2CCiAgICAKCiAgICA8c3Ryb25nPk5hbWU6PC9zdHJvbmc%2BICZlbXNwOyZlbXNwOyZlbXNwOyZlbXNwOyZlbXNwO1J1c3NpYTxici8%2BCiAgICA8c3Ryb25nPlN0ZW1tZWQgTmFtZTo8L3N0cm9uZz4mZW1zcDtSVVNTSUE8YnIvPgogICAgPHN0cm9uZz5Db3VudDo8L3N0cm9uZz4mZW1zcDsmZW1zcDsmZW1zcDsmZW1zcDsmZW1zcDsxCiAgICAKICAgIA%3D%3D%22%20width%3D%22300%22%20style%3D%22border%3Anone%20%21important%3B%22%20height%3D%2270%22%3E%3C/iframe%3E%60%29%5B0%5D%3B%0A%20%20%20%20%20%20%20%20%20%20%20%20popup_116338182193424dbd7633e5aad5938f.setContent%28i_frame_969d8f14bfb4456589570a6061a903a5%29%3B%0A%20%20%20%20%20%20%20%20%0A%0A%20%20%20%20%20%20%20%20circle_f291c36b72d645b99897ae3c7865f9b7.bindPopup%28popup_116338182193424dbd7633e5aad5938f%29%0A%20%20%20%20%20%20%20%20%3B%0A%0A%20%20%20%20%20%20%20%20%0A%20%20%20%20%0A%20%20%20%20%0A%20%20%20%20%20%20%20%20%20%20%20%20circle_f291c36b72d645b99897ae3c7865f9b7.bindTooltip%28%0A%20%20%20%20%20%20%20%20%20%20%20%20%20%20%20%20%60%3Cdiv%3E%0A%20%20%20%20%20%20%20%20%20%20%20%20%20%20%20%20%20%20%20%20%20Russia%0A%20%20%20%20%20%20%20%20%20%20%20%20%20%20%20%20%20%3C/div%3E%60%2C%0A%20%20%20%20%20%20%20%20%20%20%20%20%20%20%20%20%7B%22sticky%22%3A%20true%7D%0A%20%20%20%20%20%20%20%20%20%20%20%20%29%3B%0A%20%20%20%20%20%20%20%20%0A%20%20%20%20%0A%20%20%20%20%20%20%20%20%20%20%20%20var%20circle_dd9d52a5b3bc499080566e97b670ca44%20%3D%20L.circle%28%0A%20%20%20%20%20%20%20%20%20%20%20%20%20%20%20%20%5B49.0%2C%2032.0%5D%2C%0A%20%20%20%20%20%20%20%20%20%20%20%20%20%20%20%20%7B%22bubblingMouseEvents%22%3A%20true%2C%20%22color%22%3A%20%22%233b528b%22%2C%20%22dashArray%22%3A%20null%2C%20%22dashOffset%22%3A%20null%2C%20%22fill%22%3A%20true%2C%20%22fillColor%22%3A%20%22%233b528b%22%2C%20%22fillOpacity%22%3A%200.2%2C%20%22fillRule%22%3A%20%22evenodd%22%2C%20%22lineCap%22%3A%20%22round%22%2C%20%22lineJoin%22%3A%20%22round%22%2C%20%22opacity%22%3A%201.0%2C%20%22radius%22%3A%20100000%2C%20%22stroke%22%3A%20true%2C%20%22weight%22%3A%203%7D%0A%20%20%20%20%20%20%20%20%20%20%20%20%29.addTo%28feature_group_f92b5eb1ba23421da0d05e21098d371b%29%3B%0A%20%20%20%20%20%20%20%20%0A%20%20%20%20%0A%20%20%20%20%20%20%20%20var%20popup_04cfb2c7f79b4a7d947d91ffb6bbb3de%20%3D%20L.popup%28%7B%22maxWidth%22%3A%20%22100%25%22%7D%29%3B%0A%0A%20%20%20%20%20%20%20%20%0A%20%20%20%20%20%20%20%20%20%20%20%20var%20i_frame_8629c5f19a774e4f82d1fbf9e8a5555d%20%3D%20%24%28%60%3Ciframe%20src%3D%22data%3Atext/html%3Bcharset%3Dutf-8%3Bbase64%2CCiAgICAKCiAgICA8c3Ryb25nPk5hbWU6PC9zdHJvbmc%2BICZlbXNwOyZlbXNwOyZlbXNwOyZlbXNwOyZlbXNwO1VrcmFpbmU8YnIvPgogICAgPHN0cm9uZz5TdGVtbWVkIE5hbWU6PC9zdHJvbmc%2BJmVtc3A7VUtSQUlORTxici8%2BCiAgICA8c3Ryb25nPkNvdW50Ojwvc3Ryb25nPiZlbXNwOyZlbXNwOyZlbXNwOyZlbXNwOyZlbXNwOzIKICAgIAogICAg%22%20width%3D%22300%22%20style%3D%22border%3Anone%20%21important%3B%22%20height%3D%2270%22%3E%3C/iframe%3E%60%29%5B0%5D%3B%0A%20%20%20%20%20%20%20%20%20%20%20%20popup_04cfb2c7f79b4a7d947d91ffb6bbb3de.setContent%28i_frame_8629c5f19a774e4f82d1fbf9e8a5555d%29%3B%0A%20%20%20%20%20%20%20%20%0A%0A%20%20%20%20%20%20%20%20circle_dd9d52a5b3bc499080566e97b670ca44.bindPopup%28popup_04cfb2c7f79b4a7d947d91ffb6bbb3de%29%0A%20%20%20%20%20%20%20%20%3B%0A%0A%20%20%20%20%20%20%20%20%0A%20%20%20%20%0A%20%20%20%20%0A%20%20%20%20%20%20%20%20%20%20%20%20circle_dd9d52a5b3bc499080566e97b670ca44.bindTooltip%28%0A%20%20%20%20%20%20%20%20%20%20%20%20%20%20%20%20%60%3Cdiv%3E%0A%20%20%20%20%20%20%20%20%20%20%20%20%20%20%20%20%20%20%20%20%20Ukraine%0A%20%20%20%20%20%20%20%20%20%20%20%20%20%20%20%20%20%3C/div%3E%60%2C%0A%20%20%20%20%20%20%20%20%20%20%20%20%20%20%20%20%7B%22sticky%22%3A%20true%7D%0A%20%20%20%20%20%20%20%20%20%20%20%20%29%3B%0A%20%20%20%20%20%20%20%20%0A%20%20%20%20%0A%20%20%20%20%20%20%20%20%20%20%20%20var%20circle_a331719b98594f0baf86130700670f83%20%3D%20L.circle%28%0A%20%20%20%20%20%20%20%20%20%20%20%20%20%20%20%20%5B-13.5%2C%2034.0%5D%2C%0A%20%20%20%20%20%20%20%20%20%20%20%20%20%20%20%20%7B%22bubblingMouseEvents%22%3A%20true%2C%20%22color%22%3A%20%22%23440154%22%2C%20%22dashArray%22%3A%20null%2C%20%22dashOffset%22%3A%20null%2C%20%22fill%22%3A%20true%2C%20%22fillColor%22%3A%20%22%23440154%22%2C%20%22fillOpacity%22%3A%200.2%2C%20%22fillRule%22%3A%20%22evenodd%22%2C%20%22lineCap%22%3A%20%22round%22%2C%20%22lineJoin%22%3A%20%22round%22%2C%20%22opacity%22%3A%201.0%2C%20%22radius%22%3A%2050000%2C%20%22stroke%22%3A%20true%2C%20%22weight%22%3A%203%7D%0A%20%20%20%20%20%20%20%20%20%20%20%20%29.addTo%28feature_group_f92b5eb1ba23421da0d05e21098d371b%29%3B%0A%20%20%20%20%20%20%20%20%0A%20%20%20%20%0A%20%20%20%20%20%20%20%20var%20popup_a7ae0e02507d463c8588366386644ca3%20%3D%20L.popup%28%7B%22maxWidth%22%3A%20%22100%25%22%7D%29%3B%0A%0A%20%20%20%20%20%20%20%20%0A%20%20%20%20%20%20%20%20%20%20%20%20var%20i_frame_991b15717e7f47beb085040fe0b3b5e0%20%3D%20%24%28%60%3Ciframe%20src%3D%22data%3Atext/html%3Bcharset%3Dutf-8%3Bbase64%2CCiAgICAKCiAgICA8c3Ryb25nPk5hbWU6PC9zdHJvbmc%2BICZlbXNwOyZlbXNwOyZlbXNwOyZlbXNwOyZlbXNwO01hbGF3aTxici8%2BCiAgICA8c3Ryb25nPlN0ZW1tZWQgTmFtZTo8L3N0cm9uZz4mZW1zcDtNQUxBV0k8YnIvPgogICAgPHN0cm9uZz5Db3VudDo8L3N0cm9uZz4mZW1zcDsmZW1zcDsmZW1zcDsmZW1zcDsmZW1zcDsxCiAgICAKICAgIA%3D%3D%22%20width%3D%22300%22%20style%3D%22border%3Anone%20%21important%3B%22%20height%3D%2270%22%3E%3C/iframe%3E%60%29%5B0%5D%3B%0A%20%20%20%20%20%20%20%20%20%20%20%20popup_a7ae0e02507d463c8588366386644ca3.setContent%28i_frame_991b15717e7f47beb085040fe0b3b5e0%29%3B%0A%20%20%20%20%20%20%20%20%0A%0A%20%20%20%20%20%20%20%20circle_a331719b98594f0baf86130700670f83.bindPopup%28popup_a7ae0e02507d463c8588366386644ca3%29%0A%20%20%20%20%20%20%20%20%3B%0A%0A%20%20%20%20%20%20%20%20%0A%20%20%20%20%0A%20%20%20%20%0A%20%20%20%20%20%20%20%20%20%20%20%20circle_a331719b98594f0baf86130700670f83.bindTooltip%28%0A%20%20%20%20%20%20%20%20%20%20%20%20%20%20%20%20%60%3Cdiv%3E%0A%20%20%20%20%20%20%20%20%20%20%20%20%20%20%20%20%20%20%20%20%20Malawi%0A%20%20%20%20%20%20%20%20%20%20%20%20%20%20%20%20%20%3C/div%3E%60%2C%0A%20%20%20%20%20%20%20%20%20%20%20%20%20%20%20%20%7B%22sticky%22%3A%20true%7D%0A%20%20%20%20%20%20%20%20%20%20%20%20%29%3B%0A%20%20%20%20%20%20%20%20%0A%20%20%20%20%0A%20%20%20%20%20%20%20%20%20%20%20%20var%20circle_5828fe7b7f1f4895acac355aa707eb97%20%3D%20L.circle%28%0A%20%20%20%20%20%20%20%20%20%20%20%20%20%20%20%20%5B14.666667%2C%20-90.5%5D%2C%0A%20%20%20%20%20%20%20%20%20%20%20%20%20%20%20%20%7B%22bubblingMouseEvents%22%3A%20true%2C%20%22color%22%3A%20%22%23440154%22%2C%20%22dashArray%22%3A%20null%2C%20%22dashOffset%22%3A%20null%2C%20%22fill%22%3A%20true%2C%20%22fillColor%22%3A%20%22%23440154%22%2C%20%22fillOpacity%22%3A%200.2%2C%20%22fillRule%22%3A%20%22evenodd%22%2C%20%22lineCap%22%3A%20%22round%22%2C%20%22lineJoin%22%3A%20%22round%22%2C%20%22opacity%22%3A%201.0%2C%20%22radius%22%3A%2050000%2C%20%22stroke%22%3A%20true%2C%20%22weight%22%3A%203%7D%0A%20%20%20%20%20%20%20%20%20%20%20%20%29.addTo%28feature_group_f92b5eb1ba23421da0d05e21098d371b%29%3B%0A%20%20%20%20%20%20%20%20%0A%20%20%20%20%0A%20%20%20%20%20%20%20%20var%20popup_d1a32fdc838b426da997c12f8f0d0cbd%20%3D%20L.popup%28%7B%22maxWidth%22%3A%20%22100%25%22%7D%29%3B%0A%0A%20%20%20%20%20%20%20%20%0A%20%20%20%20%20%20%20%20%20%20%20%20var%20i_frame_89b09173c4a54ecf8f27bf609d2a1032%20%3D%20%24%28%60%3Ciframe%20src%3D%22data%3Atext/html%3Bcharset%3Dutf-8%3Bbase64%2CCiAgICAKCiAgICA8c3Ryb25nPk5hbWU6PC9zdHJvbmc%2BICZlbXNwOyZlbXNwOyZlbXNwOyZlbXNwOyZlbXNwO0d1YXRlbWFsYTxici8%2BCiAgICA8c3Ryb25nPlN0ZW1tZWQgTmFtZTo8L3N0cm9uZz4mZW1zcDtHVUFURU1BTEE8YnIvPgogICAgPHN0cm9uZz5Db3VudDo8L3N0cm9uZz4mZW1zcDsmZW1zcDsmZW1zcDsmZW1zcDsmZW1zcDsxCiAgICAKICAgIA%3D%3D%22%20width%3D%22300%22%20style%3D%22border%3Anone%20%21important%3B%22%20height%3D%2270%22%3E%3C/iframe%3E%60%29%5B0%5D%3B%0A%20%20%20%20%20%20%20%20%20%20%20%20popup_d1a32fdc838b426da997c12f8f0d0cbd.setContent%28i_frame_89b09173c4a54ecf8f27bf609d2a1032%29%3B%0A%20%20%20%20%20%20%20%20%0A%0A%20%20%20%20%20%20%20%20circle_5828fe7b7f1f4895acac355aa707eb97.bindPopup%28popup_d1a32fdc838b426da997c12f8f0d0cbd%29%0A%20%20%20%20%20%20%20%20%3B%0A%0A%20%20%20%20%20%20%20%20%0A%20%20%20%20%0A%20%20%20%20%0A%20%20%20%20%20%20%20%20%20%20%20%20circle_5828fe7b7f1f4895acac355aa707eb97.bindTooltip%28%0A%20%20%20%20%20%20%20%20%20%20%20%20%20%20%20%20%60%3Cdiv%3E%0A%20%20%20%20%20%20%20%20%20%20%20%20%20%20%20%20%20%20%20%20%20Guatemala%0A%20%20%20%20%20%20%20%20%20%20%20%20%20%20%20%20%20%3C/div%3E%60%2C%0A%20%20%20%20%20%20%20%20%20%20%20%20%20%20%20%20%7B%22sticky%22%3A%20true%7D%0A%20%20%20%20%20%20%20%20%20%20%20%20%29%3B%0A%20%20%20%20%20%20%20%20%0A%20%20%20%20%0A%20%20%20%20%20%20%20%20%20%20%20%20var%20circle_c491bf035415478e9c174328a47d48dd%20%3D%20L.circle%28%0A%20%20%20%20%20%20%20%20%20%20%20%20%20%20%20%20%5B23.0%2C%20-102.0%5D%2C%0A%20%20%20%20%20%20%20%20%20%20%20%20%20%20%20%20%7B%22bubblingMouseEvents%22%3A%20true%2C%20%22color%22%3A%20%22%233b528b%22%2C%20%22dashArray%22%3A%20null%2C%20%22dashOffset%22%3A%20null%2C%20%22fill%22%3A%20true%2C%20%22fillColor%22%3A%20%22%233b528b%22%2C%20%22fillOpacity%22%3A%200.2%2C%20%22fillRule%22%3A%20%22evenodd%22%2C%20%22lineCap%22%3A%20%22round%22%2C%20%22lineJoin%22%3A%20%22round%22%2C%20%22opacity%22%3A%201.0%2C%20%22radius%22%3A%20100000%2C%20%22stroke%22%3A%20true%2C%20%22weight%22%3A%203%7D%0A%20%20%20%20%20%20%20%20%20%20%20%20%29.addTo%28feature_group_f92b5eb1ba23421da0d05e21098d371b%29%3B%0A%20%20%20%20%20%20%20%20%0A%20%20%20%20%0A%20%20%20%20%20%20%20%20var%20popup_2f5779c1db694f13ada82ca1ef149d56%20%3D%20L.popup%28%7B%22maxWidth%22%3A%20%22100%25%22%7D%29%3B%0A%0A%20%20%20%20%20%20%20%20%0A%20%20%20%20%20%20%20%20%20%20%20%20var%20i_frame_bc4c60cc40f74f7aad34f7131f177be3%20%3D%20%24%28%60%3Ciframe%20src%3D%22data%3Atext/html%3Bcharset%3Dutf-8%3Bbase64%2CCiAgICAKCiAgICA8c3Ryb25nPk5hbWU6PC9zdHJvbmc%2BICZlbXNwOyZlbXNwOyZlbXNwOyZlbXNwOyZlbXNwO01leGljbzxici8%2BCiAgICA8c3Ryb25nPlN0ZW1tZWQgTmFtZTo8L3N0cm9uZz4mZW1zcDtNRVhJQ088YnIvPgogICAgPHN0cm9uZz5Db3VudDo8L3N0cm9uZz4mZW1zcDsmZW1zcDsmZW1zcDsmZW1zcDsmZW1zcDsyCiAgICAKICAgIA%3D%3D%22%20width%3D%22300%22%20style%3D%22border%3Anone%20%21important%3B%22%20height%3D%2270%22%3E%3C/iframe%3E%60%29%5B0%5D%3B%0A%20%20%20%20%20%20%20%20%20%20%20%20popup_2f5779c1db694f13ada82ca1ef149d56.setContent%28i_frame_bc4c60cc40f74f7aad34f7131f177be3%29%3B%0A%20%20%20%20%20%20%20%20%0A%0A%20%20%20%20%20%20%20%20circle_c491bf035415478e9c174328a47d48dd.bindPopup%28popup_2f5779c1db694f13ada82ca1ef149d56%29%0A%20%20%20%20%20%20%20%20%3B%0A%0A%20%20%20%20%20%20%20%20%0A%20%20%20%20%0A%20%20%20%20%0A%20%20%20%20%20%20%20%20%20%20%20%20circle_c491bf035415478e9c174328a47d48dd.bindTooltip%28%0A%20%20%20%20%20%20%20%20%20%20%20%20%20%20%20%20%60%3Cdiv%3E%0A%20%20%20%20%20%20%20%20%20%20%20%20%20%20%20%20%20%20%20%20%20Mexico%0A%20%20%20%20%20%20%20%20%20%20%20%20%20%20%20%20%20%3C/div%3E%60%2C%0A%20%20%20%20%20%20%20%20%20%20%20%20%20%20%20%20%7B%22sticky%22%3A%20true%7D%0A%20%20%20%20%20%20%20%20%20%20%20%20%29%3B%0A%20%20%20%20%20%20%20%20%0A%20%20%20%20%0A%20%20%20%20%20%20%20%20%20%20%20%20var%20circle_2ed02c758f4a4f26a0b1954dc295e713%20%3D%20L.circle%28%0A%20%20%20%20%20%20%20%20%20%20%20%20%20%20%20%20%5B3.593188%2C%20-77.039419%5D%2C%0A%20%20%20%20%20%20%20%20%20%20%20%20%20%20%20%20%7B%22bubblingMouseEvents%22%3A%20true%2C%20%22color%22%3A%20%22%23440154%22%2C%20%22dashArray%22%3A%20null%2C%20%22dashOffset%22%3A%20null%2C%20%22fill%22%3A%20true%2C%20%22fillColor%22%3A%20%22%23440154%22%2C%20%22fillOpacity%22%3A%200.2%2C%20%22fillRule%22%3A%20%22evenodd%22%2C%20%22lineCap%22%3A%20%22round%22%2C%20%22lineJoin%22%3A%20%22round%22%2C%20%22opacity%22%3A%201.0%2C%20%22radius%22%3A%2050000%2C%20%22stroke%22%3A%20true%2C%20%22weight%22%3A%203%7D%0A%20%20%20%20%20%20%20%20%20%20%20%20%29.addTo%28feature_group_f92b5eb1ba23421da0d05e21098d371b%29%3B%0A%20%20%20%20%20%20%20%20%0A%20%20%20%20%0A%20%20%20%20%20%20%20%20var%20popup_17bd0ab374744e909c4b93eaf387b502%20%3D%20L.popup%28%7B%22maxWidth%22%3A%20%22100%25%22%7D%29%3B%0A%0A%20%20%20%20%20%20%20%20%0A%20%20%20%20%20%20%20%20%20%20%20%20var%20i_frame_df1aca2c4dc749bb8376a4f1fa7b91be%20%3D%20%24%28%60%3Ciframe%20src%3D%22data%3Atext/html%3Bcharset%3Dutf-8%3Bbase64%2CCiAgICAKCiAgICA8c3Ryb25nPk5hbWU6PC9zdHJvbmc%2BICZlbXNwOyZlbXNwOyZlbXNwOyZlbXNwOyZlbXNwO0J1ZW5hdmVudHVyYTxici8%2BCiAgICA8c3Ryb25nPlN0ZW1tZWQgTmFtZTo8L3N0cm9uZz4mZW1zcDtCVUVOQVZFTlRVUkE8YnIvPgogICAgPHN0cm9uZz5Db3VudDo8L3N0cm9uZz4mZW1zcDsmZW1zcDsmZW1zcDsmZW1zcDsmZW1zcDsxCiAgICAKICAgIA%3D%3D%22%20width%3D%22300%22%20style%3D%22border%3Anone%20%21important%3B%22%20height%3D%2270%22%3E%3C/iframe%3E%60%29%5B0%5D%3B%0A%20%20%20%20%20%20%20%20%20%20%20%20popup_17bd0ab374744e909c4b93eaf387b502.setContent%28i_frame_df1aca2c4dc749bb8376a4f1fa7b91be%29%3B%0A%20%20%20%20%20%20%20%20%0A%0A%20%20%20%20%20%20%20%20circle_2ed02c758f4a4f26a0b1954dc295e713.bindPopup%28popup_17bd0ab374744e909c4b93eaf387b502%29%0A%20%20%20%20%20%20%20%20%3B%0A%0A%20%20%20%20%20%20%20%20%0A%20%20%20%20%0A%20%20%20%20%0A%20%20%20%20%20%20%20%20%20%20%20%20circle_2ed02c758f4a4f26a0b1954dc295e713.bindTooltip%28%0A%20%20%20%20%20%20%20%20%20%20%20%20%20%20%20%20%60%3Cdiv%3E%0A%20%20%20%20%20%20%20%20%20%20%20%20%20%20%20%20%20%20%20%20%20Buenaventura%0A%20%20%20%20%20%20%20%20%20%20%20%20%20%20%20%20%20%3C/div%3E%60%2C%0A%20%20%20%20%20%20%20%20%20%20%20%20%20%20%20%20%7B%22sticky%22%3A%20true%7D%0A%20%20%20%20%20%20%20%20%20%20%20%20%29%3B%0A%20%20%20%20%20%20%20%20%0A%20%20%20%20%0A%20%20%20%20%20%20%20%20%20%20%20%20var%20circle_69686a1c9f6b4562bc6232cdd6dd3e27%20%3D%20L.circle%28%0A%20%20%20%20%20%20%20%20%20%20%20%20%20%20%20%20%5B-3.5%2C%2030.0%5D%2C%0A%20%20%20%20%20%20%20%20%20%20%20%20%20%20%20%20%7B%22bubblingMouseEvents%22%3A%20true%2C%20%22color%22%3A%20%22%23440154%22%2C%20%22dashArray%22%3A%20null%2C%20%22dashOffset%22%3A%20null%2C%20%22fill%22%3A%20true%2C%20%22fillColor%22%3A%20%22%23440154%22%2C%20%22fillOpacity%22%3A%200.2%2C%20%22fillRule%22%3A%20%22evenodd%22%2C%20%22lineCap%22%3A%20%22round%22%2C%20%22lineJoin%22%3A%20%22round%22%2C%20%22opacity%22%3A%201.0%2C%20%22radius%22%3A%2050000%2C%20%22stroke%22%3A%20true%2C%20%22weight%22%3A%203%7D%0A%20%20%20%20%20%20%20%20%20%20%20%20%29.addTo%28feature_group_f92b5eb1ba23421da0d05e21098d371b%29%3B%0A%20%20%20%20%20%20%20%20%0A%20%20%20%20%0A%20%20%20%20%20%20%20%20var%20popup_f164f34ad72c44c88228fb51acd4fac0%20%3D%20L.popup%28%7B%22maxWidth%22%3A%20%22100%25%22%7D%29%3B%0A%0A%20%20%20%20%20%20%20%20%0A%20%20%20%20%20%20%20%20%20%20%20%20var%20i_frame_a51cc42782fb4bd3a5fddfe6b07e1d7f%20%3D%20%24%28%60%3Ciframe%20src%3D%22data%3Atext/html%3Bcharset%3Dutf-8%3Bbase64%2CCiAgICAKCiAgICA8c3Ryb25nPk5hbWU6PC9zdHJvbmc%2BICZlbXNwOyZlbXNwOyZlbXNwOyZlbXNwOyZlbXNwO0J1cnVuZGk8YnIvPgogICAgPHN0cm9uZz5TdGVtbWVkIE5hbWU6PC9zdHJvbmc%2BJmVtc3A7QlVSVU5ESTxici8%2BCiAgICA8c3Ryb25nPkNvdW50Ojwvc3Ryb25nPiZlbXNwOyZlbXNwOyZlbXNwOyZlbXNwOyZlbXNwOzEKICAgIAogICAg%22%20width%3D%22300%22%20style%3D%22border%3Anone%20%21important%3B%22%20height%3D%2270%22%3E%3C/iframe%3E%60%29%5B0%5D%3B%0A%20%20%20%20%20%20%20%20%20%20%20%20popup_f164f34ad72c44c88228fb51acd4fac0.setContent%28i_frame_a51cc42782fb4bd3a5fddfe6b07e1d7f%29%3B%0A%20%20%20%20%20%20%20%20%0A%0A%20%20%20%20%20%20%20%20circle_69686a1c9f6b4562bc6232cdd6dd3e27.bindPopup%28popup_f164f34ad72c44c88228fb51acd4fac0%29%0A%20%20%20%20%20%20%20%20%3B%0A%0A%20%20%20%20%20%20%20%20%0A%20%20%20%20%0A%20%20%20%20%0A%20%20%20%20%20%20%20%20%20%20%20%20circle_69686a1c9f6b4562bc6232cdd6dd3e27.bindTooltip%28%0A%20%20%20%20%20%20%20%20%20%20%20%20%20%20%20%20%60%3Cdiv%3E%0A%20%20%20%20%20%20%20%20%20%20%20%20%20%20%20%20%20%20%20%20%20Burundi%0A%20%20%20%20%20%20%20%20%20%20%20%20%20%20%20%20%20%3C/div%3E%60%2C%0A%20%20%20%20%20%20%20%20%20%20%20%20%20%20%20%20%7B%22sticky%22%3A%20true%7D%0A%20%20%20%20%20%20%20%20%20%20%20%20%29%3B%0A%20%20%20%20%20%20%20%20%0A%20%20%20%20%0A%20%20%20%20%20%20%20%20%20%20%20%20var%20circle_8b04015219534bba8960d2f4b050f282%20%3D%20L.circle%28%0A%20%20%20%20%20%20%20%20%20%20%20%20%20%20%20%20%5B-19.0%2C%2029.75%5D%2C%0A%20%20%20%20%20%20%20%20%20%20%20%20%20%20%20%20%7B%22bubblingMouseEvents%22%3A%20true%2C%20%22color%22%3A%20%22%23440154%22%2C%20%22dashArray%22%3A%20null%2C%20%22dashOffset%22%3A%20null%2C%20%22fill%22%3A%20true%2C%20%22fillColor%22%3A%20%22%23440154%22%2C%20%22fillOpacity%22%3A%200.2%2C%20%22fillRule%22%3A%20%22evenodd%22%2C%20%22lineCap%22%3A%20%22round%22%2C%20%22lineJoin%22%3A%20%22round%22%2C%20%22opacity%22%3A%201.0%2C%20%22radius%22%3A%2050000%2C%20%22stroke%22%3A%20true%2C%20%22weight%22%3A%203%7D%0A%20%20%20%20%20%20%20%20%20%20%20%20%29.addTo%28feature_group_f92b5eb1ba23421da0d05e21098d371b%29%3B%0A%20%20%20%20%20%20%20%20%0A%20%20%20%20%0A%20%20%20%20%20%20%20%20var%20popup_37014202db2d46dfbe55f0bd253968f1%20%3D%20L.popup%28%7B%22maxWidth%22%3A%20%22100%25%22%7D%29%3B%0A%0A%20%20%20%20%20%20%20%20%0A%20%20%20%20%20%20%20%20%20%20%20%20var%20i_frame_0ef8569cd5c64c338a4e342594df75bd%20%3D%20%24%28%60%3Ciframe%20src%3D%22data%3Atext/html%3Bcharset%3Dutf-8%3Bbase64%2CCiAgICAKCiAgICA8c3Ryb25nPk5hbWU6PC9zdHJvbmc%2BICZlbXNwOyZlbXNwOyZlbXNwOyZlbXNwOyZlbXNwO1ppbWJhYndlPGJyLz4KICAgIDxzdHJvbmc%2BU3RlbW1lZCBOYW1lOjwvc3Ryb25nPiZlbXNwO1pJTUJBQldFPGJyLz4KICAgIDxzdHJvbmc%2BQ291bnQ6PC9zdHJvbmc%2BJmVtc3A7JmVtc3A7JmVtc3A7JmVtc3A7JmVtc3A7MQogICAgCiAgICA%3D%22%20width%3D%22300%22%20style%3D%22border%3Anone%20%21important%3B%22%20height%3D%2270%22%3E%3C/iframe%3E%60%29%5B0%5D%3B%0A%20%20%20%20%20%20%20%20%20%20%20%20popup_37014202db2d46dfbe55f0bd253968f1.setContent%28i_frame_0ef8569cd5c64c338a4e342594df75bd%29%3B%0A%20%20%20%20%20%20%20%20%0A%0A%20%20%20%20%20%20%20%20circle_8b04015219534bba8960d2f4b050f282.bindPopup%28popup_37014202db2d46dfbe55f0bd253968f1%29%0A%20%20%20%20%20%20%20%20%3B%0A%0A%20%20%20%20%20%20%20%20%0A%20%20%20%20%0A%20%20%20%20%0A%20%20%20%20%20%20%20%20%20%20%20%20circle_8b04015219534bba8960d2f4b050f282.bindTooltip%28%0A%20%20%20%20%20%20%20%20%20%20%20%20%20%20%20%20%60%3Cdiv%3E%0A%20%20%20%20%20%20%20%20%20%20%20%20%20%20%20%20%20%20%20%20%20Zimbabwe%0A%20%20%20%20%20%20%20%20%20%20%20%20%20%20%20%20%20%3C/div%3E%60%2C%0A%20%20%20%20%20%20%20%20%20%20%20%20%20%20%20%20%7B%22sticky%22%3A%20true%7D%0A%20%20%20%20%20%20%20%20%20%20%20%20%29%3B%0A%20%20%20%20%20%20%20%20%0A%20%20%20%20%0A%20%20%20%20%20%20%20%20%20%20%20%20var%20circle_217a664b0fc84c8cb63ae6b0a6d5bd07%20%3D%20L.circle%28%0A%20%20%20%20%20%20%20%20%20%20%20%20%20%20%20%20%5B15.0%2C%20-86.5%5D%2C%0A%20%20%20%20%20%20%20%20%20%20%20%20%20%20%20%20%7B%22bubblingMouseEvents%22%3A%20true%2C%20%22color%22%3A%20%22%233b528b%22%2C%20%22dashArray%22%3A%20null%2C%20%22dashOffset%22%3A%20null%2C%20%22fill%22%3A%20true%2C%20%22fillColor%22%3A%20%22%233b528b%22%2C%20%22fillOpacity%22%3A%200.2%2C%20%22fillRule%22%3A%20%22evenodd%22%2C%20%22lineCap%22%3A%20%22round%22%2C%20%22lineJoin%22%3A%20%22round%22%2C%20%22opacity%22%3A%201.0%2C%20%22radius%22%3A%20100000%2C%20%22stroke%22%3A%20true%2C%20%22weight%22%3A%203%7D%0A%20%20%20%20%20%20%20%20%20%20%20%20%29.addTo%28feature_group_f92b5eb1ba23421da0d05e21098d371b%29%3B%0A%20%20%20%20%20%20%20%20%0A%20%20%20%20%0A%20%20%20%20%20%20%20%20var%20popup_ecfe95d70d194beaac9fd5396e2a52cb%20%3D%20L.popup%28%7B%22maxWidth%22%3A%20%22100%25%22%7D%29%3B%0A%0A%20%20%20%20%20%20%20%20%0A%20%20%20%20%20%20%20%20%20%20%20%20var%20i_frame_82f0d96a0f6f4c1785b89924cab99888%20%3D%20%24%28%60%3Ciframe%20src%3D%22data%3Atext/html%3Bcharset%3Dutf-8%3Bbase64%2CCiAgICAKCiAgICA8c3Ryb25nPk5hbWU6PC9zdHJvbmc%2BICZlbXNwOyZlbXNwOyZlbXNwOyZlbXNwOyZlbXNwO0hvbmR1cmFzPGJyLz4KICAgIDxzdHJvbmc%2BU3RlbW1lZCBOYW1lOjwvc3Ryb25nPiZlbXNwO0hPTkRVUkFTPGJyLz4KICAgIDxzdHJvbmc%2BQ291bnQ6PC9zdHJvbmc%2BJmVtc3A7JmVtc3A7JmVtc3A7JmVtc3A7JmVtc3A7MgogICAgCiAgICA%3D%22%20width%3D%22300%22%20style%3D%22border%3Anone%20%21important%3B%22%20height%3D%2270%22%3E%3C/iframe%3E%60%29%5B0%5D%3B%0A%20%20%20%20%20%20%20%20%20%20%20%20popup_ecfe95d70d194beaac9fd5396e2a52cb.setContent%28i_frame_82f0d96a0f6f4c1785b89924cab99888%29%3B%0A%20%20%20%20%20%20%20%20%0A%0A%20%20%20%20%20%20%20%20circle_217a664b0fc84c8cb63ae6b0a6d5bd07.bindPopup%28popup_ecfe95d70d194beaac9fd5396e2a52cb%29%0A%20%20%20%20%20%20%20%20%3B%0A%0A%20%20%20%20%20%20%20%20%0A%20%20%20%20%0A%20%20%20%20%0A%20%20%20%20%20%20%20%20%20%20%20%20circle_217a664b0fc84c8cb63ae6b0a6d5bd07.bindTooltip%28%0A%20%20%20%20%20%20%20%20%20%20%20%20%20%20%20%20%60%3Cdiv%3E%0A%20%20%20%20%20%20%20%20%20%20%20%20%20%20%20%20%20%20%20%20%20Honduras%0A%20%20%20%20%20%20%20%20%20%20%20%20%20%20%20%20%20%3C/div%3E%60%2C%0A%20%20%20%20%20%20%20%20%20%20%20%20%20%20%20%20%7B%22sticky%22%3A%20true%7D%0A%20%20%20%20%20%20%20%20%20%20%20%20%29%3B%0A%20%20%20%20%20%20%20%20%0A%20%20%20%20%0A%20%20%20%20%20%20%20%20%20%20%20%20var%20marker_cluster_dafa5b4d98ac4e62b96475a9e8d32cd0%20%3D%20L.markerClusterGroup%28%0A%20%20%20%20%20%20%20%20%20%20%20%20%20%20%20%20%7B%7D%0A%20%20%20%20%20%20%20%20%20%20%20%20%29%3B%0A%20%20%20%20%20%20%20%20%20%20%20%20map_95023ae080384ee8aae514cade4d6611.addLayer%28marker_cluster_dafa5b4d98ac4e62b96475a9e8d32cd0%29%3B%0A%20%20%20%20%20%20%20%20%0A%20%20%20%20%0A%20%20%20%20%20%20%20%20%20%20%20%20var%20circle_5af2c46233bb43c4bfacb44f595d33b2%20%3D%20L.circle%28%0A%20%20%20%20%20%20%20%20%20%20%20%20%20%20%20%20%5B13.178953%2C%20-5.016175%5D%2C%0A%20%20%20%20%20%20%20%20%20%20%20%20%20%20%20%20%7B%22bubblingMouseEvents%22%3A%20true%2C%20%22color%22%3A%20%22%233388ff%22%2C%20%22dashArray%22%3A%20null%2C%20%22dashOffset%22%3A%20null%2C%20%22fill%22%3A%20false%2C%20%22fillColor%22%3A%20%22%233388ff%22%2C%20%22fillOpacity%22%3A%200.2%2C%20%22fillRule%22%3A%20%22evenodd%22%2C%20%22lineCap%22%3A%20%22round%22%2C%20%22lineJoin%22%3A%20%22round%22%2C%20%22opacity%22%3A%201.0%2C%20%22radius%22%3A%2050%2C%20%22stroke%22%3A%20true%2C%20%22weight%22%3A%203%7D%0A%20%20%20%20%20%20%20%20%20%20%20%20%29.addTo%28marker_cluster_dafa5b4d98ac4e62b96475a9e8d32cd0%29%3B%0A%20%20%20%20%20%20%20%20%0A%20%20%20%20%0A%20%20%20%20%20%20%20%20%20%20%20%20var%20circle_c36cb4572cbb480ebb2301ff36c389d0%20%3D%20L.circle%28%0A%20%20%20%20%20%20%20%20%20%20%20%20%20%20%20%20%5B-14.33333%2C%2028.5%5D%2C%0A%20%20%20%20%20%20%20%20%20%20%20%20%20%20%20%20%7B%22bubblingMouseEvents%22%3A%20true%2C%20%22color%22%3A%20%22%233388ff%22%2C%20%22dashArray%22%3A%20null%2C%20%22dashOffset%22%3A%20null%2C%20%22fill%22%3A%20false%2C%20%22fillColor%22%3A%20%22%233388ff%22%2C%20%22fillOpacity%22%3A%200.2%2C%20%22fillRule%22%3A%20%22evenodd%22%2C%20%22lineCap%22%3A%20%22round%22%2C%20%22lineJoin%22%3A%20%22round%22%2C%20%22opacity%22%3A%201.0%2C%20%22radius%22%3A%2050%2C%20%22stroke%22%3A%20true%2C%20%22weight%22%3A%203%7D%0A%20%20%20%20%20%20%20%20%20%20%20%20%29.addTo%28marker_cluster_dafa5b4d98ac4e62b96475a9e8d32cd0%29%3B%0A%20%20%20%20%20%20%20%20%0A%20%20%20%20%0A%20%20%20%20%20%20%20%20%20%20%20%20var%20circle_c64a8fe3dc6240fda0e12d2c1bcb854e%20%3D%20L.circle%28%0A%20%20%20%20%20%20%20%20%20%20%20%20%20%20%20%20%5B60.0%2C%20100.0%5D%2C%0A%20%20%20%20%20%20%20%20%20%20%20%20%20%20%20%20%7B%22bubblingMouseEvents%22%3A%20true%2C%20%22color%22%3A%20%22%233388ff%22%2C%20%22dashArray%22%3A%20null%2C%20%22dashOffset%22%3A%20null%2C%20%22fill%22%3A%20false%2C%20%22fillColor%22%3A%20%22%233388ff%22%2C%20%22fillOpacity%22%3A%200.2%2C%20%22fillRule%22%3A%20%22evenodd%22%2C%20%22lineCap%22%3A%20%22round%22%2C%20%22lineJoin%22%3A%20%22round%22%2C%20%22opacity%22%3A%201.0%2C%20%22radius%22%3A%2050%2C%20%22stroke%22%3A%20true%2C%20%22weight%22%3A%203%7D%0A%20%20%20%20%20%20%20%20%20%20%20%20%29.addTo%28marker_cluster_dafa5b4d98ac4e62b96475a9e8d32cd0%29%3B%0A%20%20%20%20%20%20%20%20%0A%20%20%20%20%0A%20%20%20%20%20%20%20%20%20%20%20%20var%20circle_6b91d4dd85974a5b99b3cb89da31ab4a%20%3D%20L.circle%28%0A%20%20%20%20%20%20%20%20%20%20%20%20%20%20%20%20%5B49.0%2C%2032.0%5D%2C%0A%20%20%20%20%20%20%20%20%20%20%20%20%20%20%20%20%7B%22bubblingMouseEvents%22%3A%20true%2C%20%22color%22%3A%20%22%233388ff%22%2C%20%22dashArray%22%3A%20null%2C%20%22dashOffset%22%3A%20null%2C%20%22fill%22%3A%20false%2C%20%22fillColor%22%3A%20%22%233388ff%22%2C%20%22fillOpacity%22%3A%200.2%2C%20%22fillRule%22%3A%20%22evenodd%22%2C%20%22lineCap%22%3A%20%22round%22%2C%20%22lineJoin%22%3A%20%22round%22%2C%20%22opacity%22%3A%201.0%2C%20%22radius%22%3A%2050%2C%20%22stroke%22%3A%20true%2C%20%22weight%22%3A%203%7D%0A%20%20%20%20%20%20%20%20%20%20%20%20%29.addTo%28marker_cluster_dafa5b4d98ac4e62b96475a9e8d32cd0%29%3B%0A%20%20%20%20%20%20%20%20%0A%20%20%20%20%0A%20%20%20%20%20%20%20%20%20%20%20%20var%20circle_b1c25460f54a47b1a389bfb456316c0f%20%3D%20L.circle%28%0A%20%20%20%20%20%20%20%20%20%20%20%20%20%20%20%20%5B-13.5%2C%2034.0%5D%2C%0A%20%20%20%20%20%20%20%20%20%20%20%20%20%20%20%20%7B%22bubblingMouseEvents%22%3A%20true%2C%20%22color%22%3A%20%22%233388ff%22%2C%20%22dashArray%22%3A%20null%2C%20%22dashOffset%22%3A%20null%2C%20%22fill%22%3A%20false%2C%20%22fillColor%22%3A%20%22%233388ff%22%2C%20%22fillOpacity%22%3A%200.2%2C%20%22fillRule%22%3A%20%22evenodd%22%2C%20%22lineCap%22%3A%20%22round%22%2C%20%22lineJoin%22%3A%20%22round%22%2C%20%22opacity%22%3A%201.0%2C%20%22radius%22%3A%2050%2C%20%22stroke%22%3A%20true%2C%20%22weight%22%3A%203%7D%0A%20%20%20%20%20%20%20%20%20%20%20%20%29.addTo%28marker_cluster_dafa5b4d98ac4e62b96475a9e8d32cd0%29%3B%0A%20%20%20%20%20%20%20%20%0A%20%20%20%20%0A%20%20%20%20%20%20%20%20%20%20%20%20var%20circle_7b410510c6444f5aa0509e51756630d9%20%3D%20L.circle%28%0A%20%20%20%20%20%20%20%20%20%20%20%20%20%20%20%20%5B14.666667%2C%20-90.5%5D%2C%0A%20%20%20%20%20%20%20%20%20%20%20%20%20%20%20%20%7B%22bubblingMouseEvents%22%3A%20true%2C%20%22color%22%3A%20%22%233388ff%22%2C%20%22dashArray%22%3A%20null%2C%20%22dashOffset%22%3A%20null%2C%20%22fill%22%3A%20false%2C%20%22fillColor%22%3A%20%22%233388ff%22%2C%20%22fillOpacity%22%3A%200.2%2C%20%22fillRule%22%3A%20%22evenodd%22%2C%20%22lineCap%22%3A%20%22round%22%2C%20%22lineJoin%22%3A%20%22round%22%2C%20%22opacity%22%3A%201.0%2C%20%22radius%22%3A%2050%2C%20%22stroke%22%3A%20true%2C%20%22weight%22%3A%203%7D%0A%20%20%20%20%20%20%20%20%20%20%20%20%29.addTo%28marker_cluster_dafa5b4d98ac4e62b96475a9e8d32cd0%29%3B%0A%20%20%20%20%20%20%20%20%0A%20%20%20%20%0A%20%20%20%20%20%20%20%20%20%20%20%20var%20circle_1d9973bb842c4794b0007c6986e09262%20%3D%20L.circle%28%0A%20%20%20%20%20%20%20%20%20%20%20%20%20%20%20%20%5B23.0%2C%20-102.0%5D%2C%0A%20%20%20%20%20%20%20%20%20%20%20%20%20%20%20%20%7B%22bubblingMouseEvents%22%3A%20true%2C%20%22color%22%3A%20%22%233388ff%22%2C%20%22dashArray%22%3A%20null%2C%20%22dashOffset%22%3A%20null%2C%20%22fill%22%3A%20false%2C%20%22fillColor%22%3A%20%22%233388ff%22%2C%20%22fillOpacity%22%3A%200.2%2C%20%22fillRule%22%3A%20%22evenodd%22%2C%20%22lineCap%22%3A%20%22round%22%2C%20%22lineJoin%22%3A%20%22round%22%2C%20%22opacity%22%3A%201.0%2C%20%22radius%22%3A%2050%2C%20%22stroke%22%3A%20true%2C%20%22weight%22%3A%203%7D%0A%20%20%20%20%20%20%20%20%20%20%20%20%29.addTo%28marker_cluster_dafa5b4d98ac4e62b96475a9e8d32cd0%29%3B%0A%20%20%20%20%20%20%20%20%0A%20%20%20%20%0A%20%20%20%20%20%20%20%20%20%20%20%20var%20circle_2e0eb3da166944a9ad9bcbd9211cb16e%20%3D%20L.circle%28%0A%20%20%20%20%20%20%20%20%20%20%20%20%20%20%20%20%5B3.593188%2C%20-77.039419%5D%2C%0A%20%20%20%20%20%20%20%20%20%20%20%20%20%20%20%20%7B%22bubblingMouseEvents%22%3A%20true%2C%20%22color%22%3A%20%22%233388ff%22%2C%20%22dashArray%22%3A%20null%2C%20%22dashOffset%22%3A%20null%2C%20%22fill%22%3A%20false%2C%20%22fillColor%22%3A%20%22%233388ff%22%2C%20%22fillOpacity%22%3A%200.2%2C%20%22fillRule%22%3A%20%22evenodd%22%2C%20%22lineCap%22%3A%20%22round%22%2C%20%22lineJoin%22%3A%20%22round%22%2C%20%22opacity%22%3A%201.0%2C%20%22radius%22%3A%2050%2C%20%22stroke%22%3A%20true%2C%20%22weight%22%3A%203%7D%0A%20%20%20%20%20%20%20%20%20%20%20%20%29.addTo%28marker_cluster_dafa5b4d98ac4e62b96475a9e8d32cd0%29%3B%0A%20%20%20%20%20%20%20%20%0A%20%20%20%20%0A%20%20%20%20%20%20%20%20%20%20%20%20var%20circle_e83d724760d3458480066a2b80b06397%20%3D%20L.circle%28%0A%20%20%20%20%20%20%20%20%20%20%20%20%20%20%20%20%5B-3.5%2C%2030.0%5D%2C%0A%20%20%20%20%20%20%20%20%20%20%20%20%20%20%20%20%7B%22bubblingMouseEvents%22%3A%20true%2C%20%22color%22%3A%20%22%233388ff%22%2C%20%22dashArray%22%3A%20null%2C%20%22dashOffset%22%3A%20null%2C%20%22fill%22%3A%20false%2C%20%22fillColor%22%3A%20%22%233388ff%22%2C%20%22fillOpacity%22%3A%200.2%2C%20%22fillRule%22%3A%20%22evenodd%22%2C%20%22lineCap%22%3A%20%22round%22%2C%20%22lineJoin%22%3A%20%22round%22%2C%20%22opacity%22%3A%201.0%2C%20%22radius%22%3A%2050%2C%20%22stroke%22%3A%20true%2C%20%22weight%22%3A%203%7D%0A%20%20%20%20%20%20%20%20%20%20%20%20%29.addTo%28marker_cluster_dafa5b4d98ac4e62b96475a9e8d32cd0%29%3B%0A%20%20%20%20%20%20%20%20%0A%20%20%20%20%0A%20%20%20%20%20%20%20%20%20%20%20%20var%20circle_8df87a8b4f3f4befbdf0d640d73e13c4%20%3D%20L.circle%28%0A%20%20%20%20%20%20%20%20%20%20%20%20%20%20%20%20%5B-19.0%2C%2029.75%5D%2C%0A%20%20%20%20%20%20%20%20%20%20%20%20%20%20%20%20%7B%22bubblingMouseEvents%22%3A%20true%2C%20%22color%22%3A%20%22%233388ff%22%2C%20%22dashArray%22%3A%20null%2C%20%22dashOffset%22%3A%20null%2C%20%22fill%22%3A%20false%2C%20%22fillColor%22%3A%20%22%233388ff%22%2C%20%22fillOpacity%22%3A%200.2%2C%20%22fillRule%22%3A%20%22evenodd%22%2C%20%22lineCap%22%3A%20%22round%22%2C%20%22lineJoin%22%3A%20%22round%22%2C%20%22opacity%22%3A%201.0%2C%20%22radius%22%3A%2050%2C%20%22stroke%22%3A%20true%2C%20%22weight%22%3A%203%7D%0A%20%20%20%20%20%20%20%20%20%20%20%20%29.addTo%28marker_cluster_dafa5b4d98ac4e62b96475a9e8d32cd0%29%3B%0A%20%20%20%20%20%20%20%20%0A%20%20%20%20%0A%20%20%20%20%20%20%20%20%20%20%20%20var%20circle_f65fb3ca6d7540389d6fc6d31af27f36%20%3D%20L.circle%28%0A%20%20%20%20%20%20%20%20%20%20%20%20%20%20%20%20%5B15.0%2C%20-86.5%5D%2C%0A%20%20%20%20%20%20%20%20%20%20%20%20%20%20%20%20%7B%22bubblingMouseEvents%22%3A%20true%2C%20%22color%22%3A%20%22%233388ff%22%2C%20%22dashArray%22%3A%20null%2C%20%22dashOffset%22%3A%20null%2C%20%22fill%22%3A%20false%2C%20%22fillColor%22%3A%20%22%233388ff%22%2C%20%22fillOpacity%22%3A%200.2%2C%20%22fillRule%22%3A%20%22evenodd%22%2C%20%22lineCap%22%3A%20%22round%22%2C%20%22lineJoin%22%3A%20%22round%22%2C%20%22opacity%22%3A%201.0%2C%20%22radius%22%3A%2050%2C%20%22stroke%22%3A%20true%2C%20%22weight%22%3A%203%7D%0A%20%20%20%20%20%20%20%20%20%20%20%20%29.addTo%28marker_cluster_dafa5b4d98ac4e62b96475a9e8d32cd0%29%3B%0A%20%20%20%20%20%20%20%20%0A%20%20%20%20%0A%20%20%20%20%20%20%20%20%20%20%20%20var%20heat_map_263679bbb1714846a6887d8a314b83b9%20%3D%20L.heatLayer%28%0A%20%20%20%20%20%20%20%20%20%20%20%20%20%20%20%20%5B%5B13.178953%2C%20-5.016175%5D%2C%20%5B-14.33333%2C%2028.5%5D%2C%20%5B60.0%2C%20100.0%5D%2C%20%5B49.0%2C%2032.0%5D%2C%20%5B-13.5%2C%2034.0%5D%2C%20%5B14.666667%2C%20-90.5%5D%2C%20%5B23.0%2C%20-102.0%5D%2C%20%5B3.593188%2C%20-77.039419%5D%2C%20%5B-3.5%2C%2030.0%5D%2C%20%5B-19.0%2C%2029.75%5D%2C%20%5B15.0%2C%20-86.5%5D%5D%2C%0A%20%20%20%20%20%20%20%20%20%20%20%20%20%20%20%20%7B%22blur%22%3A%2015%2C%20%22maxZoom%22%3A%2018%2C%20%22minOpacity%22%3A%200.3%2C%20%22radius%22%3A%2025%7D%0A%20%20%20%20%20%20%20%20%20%20%20%20%29.addTo%28map_95023ae080384ee8aae514cade4d6611%29%3B%0A%20%20%20%20%20%20%20%20%0A%20%20%20%20%0A%20%20%20%20%20%20%20%20%20%20%20%20var%20heat_map_c17726bb9cf6492c8d69e2a8a5a68ff6%20%3D%20L.heatLayer%28%0A%20%20%20%20%20%20%20%20%20%20%20%20%20%20%20%20%5B%5B13.178953%2C%20-5.016175%5D%2C%20%5B13.178953%2C%20-5.016175%5D%2C%20%5B-14.33333%2C%2028.5%5D%2C%20%5B60.0%2C%20100.0%5D%2C%20%5B49.0%2C%2032.0%5D%2C%20%5B49.0%2C%2032.0%5D%2C%20%5B-13.5%2C%2034.0%5D%2C%20%5B14.666667%2C%20-90.5%5D%2C%20%5B23.0%2C%20-102.0%5D%2C%20%5B23.0%2C%20-102.0%5D%2C%20%5B3.593188%2C%20-77.039419%5D%2C%20%5B-3.5%2C%2030.0%5D%2C%20%5B-19.0%2C%2029.75%5D%2C%20%5B15.0%2C%20-86.5%5D%2C%20%5B15.0%2C%20-86.5%5D%5D%2C%0A%20%20%20%20%20%20%20%20%20%20%20%20%20%20%20%20%7B%22blur%22%3A%2015%2C%20%22maxZoom%22%3A%2018%2C%20%22minOpacity%22%3A%200.3%2C%20%22radius%22%3A%2025%7D%0A%20%20%20%20%20%20%20%20%20%20%20%20%29.addTo%28map_95023ae080384ee8aae514cade4d6611%29%3B%0A%20%20%20%20%20%20%20%20%0A%20%20%20%20%0A%20%20%20%20%20%20%20%20%20%20%20%20var%20layer_control_544f378394b941a597a9d56778f76151%20%3D%20%7B%0A%20%20%20%20%20%20%20%20%20%20%20%20%20%20%20%20base_layers%20%3A%20%7B%0A%20%20%20%20%20%20%20%20%20%20%20%20%20%20%20%20%20%20%20%20%22Dark%22%20%3A%20tile_layer_05993a913523448096ed0953bbf9b2a7%2C%0A%20%20%20%20%20%20%20%20%20%20%20%20%20%20%20%20%20%20%20%20%22Watercolor%22%20%3A%20tile_layer_305527f95b21402cb70127f24de73f21%2C%0A%20%20%20%20%20%20%20%20%20%20%20%20%20%20%20%20%7D%2C%0A%20%20%20%20%20%20%20%20%20%20%20%20%20%20%20%20overlays%20%3A%20%20%7B%0A%20%20%20%20%20%20%20%20%20%20%20%20%20%20%20%20%20%20%20%20%22Points%22%20%3A%20feature_group_f92b5eb1ba23421da0d05e21098d371b%2C%0A%20%20%20%20%20%20%20%20%20%20%20%20%20%20%20%20%20%20%20%20%22Cluster%22%20%3A%20marker_cluster_dafa5b4d98ac4e62b96475a9e8d32cd0%2C%0A%20%20%20%20%20%20%20%20%20%20%20%20%20%20%20%20%20%20%20%20%22HeatMap%22%20%3A%20heat_map_263679bbb1714846a6887d8a314b83b9%2C%0A%20%20%20%20%20%20%20%20%20%20%20%20%20%20%20%20%20%20%20%20%22HeatMap_multiple%22%20%3A%20heat_map_c17726bb9cf6492c8d69e2a8a5a68ff6%2C%0A%20%20%20%20%20%20%20%20%20%20%20%20%20%20%20%20%7D%2C%0A%20%20%20%20%20%20%20%20%20%20%20%20%7D%3B%0A%20%20%20%20%20%20%20%20%20%20%20%20L.control.layers%28%0A%20%20%20%20%20%20%20%20%20%20%20%20%20%20%20%20layer_control_544f378394b941a597a9d56778f76151.base_layers%2C%0A%20%20%20%20%20%20%20%20%20%20%20%20%20%20%20%20layer_control_544f378394b941a597a9d56778f76151.overlays%2C%0A%20%20%20%20%20%20%20%20%20%20%20%20%20%20%20%20%7B%22autoZIndex%22%3A%20true%2C%20%22collapsed%22%3A%20false%2C%20%22position%22%3A%20%22topright%22%7D%0A%20%20%20%20%20%20%20%20%20%20%20%20%29.addTo%28map_95023ae080384ee8aae514cade4d6611%29%3B%0A%20%20%20%20%20%20%20%20%20%20%20%20tile_layer_305527f95b21402cb70127f24de73f21.remove%28%29%3B%0A%20%20%20%20%20%20%20%20%20%20%20%20marker_cluster_dafa5b4d98ac4e62b96475a9e8d32cd0.remove%28%29%3B%0A%20%20%20%20%20%20%20%20%20%20%20%20heat_map_263679bbb1714846a6887d8a314b83b9.remove%28%29%3B%0A%20%20%20%20%20%20%20%20%20%20%20%20heat_map_c17726bb9cf6492c8d69e2a8a5a68ff6.remove%28%29%3B%0A%20%20%20%20%20%20%20%20%0A%3C/script%3E onload=\"this.contentDocument.open();this.contentDocument.write(    decodeURIComponent(this.getAttribute('data-html')));this.contentDocument.close();\" allowfullscreen webkitallowfullscreen mozallowfullscreen></iframe></div></div>"
      ],
      "text/plain": [
       "<folium.folium.Map at 0x140ff5700>"
      ]
     },
     "execution_count": 9,
     "metadata": {},
     "output_type": "execute_result"
    }
   ],
   "source": [
    "# create map\n",
    "heatMap = folium.Figure(width='75%')\n",
    "heatMap = folium.Map(\n",
    "    location=[15, 30],\n",
    "    zoom_start=2,\n",
    "    max_bounds=True,\n",
    "    tiles=None).add_to(heatMap)\n",
    "\n",
    "# add tiles\n",
    "folium.TileLayer(tiles='Cartodb dark_matter', name=\"Dark\").add_to(heatMap)\n",
    "folium.TileLayer(tiles='stamen watercolor', name=\"Watercolor\").add_to(heatMap)\n",
    "\n",
    "# add points and markercluster\n",
    "points = folium.FeatureGroup(name=\"Points\", show=True).add_to(heatMap)\n",
    "cluster = plugins.MarkerCluster(\n",
    "    name=\"Cluster\", show=False).add_to(heatMap)\n",
    "\n",
    "for place, attributes in d.items():\n",
    "\n",
    "    coordinates = (attributes['lat'], attributes['lon'])\n",
    "\n",
    "    html = f'''\n",
    "\n",
    "    <strong>Name:</strong> &emsp;&emsp;&emsp;&emsp;&emsp;{attributes['name']}<br/>\n",
    "    <strong>Stemmed Name:</strong>&emsp;{place}<br/>\n",
    "    <strong>Count:</strong>&emsp;&emsp;&emsp;&emsp;&emsp;{attributes['count']}\n",
    "    \n",
    "    '''\n",
    "\n",
    "    iframe = folium.IFrame(\n",
    "        html,\n",
    "        width=300,\n",
    "        height=70)\n",
    "\n",
    "    popup = folium.Popup(iframe)\n",
    "\n",
    "    folium.Circle(coordinates).add_to(cluster)\n",
    "    folium.Circle(\n",
    "        location=coordinates,\n",
    "        popup=popup,\n",
    "        tooltip=attributes['name'],\n",
    "        radius=attributes['count'] * 50000,\n",
    "        fill=True,\n",
    "        color=color_dic[attributes['count']]\n",
    "    ).add_to(points)\n",
    "\n",
    "\n",
    "# extract coordinate of geodataframe\n",
    "coordinates = [[point.xy[1][0], point.xy[0][0]] for point in places.geometry]\n",
    "\n",
    "# add heatmap\n",
    "plugins.HeatMap(\n",
    "    name='HeatMap',\n",
    "    data=coordinates,\n",
    "    min_opacity=0.3,\n",
    "    show=False\n",
    ").add_to(heatMap)\n",
    "\n",
    "\n",
    "new = []\n",
    "for place in places.iterrows():\n",
    "    for i in range(place[1]['count']):\n",
    "        new.append(place[1])\n",
    "\n",
    "geo_multiple = pd.DataFrame(new)\n",
    "\n",
    "geo_multiple = gpd.GeoDataFrame(\n",
    "    geo_multiple,\n",
    "    geometry=gpd.points_from_xy(geo_multiple.lon, geo_multiple.lat),\n",
    "    crs=4326\n",
    ")\n",
    "\n",
    "# extract coordinate of geodataframe\n",
    "coordinates = [[point.xy[1][0], point.xy[0][0]]\n",
    "               for point in geo_multiple.geometry]\n",
    "\n",
    "# add heatmap\n",
    "plugins.HeatMap(\n",
    "    name='HeatMap_multiple',\n",
    "    data=coordinates,\n",
    "    min_opacity=0.3,\n",
    "    show=False\n",
    ").add_to(heatMap)\n",
    "\n",
    "# add layercontrol\n",
    "folium.LayerControl(collapsed=False).add_to(heatMap)\n",
    "\n",
    "\n",
    "heatMap"
   ]
  },
  {
   "cell_type": "code",
   "execution_count": 10,
   "id": "ff2f3cfe",
   "metadata": {},
   "outputs": [
    {
     "data": {
      "text/html": [
       "<div style=\"width:35%;\"><div style=\"position:relative;width:100%;height:0;padding-bottom:60%;\"><span style=\"color:#565656\">Make this Notebook Trusted to load map: File -> Trust Notebook</span><iframe src=\"about:blank\" style=\"position:absolute;width:100%;height:100%;left:0;top:0;border:none !important;\" data-html=%3C%21DOCTYPE%20html%3E%0A%3Chead%3E%20%20%20%20%0A%20%20%20%20%3Cmeta%20http-equiv%3D%22content-type%22%20content%3D%22text/html%3B%20charset%3DUTF-8%22%20/%3E%0A%20%20%20%20%0A%20%20%20%20%20%20%20%20%3Cscript%3E%0A%20%20%20%20%20%20%20%20%20%20%20%20L_NO_TOUCH%20%3D%20false%3B%0A%20%20%20%20%20%20%20%20%20%20%20%20L_DISABLE_3D%20%3D%20false%3B%0A%20%20%20%20%20%20%20%20%3C/script%3E%0A%20%20%20%20%0A%20%20%20%20%3Cstyle%3Ehtml%2C%20body%20%7Bwidth%3A%20100%25%3Bheight%3A%20100%25%3Bmargin%3A%200%3Bpadding%3A%200%3B%7D%3C/style%3E%0A%20%20%20%20%3Cstyle%3E%23map%20%7Bposition%3Aabsolute%3Btop%3A0%3Bbottom%3A0%3Bright%3A0%3Bleft%3A0%3B%7D%3C/style%3E%0A%20%20%20%20%3Cscript%20src%3D%22https%3A//cdn.jsdelivr.net/npm/leaflet%401.6.0/dist/leaflet.js%22%3E%3C/script%3E%0A%20%20%20%20%3Cscript%20src%3D%22https%3A//code.jquery.com/jquery-1.12.4.min.js%22%3E%3C/script%3E%0A%20%20%20%20%3Cscript%20src%3D%22https%3A//maxcdn.bootstrapcdn.com/bootstrap/3.2.0/js/bootstrap.min.js%22%3E%3C/script%3E%0A%20%20%20%20%3Cscript%20src%3D%22https%3A//cdnjs.cloudflare.com/ajax/libs/Leaflet.awesome-markers/2.0.2/leaflet.awesome-markers.js%22%3E%3C/script%3E%0A%20%20%20%20%3Clink%20rel%3D%22stylesheet%22%20href%3D%22https%3A//cdn.jsdelivr.net/npm/leaflet%401.6.0/dist/leaflet.css%22/%3E%0A%20%20%20%20%3Clink%20rel%3D%22stylesheet%22%20href%3D%22https%3A//maxcdn.bootstrapcdn.com/bootstrap/3.2.0/css/bootstrap.min.css%22/%3E%0A%20%20%20%20%3Clink%20rel%3D%22stylesheet%22%20href%3D%22https%3A//maxcdn.bootstrapcdn.com/bootstrap/3.2.0/css/bootstrap-theme.min.css%22/%3E%0A%20%20%20%20%3Clink%20rel%3D%22stylesheet%22%20href%3D%22https%3A//maxcdn.bootstrapcdn.com/font-awesome/4.6.3/css/font-awesome.min.css%22/%3E%0A%20%20%20%20%3Clink%20rel%3D%22stylesheet%22%20href%3D%22https%3A//cdnjs.cloudflare.com/ajax/libs/Leaflet.awesome-markers/2.0.2/leaflet.awesome-markers.css%22/%3E%0A%20%20%20%20%3Clink%20rel%3D%22stylesheet%22%20href%3D%22https%3A//cdn.jsdelivr.net/gh/python-visualization/folium/folium/templates/leaflet.awesome.rotate.min.css%22/%3E%0A%20%20%20%20%0A%20%20%20%20%20%20%20%20%20%20%20%20%3Cmeta%20name%3D%22viewport%22%20content%3D%22width%3Ddevice-width%2C%0A%20%20%20%20%20%20%20%20%20%20%20%20%20%20%20%20initial-scale%3D1.0%2C%20maximum-scale%3D1.0%2C%20user-scalable%3Dno%22%20/%3E%0A%20%20%20%20%20%20%20%20%20%20%20%20%3Cstyle%3E%0A%20%20%20%20%20%20%20%20%20%20%20%20%20%20%20%20%23map_f32835e6c9d343569aac35f5ef087b6a%20%7B%0A%20%20%20%20%20%20%20%20%20%20%20%20%20%20%20%20%20%20%20%20position%3A%20relative%3B%0A%20%20%20%20%20%20%20%20%20%20%20%20%20%20%20%20%20%20%20%20width%3A%20100.0%25%3B%0A%20%20%20%20%20%20%20%20%20%20%20%20%20%20%20%20%20%20%20%20height%3A%20100.0%25%3B%0A%20%20%20%20%20%20%20%20%20%20%20%20%20%20%20%20%20%20%20%20left%3A%200.0%25%3B%0A%20%20%20%20%20%20%20%20%20%20%20%20%20%20%20%20%20%20%20%20top%3A%200.0%25%3B%0A%20%20%20%20%20%20%20%20%20%20%20%20%20%20%20%20%7D%0A%20%20%20%20%20%20%20%20%20%20%20%20%3C/style%3E%0A%20%20%20%20%20%20%20%20%0A%20%20%20%20%0A%20%20%20%20%20%20%20%20%20%20%20%20%20%20%20%20%20%20%20%20%3Cstyle%3E%0A%20%20%20%20%20%20%20%20%20%20%20%20%20%20%20%20%20%20%20%20%20%20%20%20.foliumtooltip%20%7B%0A%20%20%20%20%20%20%20%20%20%20%20%20%20%20%20%20%20%20%20%20%20%20%20%20%20%20%20%20%0A%20%20%20%20%20%20%20%20%20%20%20%20%20%20%20%20%20%20%20%20%20%20%20%20%7D%0A%20%20%20%20%20%20%20%20%20%20%20%20%20%20%20%20%20%20%20%20%20%20%20.foliumtooltip%20table%7B%0A%20%20%20%20%20%20%20%20%20%20%20%20%20%20%20%20%20%20%20%20%20%20%20%20%20%20%20%20margin%3A%20auto%3B%0A%20%20%20%20%20%20%20%20%20%20%20%20%20%20%20%20%20%20%20%20%20%20%20%20%7D%0A%20%20%20%20%20%20%20%20%20%20%20%20%20%20%20%20%20%20%20%20%20%20%20%20.foliumtooltip%20tr%7B%0A%20%20%20%20%20%20%20%20%20%20%20%20%20%20%20%20%20%20%20%20%20%20%20%20%20%20%20%20text-align%3A%20left%3B%0A%20%20%20%20%20%20%20%20%20%20%20%20%20%20%20%20%20%20%20%20%20%20%20%20%7D%0A%20%20%20%20%20%20%20%20%20%20%20%20%20%20%20%20%20%20%20%20%20%20%20%20.foliumtooltip%20th%7B%0A%20%20%20%20%20%20%20%20%20%20%20%20%20%20%20%20%20%20%20%20%20%20%20%20%20%20%20%20padding%3A%202px%3B%20padding-right%3A%208px%3B%0A%20%20%20%20%20%20%20%20%20%20%20%20%20%20%20%20%20%20%20%20%20%20%20%20%7D%0A%20%20%20%20%20%20%20%20%20%20%20%20%20%20%20%20%20%20%20%20%3C/style%3E%0A%20%20%20%20%20%20%20%20%20%20%20%20%0A%3C/head%3E%0A%3Cbody%3E%20%20%20%20%0A%20%20%20%20%0A%20%20%20%20%20%20%20%20%20%20%20%20%3Cdiv%20class%3D%22folium-map%22%20id%3D%22map_f32835e6c9d343569aac35f5ef087b6a%22%20%3E%3C/div%3E%0A%20%20%20%20%20%20%20%20%0A%3C/body%3E%0A%3Cscript%3E%20%20%20%20%0A%20%20%20%20%0A%20%20%20%20%20%20%20%20%20%20%20%20var%20map_f32835e6c9d343569aac35f5ef087b6a%20%3D%20L.map%28%0A%20%20%20%20%20%20%20%20%20%20%20%20%20%20%20%20%22map_f32835e6c9d343569aac35f5ef087b6a%22%2C%0A%20%20%20%20%20%20%20%20%20%20%20%20%20%20%20%20%7B%0A%20%20%20%20%20%20%20%20%20%20%20%20%20%20%20%20%20%20%20%20center%3A%20%5B20.5%2C%20-1.0%5D%2C%0A%20%20%20%20%20%20%20%20%20%20%20%20%20%20%20%20%20%20%20%20crs%3A%20L.CRS.EPSG3857%2C%0A%20%20%20%20%20%20%20%20%20%20%20%20%20%20%20%20%20%20%20%20maxBounds%3A%20%5B%5B-90%2C%20-180%5D%2C%20%5B90%2C%20180%5D%5D%2C%0A%20%20%20%20%20%20%20%20%20%20%20%20%20%20%20%20%20%20%20%20zoom%3A%2010%2C%0A%20%20%20%20%20%20%20%20%20%20%20%20%20%20%20%20%20%20%20%20zoomControl%3A%20true%2C%0A%20%20%20%20%20%20%20%20%20%20%20%20%20%20%20%20%20%20%20%20preferCanvas%3A%20false%2C%0A%20%20%20%20%20%20%20%20%20%20%20%20%20%20%20%20%7D%0A%20%20%20%20%20%20%20%20%20%20%20%20%29%3B%0A%20%20%20%20%20%20%20%20%20%20%20%20L.control.scale%28%29.addTo%28map_f32835e6c9d343569aac35f5ef087b6a%29%3B%0A%0A%20%20%20%20%20%20%20%20%20%20%20%20%0A%0A%20%20%20%20%20%20%20%20%0A%20%20%20%20%0A%20%20%20%20%20%20%20%20%20%20%20%20var%20tile_layer_77d9a2e2b905491b9274df0e96dba998%20%3D%20L.tileLayer%28%0A%20%20%20%20%20%20%20%20%20%20%20%20%20%20%20%20%22https%3A//%7Bs%7D.tile.openstreetmap.org/%7Bz%7D/%7Bx%7D/%7By%7D.png%22%2C%0A%20%20%20%20%20%20%20%20%20%20%20%20%20%20%20%20%7B%22attribution%22%3A%20%22Data%20by%20%5Cu0026copy%3B%20%5Cu003ca%20href%3D%5C%22http%3A//openstreetmap.org%5C%22%5Cu003eOpenStreetMap%5Cu003c/a%5Cu003e%2C%20under%20%5Cu003ca%20href%3D%5C%22http%3A//www.openstreetmap.org/copyright%5C%22%5Cu003eODbL%5Cu003c/a%5Cu003e.%22%2C%20%22detectRetina%22%3A%20false%2C%20%22maxNativeZoom%22%3A%2018%2C%20%22maxZoom%22%3A%2018%2C%20%22minZoom%22%3A%200%2C%20%22noWrap%22%3A%20false%2C%20%22opacity%22%3A%201%2C%20%22subdomains%22%3A%20%22abc%22%2C%20%22tms%22%3A%20false%7D%0A%20%20%20%20%20%20%20%20%20%20%20%20%29.addTo%28map_f32835e6c9d343569aac35f5ef087b6a%29%3B%0A%20%20%20%20%20%20%20%20%0A%20%20%20%20%0A%20%20%20%20%20%20%20%20%20%20%20%20map_f32835e6c9d343569aac35f5ef087b6a.fitBounds%28%0A%20%20%20%20%20%20%20%20%20%20%20%20%20%20%20%20%5B%5B-19.0%2C%20-102.0%5D%2C%20%5B60.0%2C%20100.0%5D%5D%2C%0A%20%20%20%20%20%20%20%20%20%20%20%20%20%20%20%20%7B%7D%0A%20%20%20%20%20%20%20%20%20%20%20%20%29%3B%0A%20%20%20%20%20%20%20%20%0A%20%20%20%20%0A%20%20%20%20%20%20%20%20function%20geo_json_94a53c1a7e494b6082cf3e7bdcd0bead_styler%28feature%29%20%7B%0A%20%20%20%20%20%20%20%20%20%20%20%20switch%28feature.id%29%20%7B%0A%20%20%20%20%20%20%20%20%20%20%20%20%20%20%20%20case%20%220%22%3A%20case%20%223%22%3A%20case%20%226%22%3A%20case%20%2210%22%3A%20%0A%20%20%20%20%20%20%20%20%20%20%20%20%20%20%20%20%20%20%20%20return%20%7B%22color%22%3A%20%22%233b528b%22%2C%20%22fillColor%22%3A%20%22%233b528b%22%2C%20%22fillOpacity%22%3A%200.5%2C%20%22weight%22%3A%202%7D%3B%0A%20%20%20%20%20%20%20%20%20%20%20%20%20%20%20%20default%3A%0A%20%20%20%20%20%20%20%20%20%20%20%20%20%20%20%20%20%20%20%20return%20%7B%22color%22%3A%20%22%23440154%22%2C%20%22fillColor%22%3A%20%22%23440154%22%2C%20%22fillOpacity%22%3A%200.5%2C%20%22weight%22%3A%202%7D%3B%0A%20%20%20%20%20%20%20%20%20%20%20%20%7D%0A%20%20%20%20%20%20%20%20%7D%0A%20%20%20%20%20%20%20%20function%20geo_json_94a53c1a7e494b6082cf3e7bdcd0bead_highlighter%28feature%29%20%7B%0A%20%20%20%20%20%20%20%20%20%20%20%20switch%28feature.id%29%20%7B%0A%20%20%20%20%20%20%20%20%20%20%20%20%20%20%20%20default%3A%0A%20%20%20%20%20%20%20%20%20%20%20%20%20%20%20%20%20%20%20%20return%20%7B%22fillOpacity%22%3A%200.75%7D%3B%0A%20%20%20%20%20%20%20%20%20%20%20%20%7D%0A%20%20%20%20%20%20%20%20%7D%0A%20%20%20%20%20%20%20%20function%20geo_json_94a53c1a7e494b6082cf3e7bdcd0bead_pointToLayer%28feature%2C%20latlng%29%20%7B%0A%20%20%20%20%20%20%20%20%20%20%20%20var%20opts%20%3D%20%7B%22bubblingMouseEvents%22%3A%20true%2C%20%22color%22%3A%20%22%233388ff%22%2C%20%22dashArray%22%3A%20null%2C%20%22dashOffset%22%3A%20null%2C%20%22fill%22%3A%20true%2C%20%22fillColor%22%3A%20%22%233388ff%22%2C%20%22fillOpacity%22%3A%200.2%2C%20%22fillRule%22%3A%20%22evenodd%22%2C%20%22lineCap%22%3A%20%22round%22%2C%20%22lineJoin%22%3A%20%22round%22%2C%20%22opacity%22%3A%201.0%2C%20%22radius%22%3A%2050000%2C%20%22stroke%22%3A%20true%2C%20%22weight%22%3A%203%7D%3B%0A%20%20%20%20%20%20%20%20%20%20%20%20%0A%20%20%20%20%20%20%20%20%20%20%20%20let%20style%20%3D%20geo_json_94a53c1a7e494b6082cf3e7bdcd0bead_styler%28feature%29%0A%20%20%20%20%20%20%20%20%20%20%20%20Object.assign%28opts%2C%20style%29%0A%20%20%20%20%20%20%20%20%20%20%20%20%0A%20%20%20%20%20%20%20%20%20%20%20%20return%20new%20L.circle%28latlng%2C%20opts%29%0A%20%20%20%20%20%20%20%20%7D%0A%0A%20%20%20%20%20%20%20%20function%20geo_json_94a53c1a7e494b6082cf3e7bdcd0bead_onEachFeature%28feature%2C%20layer%29%20%7B%0A%20%20%20%20%20%20%20%20%20%20%20%20layer.on%28%7B%0A%20%20%20%20%20%20%20%20%20%20%20%20%20%20%20%20mouseout%3A%20function%28e%29%20%7B%0A%20%20%20%20%20%20%20%20%20%20%20%20%20%20%20%20%20%20%20%20if%28typeof%20e.target.setStyle%20%3D%3D%3D%20%22function%22%29%7B%0A%20%20%20%20%20%20%20%20%20%20%20%20%20%20%20%20%20%20%20%20%20%20%20%20geo_json_94a53c1a7e494b6082cf3e7bdcd0bead.resetStyle%28e.target%29%3B%0A%20%20%20%20%20%20%20%20%20%20%20%20%20%20%20%20%20%20%20%20%7D%0A%20%20%20%20%20%20%20%20%20%20%20%20%20%20%20%20%7D%2C%0A%20%20%20%20%20%20%20%20%20%20%20%20%20%20%20%20mouseover%3A%20function%28e%29%20%7B%0A%20%20%20%20%20%20%20%20%20%20%20%20%20%20%20%20%20%20%20%20if%28typeof%20e.target.setStyle%20%3D%3D%3D%20%22function%22%29%7B%0A%20%20%20%20%20%20%20%20%20%20%20%20%20%20%20%20%20%20%20%20%20%20%20%20const%20highlightStyle%20%3D%20geo_json_94a53c1a7e494b6082cf3e7bdcd0bead_highlighter%28e.target.feature%29%0A%20%20%20%20%20%20%20%20%20%20%20%20%20%20%20%20%20%20%20%20%20%20%20%20e.target.setStyle%28highlightStyle%29%3B%0A%20%20%20%20%20%20%20%20%20%20%20%20%20%20%20%20%20%20%20%20%7D%0A%20%20%20%20%20%20%20%20%20%20%20%20%20%20%20%20%7D%2C%0A%20%20%20%20%20%20%20%20%20%20%20%20%7D%29%3B%0A%20%20%20%20%20%20%20%20%7D%3B%0A%20%20%20%20%20%20%20%20var%20geo_json_94a53c1a7e494b6082cf3e7bdcd0bead%20%3D%20L.geoJson%28null%2C%20%7B%0A%20%20%20%20%20%20%20%20%20%20%20%20%20%20%20%20onEachFeature%3A%20geo_json_94a53c1a7e494b6082cf3e7bdcd0bead_onEachFeature%2C%0A%20%20%20%20%20%20%20%20%20%20%20%20%0A%20%20%20%20%20%20%20%20%20%20%20%20%20%20%20%20style%3A%20geo_json_94a53c1a7e494b6082cf3e7bdcd0bead_styler%2C%0A%20%20%20%20%20%20%20%20%20%20%20%20%20%20%20%20pointToLayer%3A%20geo_json_94a53c1a7e494b6082cf3e7bdcd0bead_pointToLayer%0A%20%20%20%20%20%20%20%20%7D%29%3B%0A%0A%20%20%20%20%20%20%20%20function%20geo_json_94a53c1a7e494b6082cf3e7bdcd0bead_add%20%28data%29%20%7B%0A%20%20%20%20%20%20%20%20%20%20%20%20geo_json_94a53c1a7e494b6082cf3e7bdcd0bead%0A%20%20%20%20%20%20%20%20%20%20%20%20%20%20%20%20.addData%28data%29%0A%20%20%20%20%20%20%20%20%20%20%20%20%20%20%20%20.addTo%28map_f32835e6c9d343569aac35f5ef087b6a%29%3B%0A%20%20%20%20%20%20%20%20%7D%0A%20%20%20%20%20%20%20%20%20%20%20%20geo_json_94a53c1a7e494b6082cf3e7bdcd0bead_add%28%7B%22bbox%22%3A%20%5B-102.0%2C%20-19.0%2C%20100.0%2C%2060.0%5D%2C%20%22features%22%3A%20%5B%7B%22bbox%22%3A%20%5B-5.016175%2C%2013.178953%2C%20-5.016175%2C%2013.178953%5D%2C%20%22geometry%22%3A%20%7B%22coordinates%22%3A%20%5B-5.016175%2C%2013.178953%5D%2C%20%22type%22%3A%20%22Point%22%7D%2C%20%22id%22%3A%20%220%22%2C%20%22properties%22%3A%20%7B%22__folium_color%22%3A%20%22%233b528b%22%2C%20%22count%22%3A%202%2C%20%22lat%22%3A%2013.178953%2C%20%22lon%22%3A%20-5.016175%2C%20%22name%22%3A%20%22San%22%2C%20%22stemname%22%3A%20%22SAN%22%7D%2C%20%22type%22%3A%20%22Feature%22%7D%2C%20%7B%22bbox%22%3A%20%5B28.5%2C%20-14.33333%2C%2028.5%2C%20-14.33333%5D%2C%20%22geometry%22%3A%20%7B%22coordinates%22%3A%20%5B28.5%2C%20-14.33333%5D%2C%20%22type%22%3A%20%22Point%22%7D%2C%20%22id%22%3A%20%221%22%2C%20%22properties%22%3A%20%7B%22__folium_color%22%3A%20%22%23440154%22%2C%20%22count%22%3A%201%2C%20%22lat%22%3A%20-14.33333%2C%20%22lon%22%3A%2028.5%2C%20%22name%22%3A%20%22Zambia%22%2C%20%22stemname%22%3A%20%22ZAMBIA%22%7D%2C%20%22type%22%3A%20%22Feature%22%7D%2C%20%7B%22bbox%22%3A%20%5B100.0%2C%2060.0%2C%20100.0%2C%2060.0%5D%2C%20%22geometry%22%3A%20%7B%22coordinates%22%3A%20%5B100.0%2C%2060.0%5D%2C%20%22type%22%3A%20%22Point%22%7D%2C%20%22id%22%3A%20%222%22%2C%20%22properties%22%3A%20%7B%22__folium_color%22%3A%20%22%23440154%22%2C%20%22count%22%3A%201%2C%20%22lat%22%3A%2060.0%2C%20%22lon%22%3A%20100.0%2C%20%22name%22%3A%20%22Russia%22%2C%20%22stemname%22%3A%20%22RUSSIA%22%7D%2C%20%22type%22%3A%20%22Feature%22%7D%2C%20%7B%22bbox%22%3A%20%5B32.0%2C%2049.0%2C%2032.0%2C%2049.0%5D%2C%20%22geometry%22%3A%20%7B%22coordinates%22%3A%20%5B32.0%2C%2049.0%5D%2C%20%22type%22%3A%20%22Point%22%7D%2C%20%22id%22%3A%20%223%22%2C%20%22properties%22%3A%20%7B%22__folium_color%22%3A%20%22%233b528b%22%2C%20%22count%22%3A%202%2C%20%22lat%22%3A%2049.0%2C%20%22lon%22%3A%2032.0%2C%20%22name%22%3A%20%22Ukraine%22%2C%20%22stemname%22%3A%20%22UKRAINE%22%7D%2C%20%22type%22%3A%20%22Feature%22%7D%2C%20%7B%22bbox%22%3A%20%5B34.0%2C%20-13.5%2C%2034.0%2C%20-13.5%5D%2C%20%22geometry%22%3A%20%7B%22coordinates%22%3A%20%5B34.0%2C%20-13.5%5D%2C%20%22type%22%3A%20%22Point%22%7D%2C%20%22id%22%3A%20%224%22%2C%20%22properties%22%3A%20%7B%22__folium_color%22%3A%20%22%23440154%22%2C%20%22count%22%3A%201%2C%20%22lat%22%3A%20-13.5%2C%20%22lon%22%3A%2034.0%2C%20%22name%22%3A%20%22Malawi%22%2C%20%22stemname%22%3A%20%22MALAWI%22%7D%2C%20%22type%22%3A%20%22Feature%22%7D%2C%20%7B%22bbox%22%3A%20%5B-90.5%2C%2014.666667%2C%20-90.5%2C%2014.666667%5D%2C%20%22geometry%22%3A%20%7B%22coordinates%22%3A%20%5B-90.5%2C%2014.666667%5D%2C%20%22type%22%3A%20%22Point%22%7D%2C%20%22id%22%3A%20%225%22%2C%20%22properties%22%3A%20%7B%22__folium_color%22%3A%20%22%23440154%22%2C%20%22count%22%3A%201%2C%20%22lat%22%3A%2014.666667%2C%20%22lon%22%3A%20-90.5%2C%20%22name%22%3A%20%22Guatemala%22%2C%20%22stemname%22%3A%20%22GUATEMALA%22%7D%2C%20%22type%22%3A%20%22Feature%22%7D%2C%20%7B%22bbox%22%3A%20%5B-102.0%2C%2023.0%2C%20-102.0%2C%2023.0%5D%2C%20%22geometry%22%3A%20%7B%22coordinates%22%3A%20%5B-102.0%2C%2023.0%5D%2C%20%22type%22%3A%20%22Point%22%7D%2C%20%22id%22%3A%20%226%22%2C%20%22properties%22%3A%20%7B%22__folium_color%22%3A%20%22%233b528b%22%2C%20%22count%22%3A%202%2C%20%22lat%22%3A%2023.0%2C%20%22lon%22%3A%20-102.0%2C%20%22name%22%3A%20%22Mexico%22%2C%20%22stemname%22%3A%20%22MEXICO%22%7D%2C%20%22type%22%3A%20%22Feature%22%7D%2C%20%7B%22bbox%22%3A%20%5B-77.039419%2C%203.593188%2C%20-77.039419%2C%203.593188%5D%2C%20%22geometry%22%3A%20%7B%22coordinates%22%3A%20%5B-77.039419%2C%203.593188%5D%2C%20%22type%22%3A%20%22Point%22%7D%2C%20%22id%22%3A%20%227%22%2C%20%22properties%22%3A%20%7B%22__folium_color%22%3A%20%22%23440154%22%2C%20%22count%22%3A%201%2C%20%22lat%22%3A%203.593188%2C%20%22lon%22%3A%20-77.039419%2C%20%22name%22%3A%20%22Buenaventura%22%2C%20%22stemname%22%3A%20%22BUENAVENTURA%22%7D%2C%20%22type%22%3A%20%22Feature%22%7D%2C%20%7B%22bbox%22%3A%20%5B30.0%2C%20-3.5%2C%2030.0%2C%20-3.5%5D%2C%20%22geometry%22%3A%20%7B%22coordinates%22%3A%20%5B30.0%2C%20-3.5%5D%2C%20%22type%22%3A%20%22Point%22%7D%2C%20%22id%22%3A%20%228%22%2C%20%22properties%22%3A%20%7B%22__folium_color%22%3A%20%22%23440154%22%2C%20%22count%22%3A%201%2C%20%22lat%22%3A%20-3.5%2C%20%22lon%22%3A%2030.0%2C%20%22name%22%3A%20%22Burundi%22%2C%20%22stemname%22%3A%20%22BURUNDI%22%7D%2C%20%22type%22%3A%20%22Feature%22%7D%2C%20%7B%22bbox%22%3A%20%5B29.75%2C%20-19.0%2C%2029.75%2C%20-19.0%5D%2C%20%22geometry%22%3A%20%7B%22coordinates%22%3A%20%5B29.75%2C%20-19.0%5D%2C%20%22type%22%3A%20%22Point%22%7D%2C%20%22id%22%3A%20%229%22%2C%20%22properties%22%3A%20%7B%22__folium_color%22%3A%20%22%23440154%22%2C%20%22count%22%3A%201%2C%20%22lat%22%3A%20-19.0%2C%20%22lon%22%3A%2029.75%2C%20%22name%22%3A%20%22Zimbabwe%22%2C%20%22stemname%22%3A%20%22ZIMBABWE%22%7D%2C%20%22type%22%3A%20%22Feature%22%7D%2C%20%7B%22bbox%22%3A%20%5B-86.5%2C%2015.0%2C%20-86.5%2C%2015.0%5D%2C%20%22geometry%22%3A%20%7B%22coordinates%22%3A%20%5B-86.5%2C%2015.0%5D%2C%20%22type%22%3A%20%22Point%22%7D%2C%20%22id%22%3A%20%2210%22%2C%20%22properties%22%3A%20%7B%22__folium_color%22%3A%20%22%233b528b%22%2C%20%22count%22%3A%202%2C%20%22lat%22%3A%2015.0%2C%20%22lon%22%3A%20-86.5%2C%20%22name%22%3A%20%22Honduras%22%2C%20%22stemname%22%3A%20%22HONDURAS%22%7D%2C%20%22type%22%3A%20%22Feature%22%7D%5D%2C%20%22type%22%3A%20%22FeatureCollection%22%7D%29%3B%0A%0A%20%20%20%20%20%20%20%20%0A%20%20%20%20%0A%20%20%20%20geo_json_94a53c1a7e494b6082cf3e7bdcd0bead.bindTooltip%28%0A%20%20%20%20function%28layer%29%7B%0A%20%20%20%20let%20div%20%3D%20L.DomUtil.create%28%27div%27%29%3B%0A%20%20%20%20%0A%20%20%20%20let%20handleObject%20%3D%20feature%3D%3Etypeof%28feature%29%3D%3D%27object%27%20%3F%20JSON.stringify%28feature%29%20%3A%20feature%3B%0A%20%20%20%20let%20fields%20%3D%20%5B%22count%22%2C%20%22name%22%2C%20%22lat%22%2C%20%22lon%22%2C%20%22stemname%22%5D%3B%0A%20%20%20%20let%20aliases%20%3D%20%5B%22count%22%2C%20%22name%22%2C%20%22lat%22%2C%20%22lon%22%2C%20%22stemname%22%5D%3B%0A%20%20%20%20let%20table%20%3D%20%27%3Ctable%3E%27%20%2B%0A%20%20%20%20%20%20%20%20String%28%0A%20%20%20%20%20%20%20%20fields.map%28%0A%20%20%20%20%20%20%20%20%28v%2Ci%29%3D%3E%0A%20%20%20%20%20%20%20%20%60%3Ctr%3E%0A%20%20%20%20%20%20%20%20%20%20%20%20%3Cth%3E%24%7Baliases%5Bi%5D%7D%3C/th%3E%0A%20%20%20%20%20%20%20%20%20%20%20%20%0A%20%20%20%20%20%20%20%20%20%20%20%20%3Ctd%3E%24%7BhandleObject%28layer.feature.properties%5Bv%5D%29%7D%3C/td%3E%0A%20%20%20%20%20%20%20%20%3C/tr%3E%60%29.join%28%27%27%29%29%0A%20%20%20%20%2B%27%3C/table%3E%27%3B%0A%20%20%20%20div.innerHTML%3Dtable%3B%0A%20%20%20%20%0A%20%20%20%20return%20div%0A%20%20%20%20%7D%0A%20%20%20%20%2C%7B%22className%22%3A%20%22foliumtooltip%22%2C%20%22sticky%22%3A%20true%7D%29%3B%0A%20%20%20%20%20%20%20%20%20%20%20%20%20%20%20%20%20%20%20%20%20%0A%3C/script%3E onload=\"this.contentDocument.open();this.contentDocument.write(    decodeURIComponent(this.getAttribute('data-html')));this.contentDocument.close();\" allowfullscreen webkitallowfullscreen mozallowfullscreen></iframe></div></div>"
      ],
      "text/plain": [
       "<branca.element.Figure at 0x140ff50a0>"
      ]
     },
     "execution_count": 10,
     "metadata": {},
     "output_type": "execute_result"
    }
   ],
   "source": [
    "pointMap = folium.Figure(width='35%')\n",
    "gpd.GeoSeries.explore(\n",
    "    places,\n",
    "    color=color_list,\n",
    "    max_bounds=True,\n",
    "    tiles=\"Open Street Map\",  # \"Stamen Watercolor\",\n",
    "    marker_type='circle',\n",
    "    marker_kwds={\n",
    "        'radius': 50000,\n",
    "        'fill': True}).add_to(pointMap)\n",
    "\n",
    "# folium.TileLayer(tiles='stamen watercolor', name=\"Watercolor\").add_to(pointMap)\n",
    "\n",
    "pointMap"
   ]
  },
  {
   "cell_type": "code",
   "execution_count": null,
   "id": "eca2b189",
   "metadata": {},
   "outputs": [],
   "source": []
  }
 ],
 "metadata": {
  "interpreter": {
   "hash": "6f27b1ac1f3c4d24f3bed65284a701a85f5d2e00d7c931fdc99d3fd228b36775"
  },
  "jupytext": {
   "cell_metadata_filter": "-all",
   "main_language": "python",
   "notebook_metadata_filter": "-all"
  },
  "kernelspec": {
   "display_name": "Python 3.8.12 64-bit ('geo871': conda)",
   "language": "python",
   "name": "python3"
  },
  "language_info": {
   "codemirror_mode": {
    "name": "ipython",
    "version": 3
   },
   "file_extension": ".py",
   "mimetype": "text/x-python",
   "name": "python",
   "nbconvert_exporter": "python",
   "pygments_lexer": "ipython3",
   "version": "3.8.12"
  }
 },
 "nbformat": 4,
 "nbformat_minor": 5
}
