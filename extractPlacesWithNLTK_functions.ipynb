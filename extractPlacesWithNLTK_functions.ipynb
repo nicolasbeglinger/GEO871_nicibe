{
 "cells": [
  {
   "cell_type": "markdown",
   "id": "a40560e7",
   "metadata": {},
   "source": [
    "## Import modules"
   ]
  },
  {
   "cell_type": "code",
   "execution_count": 1,
   "id": "f2cf197b",
   "metadata": {
    "lines_to_next_cell": 2
   },
   "outputs": [],
   "source": [
    "import random\n",
    "import pandas as pd\n",
    "import geopandas as gpd\n",
    "\n",
    "from folium import plugins\n",
    "\n",
    "import html2text\n",
    "import nltk\n",
    "import folium\n",
    "\n",
    "import os\n",
    "import math"
   ]
  },
  {
   "cell_type": "markdown",
   "id": "252b7000",
   "metadata": {},
   "source": [
    "## Minor Functions"
   ]
  },
  {
   "cell_type": "markdown",
   "id": "66d4720d",
   "metadata": {},
   "source": [
    "Define function to debug"
   ]
  },
  {
   "cell_type": "code",
   "execution_count": 2,
   "id": "69012f84",
   "metadata": {},
   "outputs": [],
   "source": [
    "import inspect\n",
    "import re\n",
    "\n",
    "\n",
    "def prinfo(*args, **kwargs):\n",
    "    frame = inspect.currentframe().f_back\n",
    "    s = inspect.getframeinfo(frame).code_context[0]\n",
    "    r = re.search(r\"\\((.*)\\)\", s).group(1)\n",
    "    vnames = r.split(\", \")\n",
    "\n",
    "    if 'newline' in kwargs:\n",
    "        newlinestring = \"\\n\" if kwargs['newline'] else \"\"\n",
    "    else:\n",
    "        newlinestring = \"\"\n",
    "\n",
    "    for i, (var, val) in enumerate(zip(vnames, args)):\n",
    "        print(f\"{var} = {newlinestring}{val}\")"
   ]
  },
  {
   "cell_type": "markdown",
   "id": "1e334541",
   "metadata": {},
   "source": [
    "Define function to give information about the progress of reading the csv"
   ]
  },
  {
   "cell_type": "code",
   "execution_count": 3,
   "id": "29bac4b8",
   "metadata": {},
   "outputs": [],
   "source": [
    "def read_csv_in_chunks(path: str, n_lines: int, nameCol: str, **read_params) -> pd.DataFrame:\n",
    "    if 'chunksize' not in read_params or read_params['chunksize'] < 1:\n",
    "        read_params['chunksize'] = 80000\n",
    "\n",
    "    chunks = [0] * math.ceil(n_lines / read_params['chunksize'])\n",
    "\n",
    "    for i, chunk in enumerate(pd.read_csv(path, **read_params)):\n",
    "        percent = min(\n",
    "            ((i + 1) * read_params['chunksize'] / n_lines) * 100, 100.0)\n",
    "        print(\"#\" * int(percent), f\"{percent:.2f}%\", end='\\r', flush=True)\n",
    "        chunks[i] = chunk[chunk[nameCol].notnull()]\n",
    "\n",
    "    print()\n",
    "    print(\"Now concatenating chunks...\")\n",
    "    df = pd.concat(chunks, axis=0)\n",
    "    del chunks\n",
    "    print(\"Finished!\")\n",
    "    return df"
   ]
  },
  {
   "cell_type": "markdown",
   "id": "4817dccf",
   "metadata": {},
   "source": [
    "## Import Stuff"
   ]
  },
  {
   "cell_type": "markdown",
   "id": "912c44bd",
   "metadata": {},
   "source": [
    "### Gazetteer"
   ]
  },
  {
   "cell_type": "code",
   "execution_count": 4,
   "id": "4eb17d36",
   "metadata": {},
   "outputs": [],
   "source": [
    "\n",
    "\n",
    "def read_gazetteer(gaz: str = 'nga') -> dict:\n",
    "\n",
    "    if gaz == \"nga\":\n",
    "        gazetteerpath = \"data/gazetteers/nga/countries_administrative.csv\"\n",
    "        # indexOfLat = 4\n",
    "        # indexOfLon = 5\n",
    "        indexOfLat = 1\n",
    "        indexOfLon = 2\n",
    "        n_lines = 484618  # for nga administrative\n",
    "        # n_lines =  284485 #for nga administrative approved\n",
    "        # n_lines = 7866485 #for nga administrative populated\n",
    "        nameCol = \"SORT_NAME_RO\"  # for nga\n",
    "\n",
    "        # read in the gazetter csv\n",
    "        df_gazetteer = read_csv_in_chunks(\n",
    "            path=gazetteerpath,\n",
    "            n_lines=n_lines,\n",
    "            low_memory=False,\n",
    "            nameCol=nameCol)\n",
    "\n",
    "        df_gazetteer = pd.concat(\n",
    "            [df_gazetteer,\n",
    "             pd.read_csv(\"data/gazetteers/own_places.csv\")]\n",
    "        )\n",
    "\n",
    "    elif gaz == \"geonames\":\n",
    "        gazetteerpath = \"data/geonames/allCountries_cleaned.csv\"\n",
    "        indexOfLat = 2\n",
    "        indexOfLon = 3\n",
    "        n_lines = 6974472  # for allCountries_cleaned.csv\n",
    "        # n_lines = 2079830 # for allCountries_AT.csv\n",
    "        nameCol = \"name\"\n",
    "\n",
    "        # read in the gazetter csv\n",
    "        df_gazetteer = read_csv_in_chunks(\n",
    "            path=gazetteerpath,\n",
    "            n_lines=n_lines,\n",
    "            low_memory=False,\n",
    "            nameCol=nameCol)\n",
    "\n",
    "    # Read gazetter data (csv) and save placenames in a list\n",
    "    elif gaz == \"countries\":\n",
    "        countrynames = pd.read_csv(\n",
    "            \"data/geodict_github/countrynames.csv\", names=[\"short\", \"long\"])\n",
    "        countrypositions = pd.read_csv(\n",
    "            \"data/geodict_github/countrypositions.csv\", names=[\"short\", \"lat\", \"lon\"])\n",
    "\n",
    "        df_gazetteer = countrynames.merge(countrypositions, on=\"short\")\n",
    "        df_gazetteer.long = df_gazetteer.long.str.strip()\n",
    "        indexOfLat = 2\n",
    "        indexOfLon = 3\n",
    "        n_lines = 240\n",
    "        nameCol = \"long\"\n",
    "\n",
    "    dic = {\n",
    "        'df_gazetteer': df_gazetteer,\n",
    "        'indexOfLat': indexOfLat,\n",
    "        'indexOfLon': indexOfLon,\n",
    "        'nameCol': nameCol\n",
    "    }\n",
    "\n",
    "    return dic"
   ]
  },
  {
   "cell_type": "markdown",
   "id": "1e8c5078",
   "metadata": {},
   "source": [
    "### Textfile"
   ]
  },
  {
   "cell_type": "markdown",
   "id": "1f9750a5",
   "metadata": {},
   "source": [
    "Import textfile or call the html2text function to extract the text from a given url and save it for next use"
   ]
  },
  {
   "cell_type": "code",
   "execution_count": 5,
   "id": "9e2655db",
   "metadata": {
    "lines_to_next_cell": 2
   },
   "outputs": [],
   "source": [
    "def read_textfile(textfile: str = None, url: str = None) -> str:\n",
    "\n",
    "    if textfile:\n",
    "        with open(textfile, \"r\") as raw_text:\n",
    "            text = raw_text.read()\n",
    "\n",
    "    elif url:\n",
    "        text_save_path = f\"data/texts/autosave/lastText_{url[-20:]}\"\n",
    "\n",
    "        if not os.path.exists(text_save_path):\n",
    "            text = html2text.html2text(url=url)\n",
    "\n",
    "            with open(text_save_path, \"w\") as lt:\n",
    "                lt.write(text)\n",
    "\n",
    "        else:\n",
    "            with open(text_save_path, \"r\") as lt:\n",
    "                text = lt.read()\n",
    "\n",
    "    else:\n",
    "        raise Warning(\"No path specified\")\n",
    "\n",
    "    return text\n",
    "\n",
    "\n",
    "# url = 'https://www.theguardian.com/global-development/2021/dec/21/uk-accused-of-abandoning-\\\n",
    "# worlds-poor-as-aid-turned-into-colonial-investment'\n",
    "# url = \"https://www.theguardian.com/world/2021/oct/21/cuts-to-overseas-aid-thwart-uk-efforts-\\\n",
    "# to-fight-covid-pandemic\""
   ]
  },
  {
   "cell_type": "markdown",
   "id": "660b9373",
   "metadata": {},
   "source": [
    "## Matching"
   ]
  },
  {
   "cell_type": "markdown",
   "id": "61fd0052",
   "metadata": {},
   "source": [
    "Extract places from text using nltk"
   ]
  },
  {
   "cell_type": "code",
   "execution_count": 6,
   "id": "359e209d",
   "metadata": {},
   "outputs": [],
   "source": [
    "def create_placenames(text: str, df_gazetteer: pd.DataFrame, propDic: dict) -> tuple:\n",
    "\n",
    "    tokenized = nltk.word_tokenize(text)\n",
    "    tree = nltk.ne_chunk(nltk.pos_tag(tokenized))\n",
    "\n",
    "    i = 0\n",
    "    for word in tokenized:\n",
    "        if word == \"Asia\":\n",
    "            i += 1\n",
    "            pass\n",
    "\n",
    "    places = [\n",
    "        \" \".join(i[0] for i in t)\n",
    "        for t in tree\n",
    "        if hasattr(t, \"label\") and t.label() == \"GPE\"\n",
    "    ]\n",
    "\n",
    "    stemmer = nltk.stem.PorterStemmer()\n",
    "    lemmatizer = nltk.stem.WordNetLemmatizer()\n",
    "    places = [lemmatizer.lemmatize(word).upper().replace(\n",
    "        \" \", \"\") for word in places]\n",
    "    prinfo(sorted(places)[:10])\n",
    "    print()\n",
    "\n",
    "    # Create Dictionary with placenames as keys and dictionaries with the counts as values.\n",
    "    d = {}\n",
    "    len_places = len(places)\n",
    "\n",
    "    for i, place in enumerate(places):\n",
    "        if place in d.keys():\n",
    "            d[place][\"count\"] += 1\n",
    "        else:\n",
    "            d[place] = {\"count\": 1}\n",
    "\n",
    "    # Fill the dictionary with the coordinates of the placenames.\n",
    "\n",
    "    # add column with lemmatized placenames two compare them to lematized placenames of the text\n",
    "    df_gazetteer[\"lemma_placenames\"] = df_gazetteer[propDic['nameCol']].apply(\n",
    "        lambda place: lemmatizer.lemmatize(place))\n",
    "    df_gazetteer[\"stem_placenames\"] = df_gazetteer[propDic['nameCol']].apply(\n",
    "        lambda place: stemmer.stem(place))\n",
    "\n",
    "    lenKeys = len(d)\n",
    "    logInterval = 1  # int(round(lenKeys/20, 0))\n",
    "\n",
    "    failed_places = []\n",
    "\n",
    "    for i, (placename, attributes) in enumerate(d.items()):\n",
    "        try:\n",
    "            tmp_df_values = df_gazetteer.query(\n",
    "                \"lemma_placenames == @placename\").values[0]\n",
    "            # tmp_df_values = df_gazetteer[df_gazetteer[\"SORT_NAME_RO\"] == \"MAFIKENG\"].values[0]\n",
    "            attributes[\"name\"] = tmp_df_values[7]\n",
    "            attributes[\"lat\"] = tmp_df_values[propDic['indexOfLat']]\n",
    "            attributes[\"lon\"] = tmp_df_values[propDic['indexOfLon']]\n",
    "\n",
    "        except IndexError as e:\n",
    "            failed_places.append(placename)\n",
    "\n",
    "        # give feedback to progress\n",
    "        if (i % logInterval == 0 and i > 0) or i+1 == lenKeys:\n",
    "            print(f\"{i+1} of {lenKeys} ({round((i/lenKeys)*100, 1)}%)\", end='\\r')\n",
    "\n",
    "    for i, (place, attributes) in enumerate(d.items()):\n",
    "        if i < 10:\n",
    "            print((place, attributes))\n",
    "\n",
    "    # Catch information about nonfound placenames and delete them from the dictionary\n",
    "    num_fails = len(failed_places)\n",
    "    for fail in failed_places:\n",
    "        del d[fail]\n",
    "\n",
    "    df = pd.DataFrame(\n",
    "        [list(attributes.values()) + [place]\n",
    "         for place, attributes in d.items()],\n",
    "        columns=[\"count\", \"name\", \"lat\", \"lon\", \"stemname\"])\n",
    "\n",
    "    geo = gpd.GeoDataFrame(\n",
    "        df,\n",
    "        geometry=gpd.points_from_xy(df.lon, df.lat),\n",
    "        crs=4326\n",
    "    )\n",
    "\n",
    "    return (geo, d)\n",
    "\n",
    "    # geojsonname = textfile[textfile.find(\"/\")+1:textfile.find(\".\")][6:]\n",
    "    # geo.to_file(f\"data/geodataframes/{geojsonname}.geojson\", driver='GeoJSON')"
   ]
  },
  {
   "cell_type": "markdown",
   "id": "e76dfa01",
   "metadata": {},
   "source": [
    "## Initialization"
   ]
  },
  {
   "cell_type": "code",
   "execution_count": 7,
   "id": "569a7de7",
   "metadata": {
    "lines_to_next_cell": 2
   },
   "outputs": [
    {
     "name": "stdout",
     "output_type": "stream",
     "text": [
      "#################################################################################################### 100.00%\n",
      "Now concatenating chunks...\n",
      "Finished!\n",
      "sorted(places)[:10] = ['BANGASSOU', 'BUENAVENTURA', 'BURUNDI', 'GUARDIAN', 'GUATEMALA', 'HONDURAS', 'HONDURAS', 'KNOWNHUMANITARIAN', 'LATIN', 'MALAWI']\n",
      "\n",
      "('GUARDIAN', {'count': 1})\n",
      "('SAN', {'count': 2, 'name': 'San', 'lat': 13.178953, 'lon': -5.016175})\n",
      "('KNOWNHUMANITARIAN', {'count': 1})\n",
      "('ZAMBIA', {'count': 1, 'name': 'Zambia', 'lat': -14.33333, 'lon': 28.5})\n",
      "('RUSSIA', {'count': 1, 'name': 'Russia', 'lat': 60.0, 'lon': 100.0})\n",
      "('UKRAINE', {'count': 2, 'name': 'Ukraine', 'lat': 49.0, 'lon': 32.0})\n",
      "('UKRAINIAN', {'count': 1})\n",
      "('MALAWI', {'count': 1, 'name': 'Malawi', 'lat': -13.5, 'lon': 34.0})\n",
      "('BANGASSOU', {'count': 1})\n",
      "('GUATEMALA', {'count': 1, 'name': 'Guatemala', 'lat': 14.666667, 'lon': -90.5})\n"
     ]
    }
   ],
   "source": [
    "propDic = read_gazetteer()\n",
    "df_gazetteer = propDic['df_gazetteer']\n",
    "text = read_textfile(\n",
    "    url=\"https://www.theguardian.com/global-development/2022/jan/14/worlds-poorest-bear-brunt-of-climate-crisis-10-underreported-emergencies\")\n",
    "# text = read_textfile(\"data/texts/tagesanzeiger_spendensammler.txt\")\n",
    "# text = read_textfile(\"data/texts/aid_wiki.txt\")\n",
    "geo, d = create_placenames(\n",
    "    text=text, df_gazetteer=df_gazetteer, propDic=propDic)"
   ]
  },
  {
   "cell_type": "markdown",
   "id": "1605e2a5",
   "metadata": {},
   "source": [
    "## Visualization"
   ]
  },
  {
   "cell_type": "code",
   "execution_count": 8,
   "id": "a9064a6b",
   "metadata": {},
   "outputs": [
    {
     "name": "stdout",
     "output_type": "stream",
     "text": [
      "{1: '#440154', 2: '#3b528b', 3: '#21918c', 4: '#5ec962', 5: '#fde725'}\n"
     ]
    }
   ],
   "source": [
    "random.seed(1)\n",
    "\n",
    "colordic = {}\n",
    "for i in range(geo[\"count\"].max()):\n",
    "    colordic[i+1] = \"#%06x\" % random.randint(0, 0xFFFFFF)\n",
    "colordic = {\n",
    "    1: '#440154',\n",
    "    2: '#3b528b',\n",
    "    3: '#21918c',\n",
    "    4: '#5ec962',\n",
    "    5: '#fde725'\n",
    "}\n",
    "print(colordic)\n",
    "\n",
    "color_list = [colordic[count] for count in geo[\"count\"]]"
   ]
  },
  {
   "cell_type": "code",
   "execution_count": 9,
   "id": "7a5b670e",
   "metadata": {
    "lines_to_next_cell": 2
   },
   "outputs": [
    {
     "data": {
      "text/html": [
       "<div style=\"width:75%;\"><div style=\"position:relative;width:100%;height:0;padding-bottom:60%;\"><span style=\"color:#565656\">Make this Notebook Trusted to load map: File -> Trust Notebook</span><iframe src=\"about:blank\" style=\"position:absolute;width:100%;height:100%;left:0;top:0;border:none !important;\" data-html=%3C%21DOCTYPE%20html%3E%0A%3Chead%3E%20%20%20%20%0A%20%20%20%20%3Cmeta%20http-equiv%3D%22content-type%22%20content%3D%22text/html%3B%20charset%3DUTF-8%22%20/%3E%0A%20%20%20%20%0A%20%20%20%20%20%20%20%20%3Cscript%3E%0A%20%20%20%20%20%20%20%20%20%20%20%20L_NO_TOUCH%20%3D%20false%3B%0A%20%20%20%20%20%20%20%20%20%20%20%20L_DISABLE_3D%20%3D%20false%3B%0A%20%20%20%20%20%20%20%20%3C/script%3E%0A%20%20%20%20%0A%20%20%20%20%3Cstyle%3Ehtml%2C%20body%20%7Bwidth%3A%20100%25%3Bheight%3A%20100%25%3Bmargin%3A%200%3Bpadding%3A%200%3B%7D%3C/style%3E%0A%20%20%20%20%3Cstyle%3E%23map%20%7Bposition%3Aabsolute%3Btop%3A0%3Bbottom%3A0%3Bright%3A0%3Bleft%3A0%3B%7D%3C/style%3E%0A%20%20%20%20%3Cscript%20src%3D%22https%3A//cdn.jsdelivr.net/npm/leaflet%401.6.0/dist/leaflet.js%22%3E%3C/script%3E%0A%20%20%20%20%3Cscript%20src%3D%22https%3A//code.jquery.com/jquery-1.12.4.min.js%22%3E%3C/script%3E%0A%20%20%20%20%3Cscript%20src%3D%22https%3A//maxcdn.bootstrapcdn.com/bootstrap/3.2.0/js/bootstrap.min.js%22%3E%3C/script%3E%0A%20%20%20%20%3Cscript%20src%3D%22https%3A//cdnjs.cloudflare.com/ajax/libs/Leaflet.awesome-markers/2.0.2/leaflet.awesome-markers.js%22%3E%3C/script%3E%0A%20%20%20%20%3Clink%20rel%3D%22stylesheet%22%20href%3D%22https%3A//cdn.jsdelivr.net/npm/leaflet%401.6.0/dist/leaflet.css%22/%3E%0A%20%20%20%20%3Clink%20rel%3D%22stylesheet%22%20href%3D%22https%3A//maxcdn.bootstrapcdn.com/bootstrap/3.2.0/css/bootstrap.min.css%22/%3E%0A%20%20%20%20%3Clink%20rel%3D%22stylesheet%22%20href%3D%22https%3A//maxcdn.bootstrapcdn.com/bootstrap/3.2.0/css/bootstrap-theme.min.css%22/%3E%0A%20%20%20%20%3Clink%20rel%3D%22stylesheet%22%20href%3D%22https%3A//maxcdn.bootstrapcdn.com/font-awesome/4.6.3/css/font-awesome.min.css%22/%3E%0A%20%20%20%20%3Clink%20rel%3D%22stylesheet%22%20href%3D%22https%3A//cdnjs.cloudflare.com/ajax/libs/Leaflet.awesome-markers/2.0.2/leaflet.awesome-markers.css%22/%3E%0A%20%20%20%20%3Clink%20rel%3D%22stylesheet%22%20href%3D%22https%3A//cdn.jsdelivr.net/gh/python-visualization/folium/folium/templates/leaflet.awesome.rotate.min.css%22/%3E%0A%20%20%20%20%0A%20%20%20%20%20%20%20%20%20%20%20%20%3Cmeta%20name%3D%22viewport%22%20content%3D%22width%3Ddevice-width%2C%0A%20%20%20%20%20%20%20%20%20%20%20%20%20%20%20%20initial-scale%3D1.0%2C%20maximum-scale%3D1.0%2C%20user-scalable%3Dno%22%20/%3E%0A%20%20%20%20%20%20%20%20%20%20%20%20%3Cstyle%3E%0A%20%20%20%20%20%20%20%20%20%20%20%20%20%20%20%20%23map_7d7d7e128b0d4a8db4ef6799e6e6e017%20%7B%0A%20%20%20%20%20%20%20%20%20%20%20%20%20%20%20%20%20%20%20%20position%3A%20relative%3B%0A%20%20%20%20%20%20%20%20%20%20%20%20%20%20%20%20%20%20%20%20width%3A%20100.0%25%3B%0A%20%20%20%20%20%20%20%20%20%20%20%20%20%20%20%20%20%20%20%20height%3A%20100.0%25%3B%0A%20%20%20%20%20%20%20%20%20%20%20%20%20%20%20%20%20%20%20%20left%3A%200.0%25%3B%0A%20%20%20%20%20%20%20%20%20%20%20%20%20%20%20%20%20%20%20%20top%3A%200.0%25%3B%0A%20%20%20%20%20%20%20%20%20%20%20%20%20%20%20%20%7D%0A%20%20%20%20%20%20%20%20%20%20%20%20%3C/style%3E%0A%20%20%20%20%20%20%20%20%0A%20%20%20%20%3Cscript%20src%3D%22https%3A//cdnjs.cloudflare.com/ajax/libs/leaflet.markercluster/1.1.0/leaflet.markercluster.js%22%3E%3C/script%3E%0A%20%20%20%20%3Clink%20rel%3D%22stylesheet%22%20href%3D%22https%3A//cdnjs.cloudflare.com/ajax/libs/leaflet.markercluster/1.1.0/MarkerCluster.css%22/%3E%0A%20%20%20%20%3Clink%20rel%3D%22stylesheet%22%20href%3D%22https%3A//cdnjs.cloudflare.com/ajax/libs/leaflet.markercluster/1.1.0/MarkerCluster.Default.css%22/%3E%0A%20%20%20%20%3Cscript%20src%3D%22https%3A//cdn.jsdelivr.net/gh/python-visualization/folium%40master/folium/templates/leaflet_heat.min.js%22%3E%3C/script%3E%0A%3C/head%3E%0A%3Cbody%3E%20%20%20%20%0A%20%20%20%20%0A%20%20%20%20%20%20%20%20%20%20%20%20%3Cdiv%20class%3D%22folium-map%22%20id%3D%22map_7d7d7e128b0d4a8db4ef6799e6e6e017%22%20%3E%3C/div%3E%0A%20%20%20%20%20%20%20%20%0A%3C/body%3E%0A%3Cscript%3E%20%20%20%20%0A%20%20%20%20%0A%20%20%20%20%20%20%20%20%20%20%20%20var%20map_7d7d7e128b0d4a8db4ef6799e6e6e017%20%3D%20L.map%28%0A%20%20%20%20%20%20%20%20%20%20%20%20%20%20%20%20%22map_7d7d7e128b0d4a8db4ef6799e6e6e017%22%2C%0A%20%20%20%20%20%20%20%20%20%20%20%20%20%20%20%20%7B%0A%20%20%20%20%20%20%20%20%20%20%20%20%20%20%20%20%20%20%20%20center%3A%20%5B15.0%2C%2030.0%5D%2C%0A%20%20%20%20%20%20%20%20%20%20%20%20%20%20%20%20%20%20%20%20crs%3A%20L.CRS.EPSG3857%2C%0A%20%20%20%20%20%20%20%20%20%20%20%20%20%20%20%20%20%20%20%20maxBounds%3A%20%5B%5B-90%2C%20-180%5D%2C%20%5B90%2C%20180%5D%5D%2C%0A%20%20%20%20%20%20%20%20%20%20%20%20%20%20%20%20%20%20%20%20zoom%3A%202%2C%0A%20%20%20%20%20%20%20%20%20%20%20%20%20%20%20%20%20%20%20%20zoomControl%3A%20true%2C%0A%20%20%20%20%20%20%20%20%20%20%20%20%20%20%20%20%20%20%20%20preferCanvas%3A%20false%2C%0A%20%20%20%20%20%20%20%20%20%20%20%20%20%20%20%20%7D%0A%20%20%20%20%20%20%20%20%20%20%20%20%29%3B%0A%0A%20%20%20%20%20%20%20%20%20%20%20%20%0A%0A%20%20%20%20%20%20%20%20%0A%20%20%20%20%0A%20%20%20%20%20%20%20%20%20%20%20%20var%20tile_layer_170eb43410fe48f39d6dbc995379bc5f%20%3D%20L.tileLayer%28%0A%20%20%20%20%20%20%20%20%20%20%20%20%20%20%20%20%22https%3A//cartodb-basemaps-%7Bs%7D.global.ssl.fastly.net/dark_all/%7Bz%7D/%7Bx%7D/%7By%7D.png%22%2C%0A%20%20%20%20%20%20%20%20%20%20%20%20%20%20%20%20%7B%22attribution%22%3A%20%22%5Cu0026copy%3B%20%5Cu003ca%20href%3D%5C%22http%3A//www.openstreetmap.org/copyright%5C%22%5Cu003eOpenStreetMap%5Cu003c/a%5Cu003e%20contributors%20%5Cu0026copy%3B%20%5Cu003ca%20href%3D%5C%22http%3A//cartodb.com/attributions%5C%22%5Cu003eCartoDB%5Cu003c/a%5Cu003e%2C%20CartoDB%20%5Cu003ca%20href%20%3D%5C%22http%3A//cartodb.com/attributions%5C%22%5Cu003eattributions%5Cu003c/a%5Cu003e%22%2C%20%22detectRetina%22%3A%20false%2C%20%22maxNativeZoom%22%3A%2018%2C%20%22maxZoom%22%3A%2018%2C%20%22minZoom%22%3A%200%2C%20%22noWrap%22%3A%20false%2C%20%22opacity%22%3A%201%2C%20%22subdomains%22%3A%20%22abc%22%2C%20%22tms%22%3A%20false%7D%0A%20%20%20%20%20%20%20%20%20%20%20%20%29.addTo%28map_7d7d7e128b0d4a8db4ef6799e6e6e017%29%3B%0A%20%20%20%20%20%20%20%20%0A%20%20%20%20%0A%20%20%20%20%20%20%20%20%20%20%20%20var%20tile_layer_c738efc228f1491485d710d207cfcd31%20%3D%20L.tileLayer%28%0A%20%20%20%20%20%20%20%20%20%20%20%20%20%20%20%20%22https%3A//stamen-tiles-%7Bs%7D.a.ssl.fastly.net/watercolor/%7Bz%7D/%7Bx%7D/%7By%7D.jpg%22%2C%0A%20%20%20%20%20%20%20%20%20%20%20%20%20%20%20%20%7B%22attribution%22%3A%20%22Map%20tiles%20by%20%5Cu003ca%20href%3D%5C%22http%3A//stamen.com%5C%22%5Cu003eStamen%20Design%5Cu003c/a%5Cu003e%2C%20under%20%5Cu003ca%20href%3D%5C%22http%3A//creativecommons.org/licenses/by/3.0%5C%22%5Cu003eCC%20BY%203.0%5Cu003c/a%5Cu003e.%20Data%20by%20%5Cu0026copy%3B%20%5Cu003ca%20href%3D%5C%22http%3A//openstreetmap.org%5C%22%5Cu003eOpenStreetMap%5Cu003c/a%5Cu003e%2C%20under%20%5Cu003ca%20href%3D%5C%22http%3A//creativecommons.org/licenses/by-sa/3.0%5C%22%5Cu003eCC%20BY%20SA%5Cu003c/a%5Cu003e.%22%2C%20%22detectRetina%22%3A%20false%2C%20%22maxNativeZoom%22%3A%2018%2C%20%22maxZoom%22%3A%2018%2C%20%22minZoom%22%3A%200%2C%20%22noWrap%22%3A%20false%2C%20%22opacity%22%3A%201%2C%20%22subdomains%22%3A%20%22abc%22%2C%20%22tms%22%3A%20false%7D%0A%20%20%20%20%20%20%20%20%20%20%20%20%29.addTo%28map_7d7d7e128b0d4a8db4ef6799e6e6e017%29%3B%0A%20%20%20%20%20%20%20%20%0A%20%20%20%20%0A%20%20%20%20%20%20%20%20%20%20%20%20var%20feature_group_7e480bc8e013454b953dc046fa3be563%20%3D%20L.featureGroup%28%0A%20%20%20%20%20%20%20%20%20%20%20%20%20%20%20%20%7B%7D%0A%20%20%20%20%20%20%20%20%20%20%20%20%29.addTo%28map_7d7d7e128b0d4a8db4ef6799e6e6e017%29%3B%0A%20%20%20%20%20%20%20%20%0A%20%20%20%20%0A%20%20%20%20%20%20%20%20%20%20%20%20var%20circle_94e5117636d948118a4cd0781a6c8897%20%3D%20L.circle%28%0A%20%20%20%20%20%20%20%20%20%20%20%20%20%20%20%20%5B13.178953%2C%20-5.016175%5D%2C%0A%20%20%20%20%20%20%20%20%20%20%20%20%20%20%20%20%7B%22bubblingMouseEvents%22%3A%20true%2C%20%22color%22%3A%20%22%233b528b%22%2C%20%22dashArray%22%3A%20null%2C%20%22dashOffset%22%3A%20null%2C%20%22fill%22%3A%20true%2C%20%22fillColor%22%3A%20%22%233b528b%22%2C%20%22fillOpacity%22%3A%200.2%2C%20%22fillRule%22%3A%20%22evenodd%22%2C%20%22lineCap%22%3A%20%22round%22%2C%20%22lineJoin%22%3A%20%22round%22%2C%20%22opacity%22%3A%201.0%2C%20%22radius%22%3A%20100000%2C%20%22stroke%22%3A%20true%2C%20%22weight%22%3A%203%7D%0A%20%20%20%20%20%20%20%20%20%20%20%20%29.addTo%28feature_group_7e480bc8e013454b953dc046fa3be563%29%3B%0A%20%20%20%20%20%20%20%20%0A%20%20%20%20%0A%20%20%20%20%20%20%20%20var%20popup_e99da730926148c1bbc37e94952fc41f%20%3D%20L.popup%28%7B%22maxWidth%22%3A%20%22100%25%22%7D%29%3B%0A%0A%20%20%20%20%20%20%20%20%0A%20%20%20%20%20%20%20%20%20%20%20%20var%20i_frame_aa9470e9d1554e6ca65a2cad4ad26ccb%20%3D%20%24%28%60%3Ciframe%20src%3D%22data%3Atext/html%3Bcharset%3Dutf-8%3Bbase64%2CCiAgICAKCiAgICA8c3Ryb25nPk5hbWU6PC9zdHJvbmc%2BICZlbXNwOyZlbXNwOyZlbXNwOyZlbXNwOyZlbXNwO1Nhbjxici8%2BCiAgICA8c3Ryb25nPlN0ZW1tZWQgTmFtZTo8L3N0cm9uZz4mZW1zcDtTQU48YnIvPgogICAgPHN0cm9uZz5Db3VudDo8L3N0cm9uZz4mZW1zcDsmZW1zcDsmZW1zcDsmZW1zcDsmZW1zcDsyCiAgICAKICAgIA%3D%3D%22%20width%3D%22300%22%20style%3D%22border%3Anone%20%21important%3B%22%20height%3D%2270%22%3E%3C/iframe%3E%60%29%5B0%5D%3B%0A%20%20%20%20%20%20%20%20%20%20%20%20popup_e99da730926148c1bbc37e94952fc41f.setContent%28i_frame_aa9470e9d1554e6ca65a2cad4ad26ccb%29%3B%0A%20%20%20%20%20%20%20%20%0A%0A%20%20%20%20%20%20%20%20circle_94e5117636d948118a4cd0781a6c8897.bindPopup%28popup_e99da730926148c1bbc37e94952fc41f%29%0A%20%20%20%20%20%20%20%20%3B%0A%0A%20%20%20%20%20%20%20%20%0A%20%20%20%20%0A%20%20%20%20%0A%20%20%20%20%20%20%20%20%20%20%20%20circle_94e5117636d948118a4cd0781a6c8897.bindTooltip%28%0A%20%20%20%20%20%20%20%20%20%20%20%20%20%20%20%20%60%3Cdiv%3E%0A%20%20%20%20%20%20%20%20%20%20%20%20%20%20%20%20%20%20%20%20%20San%0A%20%20%20%20%20%20%20%20%20%20%20%20%20%20%20%20%20%3C/div%3E%60%2C%0A%20%20%20%20%20%20%20%20%20%20%20%20%20%20%20%20%7B%22sticky%22%3A%20true%7D%0A%20%20%20%20%20%20%20%20%20%20%20%20%29%3B%0A%20%20%20%20%20%20%20%20%0A%20%20%20%20%0A%20%20%20%20%20%20%20%20%20%20%20%20var%20circle_f6c5751e3bb9492a9f2f9fd5656f9a3c%20%3D%20L.circle%28%0A%20%20%20%20%20%20%20%20%20%20%20%20%20%20%20%20%5B-14.33333%2C%2028.5%5D%2C%0A%20%20%20%20%20%20%20%20%20%20%20%20%20%20%20%20%7B%22bubblingMouseEvents%22%3A%20true%2C%20%22color%22%3A%20%22%23440154%22%2C%20%22dashArray%22%3A%20null%2C%20%22dashOffset%22%3A%20null%2C%20%22fill%22%3A%20true%2C%20%22fillColor%22%3A%20%22%23440154%22%2C%20%22fillOpacity%22%3A%200.2%2C%20%22fillRule%22%3A%20%22evenodd%22%2C%20%22lineCap%22%3A%20%22round%22%2C%20%22lineJoin%22%3A%20%22round%22%2C%20%22opacity%22%3A%201.0%2C%20%22radius%22%3A%2050000%2C%20%22stroke%22%3A%20true%2C%20%22weight%22%3A%203%7D%0A%20%20%20%20%20%20%20%20%20%20%20%20%29.addTo%28feature_group_7e480bc8e013454b953dc046fa3be563%29%3B%0A%20%20%20%20%20%20%20%20%0A%20%20%20%20%0A%20%20%20%20%20%20%20%20var%20popup_c7e70df592114fbe8a180fa62d75e54e%20%3D%20L.popup%28%7B%22maxWidth%22%3A%20%22100%25%22%7D%29%3B%0A%0A%20%20%20%20%20%20%20%20%0A%20%20%20%20%20%20%20%20%20%20%20%20var%20i_frame_0c6fd377735c40f4b637c11b96e38baa%20%3D%20%24%28%60%3Ciframe%20src%3D%22data%3Atext/html%3Bcharset%3Dutf-8%3Bbase64%2CCiAgICAKCiAgICA8c3Ryb25nPk5hbWU6PC9zdHJvbmc%2BICZlbXNwOyZlbXNwOyZlbXNwOyZlbXNwOyZlbXNwO1phbWJpYTxici8%2BCiAgICA8c3Ryb25nPlN0ZW1tZWQgTmFtZTo8L3N0cm9uZz4mZW1zcDtaQU1CSUE8YnIvPgogICAgPHN0cm9uZz5Db3VudDo8L3N0cm9uZz4mZW1zcDsmZW1zcDsmZW1zcDsmZW1zcDsmZW1zcDsxCiAgICAKICAgIA%3D%3D%22%20width%3D%22300%22%20style%3D%22border%3Anone%20%21important%3B%22%20height%3D%2270%22%3E%3C/iframe%3E%60%29%5B0%5D%3B%0A%20%20%20%20%20%20%20%20%20%20%20%20popup_c7e70df592114fbe8a180fa62d75e54e.setContent%28i_frame_0c6fd377735c40f4b637c11b96e38baa%29%3B%0A%20%20%20%20%20%20%20%20%0A%0A%20%20%20%20%20%20%20%20circle_f6c5751e3bb9492a9f2f9fd5656f9a3c.bindPopup%28popup_c7e70df592114fbe8a180fa62d75e54e%29%0A%20%20%20%20%20%20%20%20%3B%0A%0A%20%20%20%20%20%20%20%20%0A%20%20%20%20%0A%20%20%20%20%0A%20%20%20%20%20%20%20%20%20%20%20%20circle_f6c5751e3bb9492a9f2f9fd5656f9a3c.bindTooltip%28%0A%20%20%20%20%20%20%20%20%20%20%20%20%20%20%20%20%60%3Cdiv%3E%0A%20%20%20%20%20%20%20%20%20%20%20%20%20%20%20%20%20%20%20%20%20Zambia%0A%20%20%20%20%20%20%20%20%20%20%20%20%20%20%20%20%20%3C/div%3E%60%2C%0A%20%20%20%20%20%20%20%20%20%20%20%20%20%20%20%20%7B%22sticky%22%3A%20true%7D%0A%20%20%20%20%20%20%20%20%20%20%20%20%29%3B%0A%20%20%20%20%20%20%20%20%0A%20%20%20%20%0A%20%20%20%20%20%20%20%20%20%20%20%20var%20circle_1843bf1d63754ac6b86422cc194850ea%20%3D%20L.circle%28%0A%20%20%20%20%20%20%20%20%20%20%20%20%20%20%20%20%5B60.0%2C%20100.0%5D%2C%0A%20%20%20%20%20%20%20%20%20%20%20%20%20%20%20%20%7B%22bubblingMouseEvents%22%3A%20true%2C%20%22color%22%3A%20%22%23440154%22%2C%20%22dashArray%22%3A%20null%2C%20%22dashOffset%22%3A%20null%2C%20%22fill%22%3A%20true%2C%20%22fillColor%22%3A%20%22%23440154%22%2C%20%22fillOpacity%22%3A%200.2%2C%20%22fillRule%22%3A%20%22evenodd%22%2C%20%22lineCap%22%3A%20%22round%22%2C%20%22lineJoin%22%3A%20%22round%22%2C%20%22opacity%22%3A%201.0%2C%20%22radius%22%3A%2050000%2C%20%22stroke%22%3A%20true%2C%20%22weight%22%3A%203%7D%0A%20%20%20%20%20%20%20%20%20%20%20%20%29.addTo%28feature_group_7e480bc8e013454b953dc046fa3be563%29%3B%0A%20%20%20%20%20%20%20%20%0A%20%20%20%20%0A%20%20%20%20%20%20%20%20var%20popup_60eed93558aa488ba3c5e9095000649f%20%3D%20L.popup%28%7B%22maxWidth%22%3A%20%22100%25%22%7D%29%3B%0A%0A%20%20%20%20%20%20%20%20%0A%20%20%20%20%20%20%20%20%20%20%20%20var%20i_frame_2dd1db5dfcd74d93a42351b737188966%20%3D%20%24%28%60%3Ciframe%20src%3D%22data%3Atext/html%3Bcharset%3Dutf-8%3Bbase64%2CCiAgICAKCiAgICA8c3Ryb25nPk5hbWU6PC9zdHJvbmc%2BICZlbXNwOyZlbXNwOyZlbXNwOyZlbXNwOyZlbXNwO1J1c3NpYTxici8%2BCiAgICA8c3Ryb25nPlN0ZW1tZWQgTmFtZTo8L3N0cm9uZz4mZW1zcDtSVVNTSUE8YnIvPgogICAgPHN0cm9uZz5Db3VudDo8L3N0cm9uZz4mZW1zcDsmZW1zcDsmZW1zcDsmZW1zcDsmZW1zcDsxCiAgICAKICAgIA%3D%3D%22%20width%3D%22300%22%20style%3D%22border%3Anone%20%21important%3B%22%20height%3D%2270%22%3E%3C/iframe%3E%60%29%5B0%5D%3B%0A%20%20%20%20%20%20%20%20%20%20%20%20popup_60eed93558aa488ba3c5e9095000649f.setContent%28i_frame_2dd1db5dfcd74d93a42351b737188966%29%3B%0A%20%20%20%20%20%20%20%20%0A%0A%20%20%20%20%20%20%20%20circle_1843bf1d63754ac6b86422cc194850ea.bindPopup%28popup_60eed93558aa488ba3c5e9095000649f%29%0A%20%20%20%20%20%20%20%20%3B%0A%0A%20%20%20%20%20%20%20%20%0A%20%20%20%20%0A%20%20%20%20%0A%20%20%20%20%20%20%20%20%20%20%20%20circle_1843bf1d63754ac6b86422cc194850ea.bindTooltip%28%0A%20%20%20%20%20%20%20%20%20%20%20%20%20%20%20%20%60%3Cdiv%3E%0A%20%20%20%20%20%20%20%20%20%20%20%20%20%20%20%20%20%20%20%20%20Russia%0A%20%20%20%20%20%20%20%20%20%20%20%20%20%20%20%20%20%3C/div%3E%60%2C%0A%20%20%20%20%20%20%20%20%20%20%20%20%20%20%20%20%7B%22sticky%22%3A%20true%7D%0A%20%20%20%20%20%20%20%20%20%20%20%20%29%3B%0A%20%20%20%20%20%20%20%20%0A%20%20%20%20%0A%20%20%20%20%20%20%20%20%20%20%20%20var%20circle_1df2682e8f8e44b8a6f419b64a6ef615%20%3D%20L.circle%28%0A%20%20%20%20%20%20%20%20%20%20%20%20%20%20%20%20%5B49.0%2C%2032.0%5D%2C%0A%20%20%20%20%20%20%20%20%20%20%20%20%20%20%20%20%7B%22bubblingMouseEvents%22%3A%20true%2C%20%22color%22%3A%20%22%233b528b%22%2C%20%22dashArray%22%3A%20null%2C%20%22dashOffset%22%3A%20null%2C%20%22fill%22%3A%20true%2C%20%22fillColor%22%3A%20%22%233b528b%22%2C%20%22fillOpacity%22%3A%200.2%2C%20%22fillRule%22%3A%20%22evenodd%22%2C%20%22lineCap%22%3A%20%22round%22%2C%20%22lineJoin%22%3A%20%22round%22%2C%20%22opacity%22%3A%201.0%2C%20%22radius%22%3A%20100000%2C%20%22stroke%22%3A%20true%2C%20%22weight%22%3A%203%7D%0A%20%20%20%20%20%20%20%20%20%20%20%20%29.addTo%28feature_group_7e480bc8e013454b953dc046fa3be563%29%3B%0A%20%20%20%20%20%20%20%20%0A%20%20%20%20%0A%20%20%20%20%20%20%20%20var%20popup_e85409f5c2444b60a8e59907b0ae0821%20%3D%20L.popup%28%7B%22maxWidth%22%3A%20%22100%25%22%7D%29%3B%0A%0A%20%20%20%20%20%20%20%20%0A%20%20%20%20%20%20%20%20%20%20%20%20var%20i_frame_fc641428bbe344ed88cf06015582fee0%20%3D%20%24%28%60%3Ciframe%20src%3D%22data%3Atext/html%3Bcharset%3Dutf-8%3Bbase64%2CCiAgICAKCiAgICA8c3Ryb25nPk5hbWU6PC9zdHJvbmc%2BICZlbXNwOyZlbXNwOyZlbXNwOyZlbXNwOyZlbXNwO1VrcmFpbmU8YnIvPgogICAgPHN0cm9uZz5TdGVtbWVkIE5hbWU6PC9zdHJvbmc%2BJmVtc3A7VUtSQUlORTxici8%2BCiAgICA8c3Ryb25nPkNvdW50Ojwvc3Ryb25nPiZlbXNwOyZlbXNwOyZlbXNwOyZlbXNwOyZlbXNwOzIKICAgIAogICAg%22%20width%3D%22300%22%20style%3D%22border%3Anone%20%21important%3B%22%20height%3D%2270%22%3E%3C/iframe%3E%60%29%5B0%5D%3B%0A%20%20%20%20%20%20%20%20%20%20%20%20popup_e85409f5c2444b60a8e59907b0ae0821.setContent%28i_frame_fc641428bbe344ed88cf06015582fee0%29%3B%0A%20%20%20%20%20%20%20%20%0A%0A%20%20%20%20%20%20%20%20circle_1df2682e8f8e44b8a6f419b64a6ef615.bindPopup%28popup_e85409f5c2444b60a8e59907b0ae0821%29%0A%20%20%20%20%20%20%20%20%3B%0A%0A%20%20%20%20%20%20%20%20%0A%20%20%20%20%0A%20%20%20%20%0A%20%20%20%20%20%20%20%20%20%20%20%20circle_1df2682e8f8e44b8a6f419b64a6ef615.bindTooltip%28%0A%20%20%20%20%20%20%20%20%20%20%20%20%20%20%20%20%60%3Cdiv%3E%0A%20%20%20%20%20%20%20%20%20%20%20%20%20%20%20%20%20%20%20%20%20Ukraine%0A%20%20%20%20%20%20%20%20%20%20%20%20%20%20%20%20%20%3C/div%3E%60%2C%0A%20%20%20%20%20%20%20%20%20%20%20%20%20%20%20%20%7B%22sticky%22%3A%20true%7D%0A%20%20%20%20%20%20%20%20%20%20%20%20%29%3B%0A%20%20%20%20%20%20%20%20%0A%20%20%20%20%0A%20%20%20%20%20%20%20%20%20%20%20%20var%20circle_ba52fafb229c40659ed88f880fe56841%20%3D%20L.circle%28%0A%20%20%20%20%20%20%20%20%20%20%20%20%20%20%20%20%5B-13.5%2C%2034.0%5D%2C%0A%20%20%20%20%20%20%20%20%20%20%20%20%20%20%20%20%7B%22bubblingMouseEvents%22%3A%20true%2C%20%22color%22%3A%20%22%23440154%22%2C%20%22dashArray%22%3A%20null%2C%20%22dashOffset%22%3A%20null%2C%20%22fill%22%3A%20true%2C%20%22fillColor%22%3A%20%22%23440154%22%2C%20%22fillOpacity%22%3A%200.2%2C%20%22fillRule%22%3A%20%22evenodd%22%2C%20%22lineCap%22%3A%20%22round%22%2C%20%22lineJoin%22%3A%20%22round%22%2C%20%22opacity%22%3A%201.0%2C%20%22radius%22%3A%2050000%2C%20%22stroke%22%3A%20true%2C%20%22weight%22%3A%203%7D%0A%20%20%20%20%20%20%20%20%20%20%20%20%29.addTo%28feature_group_7e480bc8e013454b953dc046fa3be563%29%3B%0A%20%20%20%20%20%20%20%20%0A%20%20%20%20%0A%20%20%20%20%20%20%20%20var%20popup_105dcf24b8b14972a7023634eb80615a%20%3D%20L.popup%28%7B%22maxWidth%22%3A%20%22100%25%22%7D%29%3B%0A%0A%20%20%20%20%20%20%20%20%0A%20%20%20%20%20%20%20%20%20%20%20%20var%20i_frame_bf0eeb18d51e403d8976c3e72f49edbf%20%3D%20%24%28%60%3Ciframe%20src%3D%22data%3Atext/html%3Bcharset%3Dutf-8%3Bbase64%2CCiAgICAKCiAgICA8c3Ryb25nPk5hbWU6PC9zdHJvbmc%2BICZlbXNwOyZlbXNwOyZlbXNwOyZlbXNwOyZlbXNwO01hbGF3aTxici8%2BCiAgICA8c3Ryb25nPlN0ZW1tZWQgTmFtZTo8L3N0cm9uZz4mZW1zcDtNQUxBV0k8YnIvPgogICAgPHN0cm9uZz5Db3VudDo8L3N0cm9uZz4mZW1zcDsmZW1zcDsmZW1zcDsmZW1zcDsmZW1zcDsxCiAgICAKICAgIA%3D%3D%22%20width%3D%22300%22%20style%3D%22border%3Anone%20%21important%3B%22%20height%3D%2270%22%3E%3C/iframe%3E%60%29%5B0%5D%3B%0A%20%20%20%20%20%20%20%20%20%20%20%20popup_105dcf24b8b14972a7023634eb80615a.setContent%28i_frame_bf0eeb18d51e403d8976c3e72f49edbf%29%3B%0A%20%20%20%20%20%20%20%20%0A%0A%20%20%20%20%20%20%20%20circle_ba52fafb229c40659ed88f880fe56841.bindPopup%28popup_105dcf24b8b14972a7023634eb80615a%29%0A%20%20%20%20%20%20%20%20%3B%0A%0A%20%20%20%20%20%20%20%20%0A%20%20%20%20%0A%20%20%20%20%0A%20%20%20%20%20%20%20%20%20%20%20%20circle_ba52fafb229c40659ed88f880fe56841.bindTooltip%28%0A%20%20%20%20%20%20%20%20%20%20%20%20%20%20%20%20%60%3Cdiv%3E%0A%20%20%20%20%20%20%20%20%20%20%20%20%20%20%20%20%20%20%20%20%20Malawi%0A%20%20%20%20%20%20%20%20%20%20%20%20%20%20%20%20%20%3C/div%3E%60%2C%0A%20%20%20%20%20%20%20%20%20%20%20%20%20%20%20%20%7B%22sticky%22%3A%20true%7D%0A%20%20%20%20%20%20%20%20%20%20%20%20%29%3B%0A%20%20%20%20%20%20%20%20%0A%20%20%20%20%0A%20%20%20%20%20%20%20%20%20%20%20%20var%20circle_22cff529239844b5b59cee628ae956cf%20%3D%20L.circle%28%0A%20%20%20%20%20%20%20%20%20%20%20%20%20%20%20%20%5B14.666667%2C%20-90.5%5D%2C%0A%20%20%20%20%20%20%20%20%20%20%20%20%20%20%20%20%7B%22bubblingMouseEvents%22%3A%20true%2C%20%22color%22%3A%20%22%23440154%22%2C%20%22dashArray%22%3A%20null%2C%20%22dashOffset%22%3A%20null%2C%20%22fill%22%3A%20true%2C%20%22fillColor%22%3A%20%22%23440154%22%2C%20%22fillOpacity%22%3A%200.2%2C%20%22fillRule%22%3A%20%22evenodd%22%2C%20%22lineCap%22%3A%20%22round%22%2C%20%22lineJoin%22%3A%20%22round%22%2C%20%22opacity%22%3A%201.0%2C%20%22radius%22%3A%2050000%2C%20%22stroke%22%3A%20true%2C%20%22weight%22%3A%203%7D%0A%20%20%20%20%20%20%20%20%20%20%20%20%29.addTo%28feature_group_7e480bc8e013454b953dc046fa3be563%29%3B%0A%20%20%20%20%20%20%20%20%0A%20%20%20%20%0A%20%20%20%20%20%20%20%20var%20popup_1ed16e51c0a343a79be2807158901cbc%20%3D%20L.popup%28%7B%22maxWidth%22%3A%20%22100%25%22%7D%29%3B%0A%0A%20%20%20%20%20%20%20%20%0A%20%20%20%20%20%20%20%20%20%20%20%20var%20i_frame_8b414a861766489ab6dfb9ff7ec70b5a%20%3D%20%24%28%60%3Ciframe%20src%3D%22data%3Atext/html%3Bcharset%3Dutf-8%3Bbase64%2CCiAgICAKCiAgICA8c3Ryb25nPk5hbWU6PC9zdHJvbmc%2BICZlbXNwOyZlbXNwOyZlbXNwOyZlbXNwOyZlbXNwO0d1YXRlbWFsYTxici8%2BCiAgICA8c3Ryb25nPlN0ZW1tZWQgTmFtZTo8L3N0cm9uZz4mZW1zcDtHVUFURU1BTEE8YnIvPgogICAgPHN0cm9uZz5Db3VudDo8L3N0cm9uZz4mZW1zcDsmZW1zcDsmZW1zcDsmZW1zcDsmZW1zcDsxCiAgICAKICAgIA%3D%3D%22%20width%3D%22300%22%20style%3D%22border%3Anone%20%21important%3B%22%20height%3D%2270%22%3E%3C/iframe%3E%60%29%5B0%5D%3B%0A%20%20%20%20%20%20%20%20%20%20%20%20popup_1ed16e51c0a343a79be2807158901cbc.setContent%28i_frame_8b414a861766489ab6dfb9ff7ec70b5a%29%3B%0A%20%20%20%20%20%20%20%20%0A%0A%20%20%20%20%20%20%20%20circle_22cff529239844b5b59cee628ae956cf.bindPopup%28popup_1ed16e51c0a343a79be2807158901cbc%29%0A%20%20%20%20%20%20%20%20%3B%0A%0A%20%20%20%20%20%20%20%20%0A%20%20%20%20%0A%20%20%20%20%0A%20%20%20%20%20%20%20%20%20%20%20%20circle_22cff529239844b5b59cee628ae956cf.bindTooltip%28%0A%20%20%20%20%20%20%20%20%20%20%20%20%20%20%20%20%60%3Cdiv%3E%0A%20%20%20%20%20%20%20%20%20%20%20%20%20%20%20%20%20%20%20%20%20Guatemala%0A%20%20%20%20%20%20%20%20%20%20%20%20%20%20%20%20%20%3C/div%3E%60%2C%0A%20%20%20%20%20%20%20%20%20%20%20%20%20%20%20%20%7B%22sticky%22%3A%20true%7D%0A%20%20%20%20%20%20%20%20%20%20%20%20%29%3B%0A%20%20%20%20%20%20%20%20%0A%20%20%20%20%0A%20%20%20%20%20%20%20%20%20%20%20%20var%20circle_6ac50a63ca17423aaff2af15661b7665%20%3D%20L.circle%28%0A%20%20%20%20%20%20%20%20%20%20%20%20%20%20%20%20%5B23.0%2C%20-102.0%5D%2C%0A%20%20%20%20%20%20%20%20%20%20%20%20%20%20%20%20%7B%22bubblingMouseEvents%22%3A%20true%2C%20%22color%22%3A%20%22%233b528b%22%2C%20%22dashArray%22%3A%20null%2C%20%22dashOffset%22%3A%20null%2C%20%22fill%22%3A%20true%2C%20%22fillColor%22%3A%20%22%233b528b%22%2C%20%22fillOpacity%22%3A%200.2%2C%20%22fillRule%22%3A%20%22evenodd%22%2C%20%22lineCap%22%3A%20%22round%22%2C%20%22lineJoin%22%3A%20%22round%22%2C%20%22opacity%22%3A%201.0%2C%20%22radius%22%3A%20100000%2C%20%22stroke%22%3A%20true%2C%20%22weight%22%3A%203%7D%0A%20%20%20%20%20%20%20%20%20%20%20%20%29.addTo%28feature_group_7e480bc8e013454b953dc046fa3be563%29%3B%0A%20%20%20%20%20%20%20%20%0A%20%20%20%20%0A%20%20%20%20%20%20%20%20var%20popup_c634003b76624685b41e0643c6c875e3%20%3D%20L.popup%28%7B%22maxWidth%22%3A%20%22100%25%22%7D%29%3B%0A%0A%20%20%20%20%20%20%20%20%0A%20%20%20%20%20%20%20%20%20%20%20%20var%20i_frame_90a00e2287b54ee38757b3fbec116ee1%20%3D%20%24%28%60%3Ciframe%20src%3D%22data%3Atext/html%3Bcharset%3Dutf-8%3Bbase64%2CCiAgICAKCiAgICA8c3Ryb25nPk5hbWU6PC9zdHJvbmc%2BICZlbXNwOyZlbXNwOyZlbXNwOyZlbXNwOyZlbXNwO01leGljbzxici8%2BCiAgICA8c3Ryb25nPlN0ZW1tZWQgTmFtZTo8L3N0cm9uZz4mZW1zcDtNRVhJQ088YnIvPgogICAgPHN0cm9uZz5Db3VudDo8L3N0cm9uZz4mZW1zcDsmZW1zcDsmZW1zcDsmZW1zcDsmZW1zcDsyCiAgICAKICAgIA%3D%3D%22%20width%3D%22300%22%20style%3D%22border%3Anone%20%21important%3B%22%20height%3D%2270%22%3E%3C/iframe%3E%60%29%5B0%5D%3B%0A%20%20%20%20%20%20%20%20%20%20%20%20popup_c634003b76624685b41e0643c6c875e3.setContent%28i_frame_90a00e2287b54ee38757b3fbec116ee1%29%3B%0A%20%20%20%20%20%20%20%20%0A%0A%20%20%20%20%20%20%20%20circle_6ac50a63ca17423aaff2af15661b7665.bindPopup%28popup_c634003b76624685b41e0643c6c875e3%29%0A%20%20%20%20%20%20%20%20%3B%0A%0A%20%20%20%20%20%20%20%20%0A%20%20%20%20%0A%20%20%20%20%0A%20%20%20%20%20%20%20%20%20%20%20%20circle_6ac50a63ca17423aaff2af15661b7665.bindTooltip%28%0A%20%20%20%20%20%20%20%20%20%20%20%20%20%20%20%20%60%3Cdiv%3E%0A%20%20%20%20%20%20%20%20%20%20%20%20%20%20%20%20%20%20%20%20%20Mexico%0A%20%20%20%20%20%20%20%20%20%20%20%20%20%20%20%20%20%3C/div%3E%60%2C%0A%20%20%20%20%20%20%20%20%20%20%20%20%20%20%20%20%7B%22sticky%22%3A%20true%7D%0A%20%20%20%20%20%20%20%20%20%20%20%20%29%3B%0A%20%20%20%20%20%20%20%20%0A%20%20%20%20%0A%20%20%20%20%20%20%20%20%20%20%20%20var%20circle_c117b316d86040e2b15051eb9151a3c5%20%3D%20L.circle%28%0A%20%20%20%20%20%20%20%20%20%20%20%20%20%20%20%20%5B3.593188%2C%20-77.039419%5D%2C%0A%20%20%20%20%20%20%20%20%20%20%20%20%20%20%20%20%7B%22bubblingMouseEvents%22%3A%20true%2C%20%22color%22%3A%20%22%23440154%22%2C%20%22dashArray%22%3A%20null%2C%20%22dashOffset%22%3A%20null%2C%20%22fill%22%3A%20true%2C%20%22fillColor%22%3A%20%22%23440154%22%2C%20%22fillOpacity%22%3A%200.2%2C%20%22fillRule%22%3A%20%22evenodd%22%2C%20%22lineCap%22%3A%20%22round%22%2C%20%22lineJoin%22%3A%20%22round%22%2C%20%22opacity%22%3A%201.0%2C%20%22radius%22%3A%2050000%2C%20%22stroke%22%3A%20true%2C%20%22weight%22%3A%203%7D%0A%20%20%20%20%20%20%20%20%20%20%20%20%29.addTo%28feature_group_7e480bc8e013454b953dc046fa3be563%29%3B%0A%20%20%20%20%20%20%20%20%0A%20%20%20%20%0A%20%20%20%20%20%20%20%20var%20popup_6a764187453b46e6896e2a42949b9309%20%3D%20L.popup%28%7B%22maxWidth%22%3A%20%22100%25%22%7D%29%3B%0A%0A%20%20%20%20%20%20%20%20%0A%20%20%20%20%20%20%20%20%20%20%20%20var%20i_frame_b39e408fe4eb47c687a8109269639b04%20%3D%20%24%28%60%3Ciframe%20src%3D%22data%3Atext/html%3Bcharset%3Dutf-8%3Bbase64%2CCiAgICAKCiAgICA8c3Ryb25nPk5hbWU6PC9zdHJvbmc%2BICZlbXNwOyZlbXNwOyZlbXNwOyZlbXNwOyZlbXNwO0J1ZW5hdmVudHVyYTxici8%2BCiAgICA8c3Ryb25nPlN0ZW1tZWQgTmFtZTo8L3N0cm9uZz4mZW1zcDtCVUVOQVZFTlRVUkE8YnIvPgogICAgPHN0cm9uZz5Db3VudDo8L3N0cm9uZz4mZW1zcDsmZW1zcDsmZW1zcDsmZW1zcDsmZW1zcDsxCiAgICAKICAgIA%3D%3D%22%20width%3D%22300%22%20style%3D%22border%3Anone%20%21important%3B%22%20height%3D%2270%22%3E%3C/iframe%3E%60%29%5B0%5D%3B%0A%20%20%20%20%20%20%20%20%20%20%20%20popup_6a764187453b46e6896e2a42949b9309.setContent%28i_frame_b39e408fe4eb47c687a8109269639b04%29%3B%0A%20%20%20%20%20%20%20%20%0A%0A%20%20%20%20%20%20%20%20circle_c117b316d86040e2b15051eb9151a3c5.bindPopup%28popup_6a764187453b46e6896e2a42949b9309%29%0A%20%20%20%20%20%20%20%20%3B%0A%0A%20%20%20%20%20%20%20%20%0A%20%20%20%20%0A%20%20%20%20%0A%20%20%20%20%20%20%20%20%20%20%20%20circle_c117b316d86040e2b15051eb9151a3c5.bindTooltip%28%0A%20%20%20%20%20%20%20%20%20%20%20%20%20%20%20%20%60%3Cdiv%3E%0A%20%20%20%20%20%20%20%20%20%20%20%20%20%20%20%20%20%20%20%20%20Buenaventura%0A%20%20%20%20%20%20%20%20%20%20%20%20%20%20%20%20%20%3C/div%3E%60%2C%0A%20%20%20%20%20%20%20%20%20%20%20%20%20%20%20%20%7B%22sticky%22%3A%20true%7D%0A%20%20%20%20%20%20%20%20%20%20%20%20%29%3B%0A%20%20%20%20%20%20%20%20%0A%20%20%20%20%0A%20%20%20%20%20%20%20%20%20%20%20%20var%20circle_213a0cdeac994ce798293275b0a15ece%20%3D%20L.circle%28%0A%20%20%20%20%20%20%20%20%20%20%20%20%20%20%20%20%5B-3.5%2C%2030.0%5D%2C%0A%20%20%20%20%20%20%20%20%20%20%20%20%20%20%20%20%7B%22bubblingMouseEvents%22%3A%20true%2C%20%22color%22%3A%20%22%23440154%22%2C%20%22dashArray%22%3A%20null%2C%20%22dashOffset%22%3A%20null%2C%20%22fill%22%3A%20true%2C%20%22fillColor%22%3A%20%22%23440154%22%2C%20%22fillOpacity%22%3A%200.2%2C%20%22fillRule%22%3A%20%22evenodd%22%2C%20%22lineCap%22%3A%20%22round%22%2C%20%22lineJoin%22%3A%20%22round%22%2C%20%22opacity%22%3A%201.0%2C%20%22radius%22%3A%2050000%2C%20%22stroke%22%3A%20true%2C%20%22weight%22%3A%203%7D%0A%20%20%20%20%20%20%20%20%20%20%20%20%29.addTo%28feature_group_7e480bc8e013454b953dc046fa3be563%29%3B%0A%20%20%20%20%20%20%20%20%0A%20%20%20%20%0A%20%20%20%20%20%20%20%20var%20popup_062d54ea7963406f94aa4b0d3ae9edff%20%3D%20L.popup%28%7B%22maxWidth%22%3A%20%22100%25%22%7D%29%3B%0A%0A%20%20%20%20%20%20%20%20%0A%20%20%20%20%20%20%20%20%20%20%20%20var%20i_frame_1e42cf18481f428eb14898202ee43c86%20%3D%20%24%28%60%3Ciframe%20src%3D%22data%3Atext/html%3Bcharset%3Dutf-8%3Bbase64%2CCiAgICAKCiAgICA8c3Ryb25nPk5hbWU6PC9zdHJvbmc%2BICZlbXNwOyZlbXNwOyZlbXNwOyZlbXNwOyZlbXNwO0J1cnVuZGk8YnIvPgogICAgPHN0cm9uZz5TdGVtbWVkIE5hbWU6PC9zdHJvbmc%2BJmVtc3A7QlVSVU5ESTxici8%2BCiAgICA8c3Ryb25nPkNvdW50Ojwvc3Ryb25nPiZlbXNwOyZlbXNwOyZlbXNwOyZlbXNwOyZlbXNwOzEKICAgIAogICAg%22%20width%3D%22300%22%20style%3D%22border%3Anone%20%21important%3B%22%20height%3D%2270%22%3E%3C/iframe%3E%60%29%5B0%5D%3B%0A%20%20%20%20%20%20%20%20%20%20%20%20popup_062d54ea7963406f94aa4b0d3ae9edff.setContent%28i_frame_1e42cf18481f428eb14898202ee43c86%29%3B%0A%20%20%20%20%20%20%20%20%0A%0A%20%20%20%20%20%20%20%20circle_213a0cdeac994ce798293275b0a15ece.bindPopup%28popup_062d54ea7963406f94aa4b0d3ae9edff%29%0A%20%20%20%20%20%20%20%20%3B%0A%0A%20%20%20%20%20%20%20%20%0A%20%20%20%20%0A%20%20%20%20%0A%20%20%20%20%20%20%20%20%20%20%20%20circle_213a0cdeac994ce798293275b0a15ece.bindTooltip%28%0A%20%20%20%20%20%20%20%20%20%20%20%20%20%20%20%20%60%3Cdiv%3E%0A%20%20%20%20%20%20%20%20%20%20%20%20%20%20%20%20%20%20%20%20%20Burundi%0A%20%20%20%20%20%20%20%20%20%20%20%20%20%20%20%20%20%3C/div%3E%60%2C%0A%20%20%20%20%20%20%20%20%20%20%20%20%20%20%20%20%7B%22sticky%22%3A%20true%7D%0A%20%20%20%20%20%20%20%20%20%20%20%20%29%3B%0A%20%20%20%20%20%20%20%20%0A%20%20%20%20%0A%20%20%20%20%20%20%20%20%20%20%20%20var%20circle_2e131108f58b46bd9c1d27067de5f980%20%3D%20L.circle%28%0A%20%20%20%20%20%20%20%20%20%20%20%20%20%20%20%20%5B-19.0%2C%2029.75%5D%2C%0A%20%20%20%20%20%20%20%20%20%20%20%20%20%20%20%20%7B%22bubblingMouseEvents%22%3A%20true%2C%20%22color%22%3A%20%22%23440154%22%2C%20%22dashArray%22%3A%20null%2C%20%22dashOffset%22%3A%20null%2C%20%22fill%22%3A%20true%2C%20%22fillColor%22%3A%20%22%23440154%22%2C%20%22fillOpacity%22%3A%200.2%2C%20%22fillRule%22%3A%20%22evenodd%22%2C%20%22lineCap%22%3A%20%22round%22%2C%20%22lineJoin%22%3A%20%22round%22%2C%20%22opacity%22%3A%201.0%2C%20%22radius%22%3A%2050000%2C%20%22stroke%22%3A%20true%2C%20%22weight%22%3A%203%7D%0A%20%20%20%20%20%20%20%20%20%20%20%20%29.addTo%28feature_group_7e480bc8e013454b953dc046fa3be563%29%3B%0A%20%20%20%20%20%20%20%20%0A%20%20%20%20%0A%20%20%20%20%20%20%20%20var%20popup_2e992cfce2ba477b96430d693244b69d%20%3D%20L.popup%28%7B%22maxWidth%22%3A%20%22100%25%22%7D%29%3B%0A%0A%20%20%20%20%20%20%20%20%0A%20%20%20%20%20%20%20%20%20%20%20%20var%20i_frame_5e6f9cf8782d4d578186e2d523b22b17%20%3D%20%24%28%60%3Ciframe%20src%3D%22data%3Atext/html%3Bcharset%3Dutf-8%3Bbase64%2CCiAgICAKCiAgICA8c3Ryb25nPk5hbWU6PC9zdHJvbmc%2BICZlbXNwOyZlbXNwOyZlbXNwOyZlbXNwOyZlbXNwO1ppbWJhYndlPGJyLz4KICAgIDxzdHJvbmc%2BU3RlbW1lZCBOYW1lOjwvc3Ryb25nPiZlbXNwO1pJTUJBQldFPGJyLz4KICAgIDxzdHJvbmc%2BQ291bnQ6PC9zdHJvbmc%2BJmVtc3A7JmVtc3A7JmVtc3A7JmVtc3A7JmVtc3A7MQogICAgCiAgICA%3D%22%20width%3D%22300%22%20style%3D%22border%3Anone%20%21important%3B%22%20height%3D%2270%22%3E%3C/iframe%3E%60%29%5B0%5D%3B%0A%20%20%20%20%20%20%20%20%20%20%20%20popup_2e992cfce2ba477b96430d693244b69d.setContent%28i_frame_5e6f9cf8782d4d578186e2d523b22b17%29%3B%0A%20%20%20%20%20%20%20%20%0A%0A%20%20%20%20%20%20%20%20circle_2e131108f58b46bd9c1d27067de5f980.bindPopup%28popup_2e992cfce2ba477b96430d693244b69d%29%0A%20%20%20%20%20%20%20%20%3B%0A%0A%20%20%20%20%20%20%20%20%0A%20%20%20%20%0A%20%20%20%20%0A%20%20%20%20%20%20%20%20%20%20%20%20circle_2e131108f58b46bd9c1d27067de5f980.bindTooltip%28%0A%20%20%20%20%20%20%20%20%20%20%20%20%20%20%20%20%60%3Cdiv%3E%0A%20%20%20%20%20%20%20%20%20%20%20%20%20%20%20%20%20%20%20%20%20Zimbabwe%0A%20%20%20%20%20%20%20%20%20%20%20%20%20%20%20%20%20%3C/div%3E%60%2C%0A%20%20%20%20%20%20%20%20%20%20%20%20%20%20%20%20%7B%22sticky%22%3A%20true%7D%0A%20%20%20%20%20%20%20%20%20%20%20%20%29%3B%0A%20%20%20%20%20%20%20%20%0A%20%20%20%20%0A%20%20%20%20%20%20%20%20%20%20%20%20var%20circle_9f54e2e3e96d49d48ac8c2b0eb0b131f%20%3D%20L.circle%28%0A%20%20%20%20%20%20%20%20%20%20%20%20%20%20%20%20%5B15.0%2C%20-86.5%5D%2C%0A%20%20%20%20%20%20%20%20%20%20%20%20%20%20%20%20%7B%22bubblingMouseEvents%22%3A%20true%2C%20%22color%22%3A%20%22%233b528b%22%2C%20%22dashArray%22%3A%20null%2C%20%22dashOffset%22%3A%20null%2C%20%22fill%22%3A%20true%2C%20%22fillColor%22%3A%20%22%233b528b%22%2C%20%22fillOpacity%22%3A%200.2%2C%20%22fillRule%22%3A%20%22evenodd%22%2C%20%22lineCap%22%3A%20%22round%22%2C%20%22lineJoin%22%3A%20%22round%22%2C%20%22opacity%22%3A%201.0%2C%20%22radius%22%3A%20100000%2C%20%22stroke%22%3A%20true%2C%20%22weight%22%3A%203%7D%0A%20%20%20%20%20%20%20%20%20%20%20%20%29.addTo%28feature_group_7e480bc8e013454b953dc046fa3be563%29%3B%0A%20%20%20%20%20%20%20%20%0A%20%20%20%20%0A%20%20%20%20%20%20%20%20var%20popup_29a716552f224f0599c59760fe9d7485%20%3D%20L.popup%28%7B%22maxWidth%22%3A%20%22100%25%22%7D%29%3B%0A%0A%20%20%20%20%20%20%20%20%0A%20%20%20%20%20%20%20%20%20%20%20%20var%20i_frame_a682ee27d2e04157afe71bd2e6b19457%20%3D%20%24%28%60%3Ciframe%20src%3D%22data%3Atext/html%3Bcharset%3Dutf-8%3Bbase64%2CCiAgICAKCiAgICA8c3Ryb25nPk5hbWU6PC9zdHJvbmc%2BICZlbXNwOyZlbXNwOyZlbXNwOyZlbXNwOyZlbXNwO0hvbmR1cmFzPGJyLz4KICAgIDxzdHJvbmc%2BU3RlbW1lZCBOYW1lOjwvc3Ryb25nPiZlbXNwO0hPTkRVUkFTPGJyLz4KICAgIDxzdHJvbmc%2BQ291bnQ6PC9zdHJvbmc%2BJmVtc3A7JmVtc3A7JmVtc3A7JmVtc3A7JmVtc3A7MgogICAgCiAgICA%3D%22%20width%3D%22300%22%20style%3D%22border%3Anone%20%21important%3B%22%20height%3D%2270%22%3E%3C/iframe%3E%60%29%5B0%5D%3B%0A%20%20%20%20%20%20%20%20%20%20%20%20popup_29a716552f224f0599c59760fe9d7485.setContent%28i_frame_a682ee27d2e04157afe71bd2e6b19457%29%3B%0A%20%20%20%20%20%20%20%20%0A%0A%20%20%20%20%20%20%20%20circle_9f54e2e3e96d49d48ac8c2b0eb0b131f.bindPopup%28popup_29a716552f224f0599c59760fe9d7485%29%0A%20%20%20%20%20%20%20%20%3B%0A%0A%20%20%20%20%20%20%20%20%0A%20%20%20%20%0A%20%20%20%20%0A%20%20%20%20%20%20%20%20%20%20%20%20circle_9f54e2e3e96d49d48ac8c2b0eb0b131f.bindTooltip%28%0A%20%20%20%20%20%20%20%20%20%20%20%20%20%20%20%20%60%3Cdiv%3E%0A%20%20%20%20%20%20%20%20%20%20%20%20%20%20%20%20%20%20%20%20%20Honduras%0A%20%20%20%20%20%20%20%20%20%20%20%20%20%20%20%20%20%3C/div%3E%60%2C%0A%20%20%20%20%20%20%20%20%20%20%20%20%20%20%20%20%7B%22sticky%22%3A%20true%7D%0A%20%20%20%20%20%20%20%20%20%20%20%20%29%3B%0A%20%20%20%20%20%20%20%20%0A%20%20%20%20%0A%20%20%20%20%20%20%20%20%20%20%20%20var%20marker_cluster_82ee5835025d4c4c94370490a676d1d6%20%3D%20L.markerClusterGroup%28%0A%20%20%20%20%20%20%20%20%20%20%20%20%20%20%20%20%7B%7D%0A%20%20%20%20%20%20%20%20%20%20%20%20%29%3B%0A%20%20%20%20%20%20%20%20%20%20%20%20map_7d7d7e128b0d4a8db4ef6799e6e6e017.addLayer%28marker_cluster_82ee5835025d4c4c94370490a676d1d6%29%3B%0A%20%20%20%20%20%20%20%20%0A%20%20%20%20%0A%20%20%20%20%20%20%20%20%20%20%20%20var%20circle_2c2f77d62e1a4233a2ca255cdae314ef%20%3D%20L.circle%28%0A%20%20%20%20%20%20%20%20%20%20%20%20%20%20%20%20%5B13.178953%2C%20-5.016175%5D%2C%0A%20%20%20%20%20%20%20%20%20%20%20%20%20%20%20%20%7B%22bubblingMouseEvents%22%3A%20true%2C%20%22color%22%3A%20%22%233388ff%22%2C%20%22dashArray%22%3A%20null%2C%20%22dashOffset%22%3A%20null%2C%20%22fill%22%3A%20false%2C%20%22fillColor%22%3A%20%22%233388ff%22%2C%20%22fillOpacity%22%3A%200.2%2C%20%22fillRule%22%3A%20%22evenodd%22%2C%20%22lineCap%22%3A%20%22round%22%2C%20%22lineJoin%22%3A%20%22round%22%2C%20%22opacity%22%3A%201.0%2C%20%22radius%22%3A%2050%2C%20%22stroke%22%3A%20true%2C%20%22weight%22%3A%203%7D%0A%20%20%20%20%20%20%20%20%20%20%20%20%29.addTo%28marker_cluster_82ee5835025d4c4c94370490a676d1d6%29%3B%0A%20%20%20%20%20%20%20%20%0A%20%20%20%20%0A%20%20%20%20%20%20%20%20%20%20%20%20var%20circle_88148e3f8214446b9220304328126441%20%3D%20L.circle%28%0A%20%20%20%20%20%20%20%20%20%20%20%20%20%20%20%20%5B-14.33333%2C%2028.5%5D%2C%0A%20%20%20%20%20%20%20%20%20%20%20%20%20%20%20%20%7B%22bubblingMouseEvents%22%3A%20true%2C%20%22color%22%3A%20%22%233388ff%22%2C%20%22dashArray%22%3A%20null%2C%20%22dashOffset%22%3A%20null%2C%20%22fill%22%3A%20false%2C%20%22fillColor%22%3A%20%22%233388ff%22%2C%20%22fillOpacity%22%3A%200.2%2C%20%22fillRule%22%3A%20%22evenodd%22%2C%20%22lineCap%22%3A%20%22round%22%2C%20%22lineJoin%22%3A%20%22round%22%2C%20%22opacity%22%3A%201.0%2C%20%22radius%22%3A%2050%2C%20%22stroke%22%3A%20true%2C%20%22weight%22%3A%203%7D%0A%20%20%20%20%20%20%20%20%20%20%20%20%29.addTo%28marker_cluster_82ee5835025d4c4c94370490a676d1d6%29%3B%0A%20%20%20%20%20%20%20%20%0A%20%20%20%20%0A%20%20%20%20%20%20%20%20%20%20%20%20var%20circle_ab4ce63774a643f3bc11cd9838a1cded%20%3D%20L.circle%28%0A%20%20%20%20%20%20%20%20%20%20%20%20%20%20%20%20%5B60.0%2C%20100.0%5D%2C%0A%20%20%20%20%20%20%20%20%20%20%20%20%20%20%20%20%7B%22bubblingMouseEvents%22%3A%20true%2C%20%22color%22%3A%20%22%233388ff%22%2C%20%22dashArray%22%3A%20null%2C%20%22dashOffset%22%3A%20null%2C%20%22fill%22%3A%20false%2C%20%22fillColor%22%3A%20%22%233388ff%22%2C%20%22fillOpacity%22%3A%200.2%2C%20%22fillRule%22%3A%20%22evenodd%22%2C%20%22lineCap%22%3A%20%22round%22%2C%20%22lineJoin%22%3A%20%22round%22%2C%20%22opacity%22%3A%201.0%2C%20%22radius%22%3A%2050%2C%20%22stroke%22%3A%20true%2C%20%22weight%22%3A%203%7D%0A%20%20%20%20%20%20%20%20%20%20%20%20%29.addTo%28marker_cluster_82ee5835025d4c4c94370490a676d1d6%29%3B%0A%20%20%20%20%20%20%20%20%0A%20%20%20%20%0A%20%20%20%20%20%20%20%20%20%20%20%20var%20circle_48828112840d47eba9d4e48d58653452%20%3D%20L.circle%28%0A%20%20%20%20%20%20%20%20%20%20%20%20%20%20%20%20%5B49.0%2C%2032.0%5D%2C%0A%20%20%20%20%20%20%20%20%20%20%20%20%20%20%20%20%7B%22bubblingMouseEvents%22%3A%20true%2C%20%22color%22%3A%20%22%233388ff%22%2C%20%22dashArray%22%3A%20null%2C%20%22dashOffset%22%3A%20null%2C%20%22fill%22%3A%20false%2C%20%22fillColor%22%3A%20%22%233388ff%22%2C%20%22fillOpacity%22%3A%200.2%2C%20%22fillRule%22%3A%20%22evenodd%22%2C%20%22lineCap%22%3A%20%22round%22%2C%20%22lineJoin%22%3A%20%22round%22%2C%20%22opacity%22%3A%201.0%2C%20%22radius%22%3A%2050%2C%20%22stroke%22%3A%20true%2C%20%22weight%22%3A%203%7D%0A%20%20%20%20%20%20%20%20%20%20%20%20%29.addTo%28marker_cluster_82ee5835025d4c4c94370490a676d1d6%29%3B%0A%20%20%20%20%20%20%20%20%0A%20%20%20%20%0A%20%20%20%20%20%20%20%20%20%20%20%20var%20circle_17abfa5334fd4b2cbbea1f34ca2f7733%20%3D%20L.circle%28%0A%20%20%20%20%20%20%20%20%20%20%20%20%20%20%20%20%5B-13.5%2C%2034.0%5D%2C%0A%20%20%20%20%20%20%20%20%20%20%20%20%20%20%20%20%7B%22bubblingMouseEvents%22%3A%20true%2C%20%22color%22%3A%20%22%233388ff%22%2C%20%22dashArray%22%3A%20null%2C%20%22dashOffset%22%3A%20null%2C%20%22fill%22%3A%20false%2C%20%22fillColor%22%3A%20%22%233388ff%22%2C%20%22fillOpacity%22%3A%200.2%2C%20%22fillRule%22%3A%20%22evenodd%22%2C%20%22lineCap%22%3A%20%22round%22%2C%20%22lineJoin%22%3A%20%22round%22%2C%20%22opacity%22%3A%201.0%2C%20%22radius%22%3A%2050%2C%20%22stroke%22%3A%20true%2C%20%22weight%22%3A%203%7D%0A%20%20%20%20%20%20%20%20%20%20%20%20%29.addTo%28marker_cluster_82ee5835025d4c4c94370490a676d1d6%29%3B%0A%20%20%20%20%20%20%20%20%0A%20%20%20%20%0A%20%20%20%20%20%20%20%20%20%20%20%20var%20circle_ff1be8c4f52b46c68eeac4920f6c9375%20%3D%20L.circle%28%0A%20%20%20%20%20%20%20%20%20%20%20%20%20%20%20%20%5B14.666667%2C%20-90.5%5D%2C%0A%20%20%20%20%20%20%20%20%20%20%20%20%20%20%20%20%7B%22bubblingMouseEvents%22%3A%20true%2C%20%22color%22%3A%20%22%233388ff%22%2C%20%22dashArray%22%3A%20null%2C%20%22dashOffset%22%3A%20null%2C%20%22fill%22%3A%20false%2C%20%22fillColor%22%3A%20%22%233388ff%22%2C%20%22fillOpacity%22%3A%200.2%2C%20%22fillRule%22%3A%20%22evenodd%22%2C%20%22lineCap%22%3A%20%22round%22%2C%20%22lineJoin%22%3A%20%22round%22%2C%20%22opacity%22%3A%201.0%2C%20%22radius%22%3A%2050%2C%20%22stroke%22%3A%20true%2C%20%22weight%22%3A%203%7D%0A%20%20%20%20%20%20%20%20%20%20%20%20%29.addTo%28marker_cluster_82ee5835025d4c4c94370490a676d1d6%29%3B%0A%20%20%20%20%20%20%20%20%0A%20%20%20%20%0A%20%20%20%20%20%20%20%20%20%20%20%20var%20circle_a8bd02b49a2b4940af39e27ea44419aa%20%3D%20L.circle%28%0A%20%20%20%20%20%20%20%20%20%20%20%20%20%20%20%20%5B23.0%2C%20-102.0%5D%2C%0A%20%20%20%20%20%20%20%20%20%20%20%20%20%20%20%20%7B%22bubblingMouseEvents%22%3A%20true%2C%20%22color%22%3A%20%22%233388ff%22%2C%20%22dashArray%22%3A%20null%2C%20%22dashOffset%22%3A%20null%2C%20%22fill%22%3A%20false%2C%20%22fillColor%22%3A%20%22%233388ff%22%2C%20%22fillOpacity%22%3A%200.2%2C%20%22fillRule%22%3A%20%22evenodd%22%2C%20%22lineCap%22%3A%20%22round%22%2C%20%22lineJoin%22%3A%20%22round%22%2C%20%22opacity%22%3A%201.0%2C%20%22radius%22%3A%2050%2C%20%22stroke%22%3A%20true%2C%20%22weight%22%3A%203%7D%0A%20%20%20%20%20%20%20%20%20%20%20%20%29.addTo%28marker_cluster_82ee5835025d4c4c94370490a676d1d6%29%3B%0A%20%20%20%20%20%20%20%20%0A%20%20%20%20%0A%20%20%20%20%20%20%20%20%20%20%20%20var%20circle_90af70e7972c41c7b22b6ebb83e5a57d%20%3D%20L.circle%28%0A%20%20%20%20%20%20%20%20%20%20%20%20%20%20%20%20%5B3.593188%2C%20-77.039419%5D%2C%0A%20%20%20%20%20%20%20%20%20%20%20%20%20%20%20%20%7B%22bubblingMouseEvents%22%3A%20true%2C%20%22color%22%3A%20%22%233388ff%22%2C%20%22dashArray%22%3A%20null%2C%20%22dashOffset%22%3A%20null%2C%20%22fill%22%3A%20false%2C%20%22fillColor%22%3A%20%22%233388ff%22%2C%20%22fillOpacity%22%3A%200.2%2C%20%22fillRule%22%3A%20%22evenodd%22%2C%20%22lineCap%22%3A%20%22round%22%2C%20%22lineJoin%22%3A%20%22round%22%2C%20%22opacity%22%3A%201.0%2C%20%22radius%22%3A%2050%2C%20%22stroke%22%3A%20true%2C%20%22weight%22%3A%203%7D%0A%20%20%20%20%20%20%20%20%20%20%20%20%29.addTo%28marker_cluster_82ee5835025d4c4c94370490a676d1d6%29%3B%0A%20%20%20%20%20%20%20%20%0A%20%20%20%20%0A%20%20%20%20%20%20%20%20%20%20%20%20var%20circle_166c8ec855d14389bc29c0cfe8426e2b%20%3D%20L.circle%28%0A%20%20%20%20%20%20%20%20%20%20%20%20%20%20%20%20%5B-3.5%2C%2030.0%5D%2C%0A%20%20%20%20%20%20%20%20%20%20%20%20%20%20%20%20%7B%22bubblingMouseEvents%22%3A%20true%2C%20%22color%22%3A%20%22%233388ff%22%2C%20%22dashArray%22%3A%20null%2C%20%22dashOffset%22%3A%20null%2C%20%22fill%22%3A%20false%2C%20%22fillColor%22%3A%20%22%233388ff%22%2C%20%22fillOpacity%22%3A%200.2%2C%20%22fillRule%22%3A%20%22evenodd%22%2C%20%22lineCap%22%3A%20%22round%22%2C%20%22lineJoin%22%3A%20%22round%22%2C%20%22opacity%22%3A%201.0%2C%20%22radius%22%3A%2050%2C%20%22stroke%22%3A%20true%2C%20%22weight%22%3A%203%7D%0A%20%20%20%20%20%20%20%20%20%20%20%20%29.addTo%28marker_cluster_82ee5835025d4c4c94370490a676d1d6%29%3B%0A%20%20%20%20%20%20%20%20%0A%20%20%20%20%0A%20%20%20%20%20%20%20%20%20%20%20%20var%20circle_4791dbdd989e448d8793e388504c7277%20%3D%20L.circle%28%0A%20%20%20%20%20%20%20%20%20%20%20%20%20%20%20%20%5B-19.0%2C%2029.75%5D%2C%0A%20%20%20%20%20%20%20%20%20%20%20%20%20%20%20%20%7B%22bubblingMouseEvents%22%3A%20true%2C%20%22color%22%3A%20%22%233388ff%22%2C%20%22dashArray%22%3A%20null%2C%20%22dashOffset%22%3A%20null%2C%20%22fill%22%3A%20false%2C%20%22fillColor%22%3A%20%22%233388ff%22%2C%20%22fillOpacity%22%3A%200.2%2C%20%22fillRule%22%3A%20%22evenodd%22%2C%20%22lineCap%22%3A%20%22round%22%2C%20%22lineJoin%22%3A%20%22round%22%2C%20%22opacity%22%3A%201.0%2C%20%22radius%22%3A%2050%2C%20%22stroke%22%3A%20true%2C%20%22weight%22%3A%203%7D%0A%20%20%20%20%20%20%20%20%20%20%20%20%29.addTo%28marker_cluster_82ee5835025d4c4c94370490a676d1d6%29%3B%0A%20%20%20%20%20%20%20%20%0A%20%20%20%20%0A%20%20%20%20%20%20%20%20%20%20%20%20var%20circle_d226f928eb75461e9cd180cbcf56c3fe%20%3D%20L.circle%28%0A%20%20%20%20%20%20%20%20%20%20%20%20%20%20%20%20%5B15.0%2C%20-86.5%5D%2C%0A%20%20%20%20%20%20%20%20%20%20%20%20%20%20%20%20%7B%22bubblingMouseEvents%22%3A%20true%2C%20%22color%22%3A%20%22%233388ff%22%2C%20%22dashArray%22%3A%20null%2C%20%22dashOffset%22%3A%20null%2C%20%22fill%22%3A%20false%2C%20%22fillColor%22%3A%20%22%233388ff%22%2C%20%22fillOpacity%22%3A%200.2%2C%20%22fillRule%22%3A%20%22evenodd%22%2C%20%22lineCap%22%3A%20%22round%22%2C%20%22lineJoin%22%3A%20%22round%22%2C%20%22opacity%22%3A%201.0%2C%20%22radius%22%3A%2050%2C%20%22stroke%22%3A%20true%2C%20%22weight%22%3A%203%7D%0A%20%20%20%20%20%20%20%20%20%20%20%20%29.addTo%28marker_cluster_82ee5835025d4c4c94370490a676d1d6%29%3B%0A%20%20%20%20%20%20%20%20%0A%20%20%20%20%0A%20%20%20%20%20%20%20%20%20%20%20%20var%20heat_map_3aca937f7c9848e9a616dd79e6f5630c%20%3D%20L.heatLayer%28%0A%20%20%20%20%20%20%20%20%20%20%20%20%20%20%20%20%5B%5B13.178953%2C%20-5.016175%5D%2C%20%5B-14.33333%2C%2028.5%5D%2C%20%5B60.0%2C%20100.0%5D%2C%20%5B49.0%2C%2032.0%5D%2C%20%5B-13.5%2C%2034.0%5D%2C%20%5B14.666667%2C%20-90.5%5D%2C%20%5B23.0%2C%20-102.0%5D%2C%20%5B3.593188%2C%20-77.039419%5D%2C%20%5B-3.5%2C%2030.0%5D%2C%20%5B-19.0%2C%2029.75%5D%2C%20%5B15.0%2C%20-86.5%5D%5D%2C%0A%20%20%20%20%20%20%20%20%20%20%20%20%20%20%20%20%7B%22blur%22%3A%2015%2C%20%22maxZoom%22%3A%2018%2C%20%22minOpacity%22%3A%200.3%2C%20%22radius%22%3A%2025%7D%0A%20%20%20%20%20%20%20%20%20%20%20%20%29.addTo%28map_7d7d7e128b0d4a8db4ef6799e6e6e017%29%3B%0A%20%20%20%20%20%20%20%20%0A%20%20%20%20%0A%20%20%20%20%20%20%20%20%20%20%20%20var%20heat_map_e3427d35f104456cb01797c4fbc89b14%20%3D%20L.heatLayer%28%0A%20%20%20%20%20%20%20%20%20%20%20%20%20%20%20%20%5B%5B13.178953%2C%20-5.016175%5D%2C%20%5B13.178953%2C%20-5.016175%5D%2C%20%5B-14.33333%2C%2028.5%5D%2C%20%5B60.0%2C%20100.0%5D%2C%20%5B49.0%2C%2032.0%5D%2C%20%5B49.0%2C%2032.0%5D%2C%20%5B-13.5%2C%2034.0%5D%2C%20%5B14.666667%2C%20-90.5%5D%2C%20%5B23.0%2C%20-102.0%5D%2C%20%5B23.0%2C%20-102.0%5D%2C%20%5B3.593188%2C%20-77.039419%5D%2C%20%5B-3.5%2C%2030.0%5D%2C%20%5B-19.0%2C%2029.75%5D%2C%20%5B15.0%2C%20-86.5%5D%2C%20%5B15.0%2C%20-86.5%5D%5D%2C%0A%20%20%20%20%20%20%20%20%20%20%20%20%20%20%20%20%7B%22blur%22%3A%2015%2C%20%22maxZoom%22%3A%2018%2C%20%22minOpacity%22%3A%200.3%2C%20%22radius%22%3A%2025%7D%0A%20%20%20%20%20%20%20%20%20%20%20%20%29.addTo%28map_7d7d7e128b0d4a8db4ef6799e6e6e017%29%3B%0A%20%20%20%20%20%20%20%20%0A%20%20%20%20%0A%20%20%20%20%20%20%20%20%20%20%20%20var%20layer_control_a3a09f7e26574c4c9e0d4caea2167f5d%20%3D%20%7B%0A%20%20%20%20%20%20%20%20%20%20%20%20%20%20%20%20base_layers%20%3A%20%7B%0A%20%20%20%20%20%20%20%20%20%20%20%20%20%20%20%20%20%20%20%20%22Dark%22%20%3A%20tile_layer_170eb43410fe48f39d6dbc995379bc5f%2C%0A%20%20%20%20%20%20%20%20%20%20%20%20%20%20%20%20%20%20%20%20%22Watercolor%22%20%3A%20tile_layer_c738efc228f1491485d710d207cfcd31%2C%0A%20%20%20%20%20%20%20%20%20%20%20%20%20%20%20%20%7D%2C%0A%20%20%20%20%20%20%20%20%20%20%20%20%20%20%20%20overlays%20%3A%20%20%7B%0A%20%20%20%20%20%20%20%20%20%20%20%20%20%20%20%20%20%20%20%20%22Points%22%20%3A%20feature_group_7e480bc8e013454b953dc046fa3be563%2C%0A%20%20%20%20%20%20%20%20%20%20%20%20%20%20%20%20%20%20%20%20%22Cluster%22%20%3A%20marker_cluster_82ee5835025d4c4c94370490a676d1d6%2C%0A%20%20%20%20%20%20%20%20%20%20%20%20%20%20%20%20%20%20%20%20%22HeatMap%22%20%3A%20heat_map_3aca937f7c9848e9a616dd79e6f5630c%2C%0A%20%20%20%20%20%20%20%20%20%20%20%20%20%20%20%20%20%20%20%20%22HeatMap_multiple%22%20%3A%20heat_map_e3427d35f104456cb01797c4fbc89b14%2C%0A%20%20%20%20%20%20%20%20%20%20%20%20%20%20%20%20%7D%2C%0A%20%20%20%20%20%20%20%20%20%20%20%20%7D%3B%0A%20%20%20%20%20%20%20%20%20%20%20%20L.control.layers%28%0A%20%20%20%20%20%20%20%20%20%20%20%20%20%20%20%20layer_control_a3a09f7e26574c4c9e0d4caea2167f5d.base_layers%2C%0A%20%20%20%20%20%20%20%20%20%20%20%20%20%20%20%20layer_control_a3a09f7e26574c4c9e0d4caea2167f5d.overlays%2C%0A%20%20%20%20%20%20%20%20%20%20%20%20%20%20%20%20%7B%22autoZIndex%22%3A%20true%2C%20%22collapsed%22%3A%20false%2C%20%22position%22%3A%20%22topright%22%7D%0A%20%20%20%20%20%20%20%20%20%20%20%20%29.addTo%28map_7d7d7e128b0d4a8db4ef6799e6e6e017%29%3B%0A%20%20%20%20%20%20%20%20%20%20%20%20tile_layer_c738efc228f1491485d710d207cfcd31.remove%28%29%3B%0A%20%20%20%20%20%20%20%20%20%20%20%20marker_cluster_82ee5835025d4c4c94370490a676d1d6.remove%28%29%3B%0A%20%20%20%20%20%20%20%20%20%20%20%20heat_map_3aca937f7c9848e9a616dd79e6f5630c.remove%28%29%3B%0A%20%20%20%20%20%20%20%20%20%20%20%20heat_map_e3427d35f104456cb01797c4fbc89b14.remove%28%29%3B%0A%20%20%20%20%20%20%20%20%0A%3C/script%3E onload=\"this.contentDocument.open();this.contentDocument.write(    decodeURIComponent(this.getAttribute('data-html')));this.contentDocument.close();\" allowfullscreen webkitallowfullscreen mozallowfullscreen></iframe></div></div>"
      ],
      "text/plain": [
       "<folium.folium.Map at 0x290675190>"
      ]
     },
     "execution_count": 9,
     "metadata": {},
     "output_type": "execute_result"
    }
   ],
   "source": [
    "# create map\n",
    "heatMap = folium.Figure(width='75%')\n",
    "heatMap = folium.Map(\n",
    "    location=[15, 30],\n",
    "    zoom_start=2,\n",
    "    max_bounds=True,\n",
    "    tiles=None).add_to(heatMap)\n",
    "\n",
    "# add tiles\n",
    "folium.TileLayer(tiles='Cartodb dark_matter', name=\"Dark\").add_to(heatMap)\n",
    "folium.TileLayer(tiles='stamen watercolor', name=\"Watercolor\").add_to(heatMap)\n",
    "\n",
    "# add points and markercluster\n",
    "points = folium.FeatureGroup(name=\"Points\", show=True).add_to(heatMap)\n",
    "cluster = plugins.MarkerCluster(name=\"Cluster\", show=False).add_to(heatMap)\n",
    "\n",
    "for place, attributes in d.items():\n",
    "\n",
    "    coordinates = (attributes['lat'], attributes['lon'])\n",
    "\n",
    "    html = f'''\n",
    "\n",
    "    <strong>Name:</strong> &emsp;&emsp;&emsp;&emsp;&emsp;{attributes['name']}<br/>\n",
    "    <strong>Stemmed Name:</strong>&emsp;{place}<br/>\n",
    "    <strong>Count:</strong>&emsp;&emsp;&emsp;&emsp;&emsp;{attributes['count']}\n",
    "    \n",
    "    '''\n",
    "\n",
    "    iframe = folium.IFrame(\n",
    "        html,\n",
    "        width=300,\n",
    "        height=70)\n",
    "\n",
    "    popup = folium.Popup(iframe)\n",
    "\n",
    "    folium.Circle(coordinates).add_to(cluster)\n",
    "    folium.Circle(\n",
    "        location=coordinates,\n",
    "        popup=popup,\n",
    "        tooltip=attributes['name'],\n",
    "        radius=attributes['count'] * 50000,\n",
    "        fill=True,\n",
    "        color=colordic[attributes['count']]\n",
    "    ).add_to(points)\n",
    "\n",
    "# extract coordinate of geodataframe\n",
    "coordinates = [[point.xy[1][0], point.xy[0][0]] for point in geo.geometry]\n",
    "\n",
    "# add heatmap\n",
    "plugins.HeatMap(\n",
    "    name='HeatMap',\n",
    "    data=coordinates,\n",
    "    min_opacity=0.3,\n",
    "    show=False\n",
    ").add_to(heatMap)\n",
    "\n",
    "\n",
    "new = []\n",
    "for place in geo.iterrows():\n",
    "    for i in range(place[1]['count']):\n",
    "        new.append(place[1])\n",
    "\n",
    "geo_multiple = pd.DataFrame(new)\n",
    "\n",
    "geo_multiple = gpd.GeoDataFrame(\n",
    "    geo_multiple,\n",
    "    geometry=gpd.points_from_xy(geo_multiple.lon, geo_multiple.lat),\n",
    "    crs=4326\n",
    ")\n",
    "\n",
    "# extract coordinate of geodataframe\n",
    "coordinates = [[point.xy[1][0], point.xy[0][0]]\n",
    "               for point in geo_multiple.geometry]\n",
    "\n",
    "# add heatmap\n",
    "plugins.HeatMap(\n",
    "    name='HeatMap_multiple',\n",
    "    data=coordinates,\n",
    "    min_opacity=0.3,\n",
    "    show=False\n",
    ").add_to(heatMap)\n",
    "\n",
    "# add layercontrol\n",
    "folium.LayerControl(collapsed=False).add_to(heatMap)\n",
    "\n",
    "\n",
    "heatMap"
   ]
  },
  {
   "cell_type": "code",
   "execution_count": 10,
   "id": "8bb8ee60",
   "metadata": {},
   "outputs": [
    {
     "data": {
      "text/html": [
       "<div style=\"width:35%;\"><div style=\"position:relative;width:100%;height:0;padding-bottom:60%;\"><span style=\"color:#565656\">Make this Notebook Trusted to load map: File -> Trust Notebook</span><iframe src=\"about:blank\" style=\"position:absolute;width:100%;height:100%;left:0;top:0;border:none !important;\" data-html=%3C%21DOCTYPE%20html%3E%0A%3Chead%3E%20%20%20%20%0A%20%20%20%20%3Cmeta%20http-equiv%3D%22content-type%22%20content%3D%22text/html%3B%20charset%3DUTF-8%22%20/%3E%0A%20%20%20%20%0A%20%20%20%20%20%20%20%20%3Cscript%3E%0A%20%20%20%20%20%20%20%20%20%20%20%20L_NO_TOUCH%20%3D%20false%3B%0A%20%20%20%20%20%20%20%20%20%20%20%20L_DISABLE_3D%20%3D%20false%3B%0A%20%20%20%20%20%20%20%20%3C/script%3E%0A%20%20%20%20%0A%20%20%20%20%3Cstyle%3Ehtml%2C%20body%20%7Bwidth%3A%20100%25%3Bheight%3A%20100%25%3Bmargin%3A%200%3Bpadding%3A%200%3B%7D%3C/style%3E%0A%20%20%20%20%3Cstyle%3E%23map%20%7Bposition%3Aabsolute%3Btop%3A0%3Bbottom%3A0%3Bright%3A0%3Bleft%3A0%3B%7D%3C/style%3E%0A%20%20%20%20%3Cscript%20src%3D%22https%3A//cdn.jsdelivr.net/npm/leaflet%401.6.0/dist/leaflet.js%22%3E%3C/script%3E%0A%20%20%20%20%3Cscript%20src%3D%22https%3A//code.jquery.com/jquery-1.12.4.min.js%22%3E%3C/script%3E%0A%20%20%20%20%3Cscript%20src%3D%22https%3A//maxcdn.bootstrapcdn.com/bootstrap/3.2.0/js/bootstrap.min.js%22%3E%3C/script%3E%0A%20%20%20%20%3Cscript%20src%3D%22https%3A//cdnjs.cloudflare.com/ajax/libs/Leaflet.awesome-markers/2.0.2/leaflet.awesome-markers.js%22%3E%3C/script%3E%0A%20%20%20%20%3Clink%20rel%3D%22stylesheet%22%20href%3D%22https%3A//cdn.jsdelivr.net/npm/leaflet%401.6.0/dist/leaflet.css%22/%3E%0A%20%20%20%20%3Clink%20rel%3D%22stylesheet%22%20href%3D%22https%3A//maxcdn.bootstrapcdn.com/bootstrap/3.2.0/css/bootstrap.min.css%22/%3E%0A%20%20%20%20%3Clink%20rel%3D%22stylesheet%22%20href%3D%22https%3A//maxcdn.bootstrapcdn.com/bootstrap/3.2.0/css/bootstrap-theme.min.css%22/%3E%0A%20%20%20%20%3Clink%20rel%3D%22stylesheet%22%20href%3D%22https%3A//maxcdn.bootstrapcdn.com/font-awesome/4.6.3/css/font-awesome.min.css%22/%3E%0A%20%20%20%20%3Clink%20rel%3D%22stylesheet%22%20href%3D%22https%3A//cdnjs.cloudflare.com/ajax/libs/Leaflet.awesome-markers/2.0.2/leaflet.awesome-markers.css%22/%3E%0A%20%20%20%20%3Clink%20rel%3D%22stylesheet%22%20href%3D%22https%3A//cdn.jsdelivr.net/gh/python-visualization/folium/folium/templates/leaflet.awesome.rotate.min.css%22/%3E%0A%20%20%20%20%0A%20%20%20%20%20%20%20%20%20%20%20%20%3Cmeta%20name%3D%22viewport%22%20content%3D%22width%3Ddevice-width%2C%0A%20%20%20%20%20%20%20%20%20%20%20%20%20%20%20%20initial-scale%3D1.0%2C%20maximum-scale%3D1.0%2C%20user-scalable%3Dno%22%20/%3E%0A%20%20%20%20%20%20%20%20%20%20%20%20%3Cstyle%3E%0A%20%20%20%20%20%20%20%20%20%20%20%20%20%20%20%20%23map_24e50afc589f477dbd03ed564c4cdaa1%20%7B%0A%20%20%20%20%20%20%20%20%20%20%20%20%20%20%20%20%20%20%20%20position%3A%20relative%3B%0A%20%20%20%20%20%20%20%20%20%20%20%20%20%20%20%20%20%20%20%20width%3A%20100.0%25%3B%0A%20%20%20%20%20%20%20%20%20%20%20%20%20%20%20%20%20%20%20%20height%3A%20100.0%25%3B%0A%20%20%20%20%20%20%20%20%20%20%20%20%20%20%20%20%20%20%20%20left%3A%200.0%25%3B%0A%20%20%20%20%20%20%20%20%20%20%20%20%20%20%20%20%20%20%20%20top%3A%200.0%25%3B%0A%20%20%20%20%20%20%20%20%20%20%20%20%20%20%20%20%7D%0A%20%20%20%20%20%20%20%20%20%20%20%20%3C/style%3E%0A%20%20%20%20%20%20%20%20%0A%20%20%20%20%0A%20%20%20%20%20%20%20%20%20%20%20%20%20%20%20%20%20%20%20%20%3Cstyle%3E%0A%20%20%20%20%20%20%20%20%20%20%20%20%20%20%20%20%20%20%20%20%20%20%20%20.foliumtooltip%20%7B%0A%20%20%20%20%20%20%20%20%20%20%20%20%20%20%20%20%20%20%20%20%20%20%20%20%20%20%20%20%0A%20%20%20%20%20%20%20%20%20%20%20%20%20%20%20%20%20%20%20%20%20%20%20%20%7D%0A%20%20%20%20%20%20%20%20%20%20%20%20%20%20%20%20%20%20%20%20%20%20%20.foliumtooltip%20table%7B%0A%20%20%20%20%20%20%20%20%20%20%20%20%20%20%20%20%20%20%20%20%20%20%20%20%20%20%20%20margin%3A%20auto%3B%0A%20%20%20%20%20%20%20%20%20%20%20%20%20%20%20%20%20%20%20%20%20%20%20%20%7D%0A%20%20%20%20%20%20%20%20%20%20%20%20%20%20%20%20%20%20%20%20%20%20%20%20.foliumtooltip%20tr%7B%0A%20%20%20%20%20%20%20%20%20%20%20%20%20%20%20%20%20%20%20%20%20%20%20%20%20%20%20%20text-align%3A%20left%3B%0A%20%20%20%20%20%20%20%20%20%20%20%20%20%20%20%20%20%20%20%20%20%20%20%20%7D%0A%20%20%20%20%20%20%20%20%20%20%20%20%20%20%20%20%20%20%20%20%20%20%20%20.foliumtooltip%20th%7B%0A%20%20%20%20%20%20%20%20%20%20%20%20%20%20%20%20%20%20%20%20%20%20%20%20%20%20%20%20padding%3A%202px%3B%20padding-right%3A%208px%3B%0A%20%20%20%20%20%20%20%20%20%20%20%20%20%20%20%20%20%20%20%20%20%20%20%20%7D%0A%20%20%20%20%20%20%20%20%20%20%20%20%20%20%20%20%20%20%20%20%3C/style%3E%0A%20%20%20%20%20%20%20%20%20%20%20%20%0A%3C/head%3E%0A%3Cbody%3E%20%20%20%20%0A%20%20%20%20%0A%20%20%20%20%20%20%20%20%20%20%20%20%3Cdiv%20class%3D%22folium-map%22%20id%3D%22map_24e50afc589f477dbd03ed564c4cdaa1%22%20%3E%3C/div%3E%0A%20%20%20%20%20%20%20%20%0A%3C/body%3E%0A%3Cscript%3E%20%20%20%20%0A%20%20%20%20%0A%20%20%20%20%20%20%20%20%20%20%20%20var%20map_24e50afc589f477dbd03ed564c4cdaa1%20%3D%20L.map%28%0A%20%20%20%20%20%20%20%20%20%20%20%20%20%20%20%20%22map_24e50afc589f477dbd03ed564c4cdaa1%22%2C%0A%20%20%20%20%20%20%20%20%20%20%20%20%20%20%20%20%7B%0A%20%20%20%20%20%20%20%20%20%20%20%20%20%20%20%20%20%20%20%20center%3A%20%5B20.5%2C%20-1.0%5D%2C%0A%20%20%20%20%20%20%20%20%20%20%20%20%20%20%20%20%20%20%20%20crs%3A%20L.CRS.EPSG3857%2C%0A%20%20%20%20%20%20%20%20%20%20%20%20%20%20%20%20%20%20%20%20maxBounds%3A%20%5B%5B-90%2C%20-180%5D%2C%20%5B90%2C%20180%5D%5D%2C%0A%20%20%20%20%20%20%20%20%20%20%20%20%20%20%20%20%20%20%20%20zoom%3A%2010%2C%0A%20%20%20%20%20%20%20%20%20%20%20%20%20%20%20%20%20%20%20%20zoomControl%3A%20true%2C%0A%20%20%20%20%20%20%20%20%20%20%20%20%20%20%20%20%20%20%20%20preferCanvas%3A%20false%2C%0A%20%20%20%20%20%20%20%20%20%20%20%20%20%20%20%20%7D%0A%20%20%20%20%20%20%20%20%20%20%20%20%29%3B%0A%20%20%20%20%20%20%20%20%20%20%20%20L.control.scale%28%29.addTo%28map_24e50afc589f477dbd03ed564c4cdaa1%29%3B%0A%0A%20%20%20%20%20%20%20%20%20%20%20%20%0A%0A%20%20%20%20%20%20%20%20%0A%20%20%20%20%0A%20%20%20%20%20%20%20%20%20%20%20%20var%20tile_layer_387f0de5f3224a84988ef1670b0ecf28%20%3D%20L.tileLayer%28%0A%20%20%20%20%20%20%20%20%20%20%20%20%20%20%20%20%22https%3A//%7Bs%7D.tile.openstreetmap.org/%7Bz%7D/%7Bx%7D/%7By%7D.png%22%2C%0A%20%20%20%20%20%20%20%20%20%20%20%20%20%20%20%20%7B%22attribution%22%3A%20%22Data%20by%20%5Cu0026copy%3B%20%5Cu003ca%20href%3D%5C%22http%3A//openstreetmap.org%5C%22%5Cu003eOpenStreetMap%5Cu003c/a%5Cu003e%2C%20under%20%5Cu003ca%20href%3D%5C%22http%3A//www.openstreetmap.org/copyright%5C%22%5Cu003eODbL%5Cu003c/a%5Cu003e.%22%2C%20%22detectRetina%22%3A%20false%2C%20%22maxNativeZoom%22%3A%2018%2C%20%22maxZoom%22%3A%2018%2C%20%22minZoom%22%3A%200%2C%20%22noWrap%22%3A%20false%2C%20%22opacity%22%3A%201%2C%20%22subdomains%22%3A%20%22abc%22%2C%20%22tms%22%3A%20false%7D%0A%20%20%20%20%20%20%20%20%20%20%20%20%29.addTo%28map_24e50afc589f477dbd03ed564c4cdaa1%29%3B%0A%20%20%20%20%20%20%20%20%0A%20%20%20%20%0A%20%20%20%20%20%20%20%20%20%20%20%20map_24e50afc589f477dbd03ed564c4cdaa1.fitBounds%28%0A%20%20%20%20%20%20%20%20%20%20%20%20%20%20%20%20%5B%5B-19.0%2C%20-102.0%5D%2C%20%5B60.0%2C%20100.0%5D%5D%2C%0A%20%20%20%20%20%20%20%20%20%20%20%20%20%20%20%20%7B%7D%0A%20%20%20%20%20%20%20%20%20%20%20%20%29%3B%0A%20%20%20%20%20%20%20%20%0A%20%20%20%20%0A%20%20%20%20%20%20%20%20function%20geo_json_d38619e13c9d4c798872b5ecbf3dd6f6_styler%28feature%29%20%7B%0A%20%20%20%20%20%20%20%20%20%20%20%20switch%28feature.id%29%20%7B%0A%20%20%20%20%20%20%20%20%20%20%20%20%20%20%20%20case%20%220%22%3A%20case%20%223%22%3A%20case%20%226%22%3A%20case%20%2210%22%3A%20%0A%20%20%20%20%20%20%20%20%20%20%20%20%20%20%20%20%20%20%20%20return%20%7B%22color%22%3A%20%22%233b528b%22%2C%20%22fillColor%22%3A%20%22%233b528b%22%2C%20%22fillOpacity%22%3A%200.5%2C%20%22weight%22%3A%202%7D%3B%0A%20%20%20%20%20%20%20%20%20%20%20%20%20%20%20%20default%3A%0A%20%20%20%20%20%20%20%20%20%20%20%20%20%20%20%20%20%20%20%20return%20%7B%22color%22%3A%20%22%23440154%22%2C%20%22fillColor%22%3A%20%22%23440154%22%2C%20%22fillOpacity%22%3A%200.5%2C%20%22weight%22%3A%202%7D%3B%0A%20%20%20%20%20%20%20%20%20%20%20%20%7D%0A%20%20%20%20%20%20%20%20%7D%0A%20%20%20%20%20%20%20%20function%20geo_json_d38619e13c9d4c798872b5ecbf3dd6f6_highlighter%28feature%29%20%7B%0A%20%20%20%20%20%20%20%20%20%20%20%20switch%28feature.id%29%20%7B%0A%20%20%20%20%20%20%20%20%20%20%20%20%20%20%20%20default%3A%0A%20%20%20%20%20%20%20%20%20%20%20%20%20%20%20%20%20%20%20%20return%20%7B%22fillOpacity%22%3A%200.75%7D%3B%0A%20%20%20%20%20%20%20%20%20%20%20%20%7D%0A%20%20%20%20%20%20%20%20%7D%0A%20%20%20%20%20%20%20%20function%20geo_json_d38619e13c9d4c798872b5ecbf3dd6f6_pointToLayer%28feature%2C%20latlng%29%20%7B%0A%20%20%20%20%20%20%20%20%20%20%20%20var%20opts%20%3D%20%7B%22bubblingMouseEvents%22%3A%20true%2C%20%22color%22%3A%20%22%233388ff%22%2C%20%22dashArray%22%3A%20null%2C%20%22dashOffset%22%3A%20null%2C%20%22fill%22%3A%20true%2C%20%22fillColor%22%3A%20%22%233388ff%22%2C%20%22fillOpacity%22%3A%200.2%2C%20%22fillRule%22%3A%20%22evenodd%22%2C%20%22lineCap%22%3A%20%22round%22%2C%20%22lineJoin%22%3A%20%22round%22%2C%20%22opacity%22%3A%201.0%2C%20%22radius%22%3A%2050000%2C%20%22stroke%22%3A%20true%2C%20%22weight%22%3A%203%7D%3B%0A%20%20%20%20%20%20%20%20%20%20%20%20%0A%20%20%20%20%20%20%20%20%20%20%20%20let%20style%20%3D%20geo_json_d38619e13c9d4c798872b5ecbf3dd6f6_styler%28feature%29%0A%20%20%20%20%20%20%20%20%20%20%20%20Object.assign%28opts%2C%20style%29%0A%20%20%20%20%20%20%20%20%20%20%20%20%0A%20%20%20%20%20%20%20%20%20%20%20%20return%20new%20L.circle%28latlng%2C%20opts%29%0A%20%20%20%20%20%20%20%20%7D%0A%0A%20%20%20%20%20%20%20%20function%20geo_json_d38619e13c9d4c798872b5ecbf3dd6f6_onEachFeature%28feature%2C%20layer%29%20%7B%0A%20%20%20%20%20%20%20%20%20%20%20%20layer.on%28%7B%0A%20%20%20%20%20%20%20%20%20%20%20%20%20%20%20%20mouseout%3A%20function%28e%29%20%7B%0A%20%20%20%20%20%20%20%20%20%20%20%20%20%20%20%20%20%20%20%20if%28typeof%20e.target.setStyle%20%3D%3D%3D%20%22function%22%29%7B%0A%20%20%20%20%20%20%20%20%20%20%20%20%20%20%20%20%20%20%20%20%20%20%20%20geo_json_d38619e13c9d4c798872b5ecbf3dd6f6.resetStyle%28e.target%29%3B%0A%20%20%20%20%20%20%20%20%20%20%20%20%20%20%20%20%20%20%20%20%7D%0A%20%20%20%20%20%20%20%20%20%20%20%20%20%20%20%20%7D%2C%0A%20%20%20%20%20%20%20%20%20%20%20%20%20%20%20%20mouseover%3A%20function%28e%29%20%7B%0A%20%20%20%20%20%20%20%20%20%20%20%20%20%20%20%20%20%20%20%20if%28typeof%20e.target.setStyle%20%3D%3D%3D%20%22function%22%29%7B%0A%20%20%20%20%20%20%20%20%20%20%20%20%20%20%20%20%20%20%20%20%20%20%20%20const%20highlightStyle%20%3D%20geo_json_d38619e13c9d4c798872b5ecbf3dd6f6_highlighter%28e.target.feature%29%0A%20%20%20%20%20%20%20%20%20%20%20%20%20%20%20%20%20%20%20%20%20%20%20%20e.target.setStyle%28highlightStyle%29%3B%0A%20%20%20%20%20%20%20%20%20%20%20%20%20%20%20%20%20%20%20%20%7D%0A%20%20%20%20%20%20%20%20%20%20%20%20%20%20%20%20%7D%2C%0A%20%20%20%20%20%20%20%20%20%20%20%20%7D%29%3B%0A%20%20%20%20%20%20%20%20%7D%3B%0A%20%20%20%20%20%20%20%20var%20geo_json_d38619e13c9d4c798872b5ecbf3dd6f6%20%3D%20L.geoJson%28null%2C%20%7B%0A%20%20%20%20%20%20%20%20%20%20%20%20%20%20%20%20onEachFeature%3A%20geo_json_d38619e13c9d4c798872b5ecbf3dd6f6_onEachFeature%2C%0A%20%20%20%20%20%20%20%20%20%20%20%20%0A%20%20%20%20%20%20%20%20%20%20%20%20%20%20%20%20style%3A%20geo_json_d38619e13c9d4c798872b5ecbf3dd6f6_styler%2C%0A%20%20%20%20%20%20%20%20%20%20%20%20%20%20%20%20pointToLayer%3A%20geo_json_d38619e13c9d4c798872b5ecbf3dd6f6_pointToLayer%0A%20%20%20%20%20%20%20%20%7D%29%3B%0A%0A%20%20%20%20%20%20%20%20function%20geo_json_d38619e13c9d4c798872b5ecbf3dd6f6_add%20%28data%29%20%7B%0A%20%20%20%20%20%20%20%20%20%20%20%20geo_json_d38619e13c9d4c798872b5ecbf3dd6f6%0A%20%20%20%20%20%20%20%20%20%20%20%20%20%20%20%20.addData%28data%29%0A%20%20%20%20%20%20%20%20%20%20%20%20%20%20%20%20.addTo%28map_24e50afc589f477dbd03ed564c4cdaa1%29%3B%0A%20%20%20%20%20%20%20%20%7D%0A%20%20%20%20%20%20%20%20%20%20%20%20geo_json_d38619e13c9d4c798872b5ecbf3dd6f6_add%28%7B%22bbox%22%3A%20%5B-102.0%2C%20-19.0%2C%20100.0%2C%2060.0%5D%2C%20%22features%22%3A%20%5B%7B%22bbox%22%3A%20%5B-5.016175%2C%2013.178953%2C%20-5.016175%2C%2013.178953%5D%2C%20%22geometry%22%3A%20%7B%22coordinates%22%3A%20%5B-5.016175%2C%2013.178953%5D%2C%20%22type%22%3A%20%22Point%22%7D%2C%20%22id%22%3A%20%220%22%2C%20%22properties%22%3A%20%7B%22__folium_color%22%3A%20%22%233b528b%22%2C%20%22count%22%3A%202%2C%20%22lat%22%3A%2013.178953%2C%20%22lon%22%3A%20-5.016175%2C%20%22name%22%3A%20%22San%22%2C%20%22stemname%22%3A%20%22SAN%22%7D%2C%20%22type%22%3A%20%22Feature%22%7D%2C%20%7B%22bbox%22%3A%20%5B28.5%2C%20-14.33333%2C%2028.5%2C%20-14.33333%5D%2C%20%22geometry%22%3A%20%7B%22coordinates%22%3A%20%5B28.5%2C%20-14.33333%5D%2C%20%22type%22%3A%20%22Point%22%7D%2C%20%22id%22%3A%20%221%22%2C%20%22properties%22%3A%20%7B%22__folium_color%22%3A%20%22%23440154%22%2C%20%22count%22%3A%201%2C%20%22lat%22%3A%20-14.33333%2C%20%22lon%22%3A%2028.5%2C%20%22name%22%3A%20%22Zambia%22%2C%20%22stemname%22%3A%20%22ZAMBIA%22%7D%2C%20%22type%22%3A%20%22Feature%22%7D%2C%20%7B%22bbox%22%3A%20%5B100.0%2C%2060.0%2C%20100.0%2C%2060.0%5D%2C%20%22geometry%22%3A%20%7B%22coordinates%22%3A%20%5B100.0%2C%2060.0%5D%2C%20%22type%22%3A%20%22Point%22%7D%2C%20%22id%22%3A%20%222%22%2C%20%22properties%22%3A%20%7B%22__folium_color%22%3A%20%22%23440154%22%2C%20%22count%22%3A%201%2C%20%22lat%22%3A%2060.0%2C%20%22lon%22%3A%20100.0%2C%20%22name%22%3A%20%22Russia%22%2C%20%22stemname%22%3A%20%22RUSSIA%22%7D%2C%20%22type%22%3A%20%22Feature%22%7D%2C%20%7B%22bbox%22%3A%20%5B32.0%2C%2049.0%2C%2032.0%2C%2049.0%5D%2C%20%22geometry%22%3A%20%7B%22coordinates%22%3A%20%5B32.0%2C%2049.0%5D%2C%20%22type%22%3A%20%22Point%22%7D%2C%20%22id%22%3A%20%223%22%2C%20%22properties%22%3A%20%7B%22__folium_color%22%3A%20%22%233b528b%22%2C%20%22count%22%3A%202%2C%20%22lat%22%3A%2049.0%2C%20%22lon%22%3A%2032.0%2C%20%22name%22%3A%20%22Ukraine%22%2C%20%22stemname%22%3A%20%22UKRAINE%22%7D%2C%20%22type%22%3A%20%22Feature%22%7D%2C%20%7B%22bbox%22%3A%20%5B34.0%2C%20-13.5%2C%2034.0%2C%20-13.5%5D%2C%20%22geometry%22%3A%20%7B%22coordinates%22%3A%20%5B34.0%2C%20-13.5%5D%2C%20%22type%22%3A%20%22Point%22%7D%2C%20%22id%22%3A%20%224%22%2C%20%22properties%22%3A%20%7B%22__folium_color%22%3A%20%22%23440154%22%2C%20%22count%22%3A%201%2C%20%22lat%22%3A%20-13.5%2C%20%22lon%22%3A%2034.0%2C%20%22name%22%3A%20%22Malawi%22%2C%20%22stemname%22%3A%20%22MALAWI%22%7D%2C%20%22type%22%3A%20%22Feature%22%7D%2C%20%7B%22bbox%22%3A%20%5B-90.5%2C%2014.666667%2C%20-90.5%2C%2014.666667%5D%2C%20%22geometry%22%3A%20%7B%22coordinates%22%3A%20%5B-90.5%2C%2014.666667%5D%2C%20%22type%22%3A%20%22Point%22%7D%2C%20%22id%22%3A%20%225%22%2C%20%22properties%22%3A%20%7B%22__folium_color%22%3A%20%22%23440154%22%2C%20%22count%22%3A%201%2C%20%22lat%22%3A%2014.666667%2C%20%22lon%22%3A%20-90.5%2C%20%22name%22%3A%20%22Guatemala%22%2C%20%22stemname%22%3A%20%22GUATEMALA%22%7D%2C%20%22type%22%3A%20%22Feature%22%7D%2C%20%7B%22bbox%22%3A%20%5B-102.0%2C%2023.0%2C%20-102.0%2C%2023.0%5D%2C%20%22geometry%22%3A%20%7B%22coordinates%22%3A%20%5B-102.0%2C%2023.0%5D%2C%20%22type%22%3A%20%22Point%22%7D%2C%20%22id%22%3A%20%226%22%2C%20%22properties%22%3A%20%7B%22__folium_color%22%3A%20%22%233b528b%22%2C%20%22count%22%3A%202%2C%20%22lat%22%3A%2023.0%2C%20%22lon%22%3A%20-102.0%2C%20%22name%22%3A%20%22Mexico%22%2C%20%22stemname%22%3A%20%22MEXICO%22%7D%2C%20%22type%22%3A%20%22Feature%22%7D%2C%20%7B%22bbox%22%3A%20%5B-77.039419%2C%203.593188%2C%20-77.039419%2C%203.593188%5D%2C%20%22geometry%22%3A%20%7B%22coordinates%22%3A%20%5B-77.039419%2C%203.593188%5D%2C%20%22type%22%3A%20%22Point%22%7D%2C%20%22id%22%3A%20%227%22%2C%20%22properties%22%3A%20%7B%22__folium_color%22%3A%20%22%23440154%22%2C%20%22count%22%3A%201%2C%20%22lat%22%3A%203.593188%2C%20%22lon%22%3A%20-77.039419%2C%20%22name%22%3A%20%22Buenaventura%22%2C%20%22stemname%22%3A%20%22BUENAVENTURA%22%7D%2C%20%22type%22%3A%20%22Feature%22%7D%2C%20%7B%22bbox%22%3A%20%5B30.0%2C%20-3.5%2C%2030.0%2C%20-3.5%5D%2C%20%22geometry%22%3A%20%7B%22coordinates%22%3A%20%5B30.0%2C%20-3.5%5D%2C%20%22type%22%3A%20%22Point%22%7D%2C%20%22id%22%3A%20%228%22%2C%20%22properties%22%3A%20%7B%22__folium_color%22%3A%20%22%23440154%22%2C%20%22count%22%3A%201%2C%20%22lat%22%3A%20-3.5%2C%20%22lon%22%3A%2030.0%2C%20%22name%22%3A%20%22Burundi%22%2C%20%22stemname%22%3A%20%22BURUNDI%22%7D%2C%20%22type%22%3A%20%22Feature%22%7D%2C%20%7B%22bbox%22%3A%20%5B29.75%2C%20-19.0%2C%2029.75%2C%20-19.0%5D%2C%20%22geometry%22%3A%20%7B%22coordinates%22%3A%20%5B29.75%2C%20-19.0%5D%2C%20%22type%22%3A%20%22Point%22%7D%2C%20%22id%22%3A%20%229%22%2C%20%22properties%22%3A%20%7B%22__folium_color%22%3A%20%22%23440154%22%2C%20%22count%22%3A%201%2C%20%22lat%22%3A%20-19.0%2C%20%22lon%22%3A%2029.75%2C%20%22name%22%3A%20%22Zimbabwe%22%2C%20%22stemname%22%3A%20%22ZIMBABWE%22%7D%2C%20%22type%22%3A%20%22Feature%22%7D%2C%20%7B%22bbox%22%3A%20%5B-86.5%2C%2015.0%2C%20-86.5%2C%2015.0%5D%2C%20%22geometry%22%3A%20%7B%22coordinates%22%3A%20%5B-86.5%2C%2015.0%5D%2C%20%22type%22%3A%20%22Point%22%7D%2C%20%22id%22%3A%20%2210%22%2C%20%22properties%22%3A%20%7B%22__folium_color%22%3A%20%22%233b528b%22%2C%20%22count%22%3A%202%2C%20%22lat%22%3A%2015.0%2C%20%22lon%22%3A%20-86.5%2C%20%22name%22%3A%20%22Honduras%22%2C%20%22stemname%22%3A%20%22HONDURAS%22%7D%2C%20%22type%22%3A%20%22Feature%22%7D%5D%2C%20%22type%22%3A%20%22FeatureCollection%22%7D%29%3B%0A%0A%20%20%20%20%20%20%20%20%0A%20%20%20%20%0A%20%20%20%20geo_json_d38619e13c9d4c798872b5ecbf3dd6f6.bindTooltip%28%0A%20%20%20%20function%28layer%29%7B%0A%20%20%20%20let%20div%20%3D%20L.DomUtil.create%28%27div%27%29%3B%0A%20%20%20%20%0A%20%20%20%20let%20handleObject%20%3D%20feature%3D%3Etypeof%28feature%29%3D%3D%27object%27%20%3F%20JSON.stringify%28feature%29%20%3A%20feature%3B%0A%20%20%20%20let%20fields%20%3D%20%5B%22count%22%2C%20%22name%22%2C%20%22lat%22%2C%20%22lon%22%2C%20%22stemname%22%5D%3B%0A%20%20%20%20let%20aliases%20%3D%20%5B%22count%22%2C%20%22name%22%2C%20%22lat%22%2C%20%22lon%22%2C%20%22stemname%22%5D%3B%0A%20%20%20%20let%20table%20%3D%20%27%3Ctable%3E%27%20%2B%0A%20%20%20%20%20%20%20%20String%28%0A%20%20%20%20%20%20%20%20fields.map%28%0A%20%20%20%20%20%20%20%20%28v%2Ci%29%3D%3E%0A%20%20%20%20%20%20%20%20%60%3Ctr%3E%0A%20%20%20%20%20%20%20%20%20%20%20%20%3Cth%3E%24%7Baliases%5Bi%5D%7D%3C/th%3E%0A%20%20%20%20%20%20%20%20%20%20%20%20%0A%20%20%20%20%20%20%20%20%20%20%20%20%3Ctd%3E%24%7BhandleObject%28layer.feature.properties%5Bv%5D%29%7D%3C/td%3E%0A%20%20%20%20%20%20%20%20%3C/tr%3E%60%29.join%28%27%27%29%29%0A%20%20%20%20%2B%27%3C/table%3E%27%3B%0A%20%20%20%20div.innerHTML%3Dtable%3B%0A%20%20%20%20%0A%20%20%20%20return%20div%0A%20%20%20%20%7D%0A%20%20%20%20%2C%7B%22className%22%3A%20%22foliumtooltip%22%2C%20%22sticky%22%3A%20true%7D%29%3B%0A%20%20%20%20%20%20%20%20%20%20%20%20%20%20%20%20%20%20%20%20%20%0A%3C/script%3E onload=\"this.contentDocument.open();this.contentDocument.write(    decodeURIComponent(this.getAttribute('data-html')));this.contentDocument.close();\" allowfullscreen webkitallowfullscreen mozallowfullscreen></iframe></div></div>"
      ],
      "text/plain": [
       "<branca.element.Figure at 0x29064c850>"
      ]
     },
     "execution_count": 10,
     "metadata": {},
     "output_type": "execute_result"
    }
   ],
   "source": [
    "pointMap = folium.Figure(width='35%')\n",
    "gpd.GeoSeries.explore(\n",
    "    geo,\n",
    "    color=color_list,\n",
    "    max_bounds=True,\n",
    "    tiles=\"Open Street Map\",  # \"Stamen Watercolor\",\n",
    "    marker_type='circle',\n",
    "    marker_kwds={\n",
    "        'radius': 50000,\n",
    "        'fill': True}).add_to(pointMap)\n",
    "\n",
    "# folium.TileLayer(tiles='stamen watercolor', name=\"Watercolor\").add_to(pointMap)\n",
    "\n",
    "pointMap"
   ]
  },
  {
   "cell_type": "code",
   "execution_count": null,
   "id": "b1003c0c",
   "metadata": {},
   "outputs": [],
   "source": []
  }
 ],
 "metadata": {
  "interpreter": {
   "hash": "6f27b1ac1f3c4d24f3bed65284a701a85f5d2e00d7c931fdc99d3fd228b36775"
  },
  "jupytext": {
   "cell_metadata_filter": "-all",
   "main_language": "python",
   "notebook_metadata_filter": "-all"
  },
  "kernelspec": {
   "display_name": "Python 3.8.12 64-bit ('geo871': conda)",
   "language": "python",
   "name": "python3"
  },
  "language_info": {
   "codemirror_mode": {
    "name": "ipython",
    "version": 3
   },
   "file_extension": ".py",
   "mimetype": "text/x-python",
   "name": "python",
   "nbconvert_exporter": "python",
   "pygments_lexer": "ipython3",
   "version": "3.8.12"
  }
 },
 "nbformat": 4,
 "nbformat_minor": 5
}
